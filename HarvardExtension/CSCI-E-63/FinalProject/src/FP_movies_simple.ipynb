{
 "cells": [
  {
   "cell_type": "code",
   "execution_count": 65,
   "metadata": {
    "collapsed": false
   },
   "outputs": [
    {
     "data": {
      "text/html": [
       "<div style=\"overflow:auto\"><table style=\"width:50%\"><tr><td>H2O cluster uptime: </td>\n",
       "<td>9 days 3 hours 22 minutes 30 seconds 514 milliseconds </td></tr>\n",
       "<tr><td>H2O cluster version: </td>\n",
       "<td>3.8.2.3</td></tr>\n",
       "<tr><td>H2O cluster name: </td>\n",
       "<td>H2O_started_from_python_joe_igy224</td></tr>\n",
       "<tr><td>H2O cluster total nodes: </td>\n",
       "<td>1</td></tr>\n",
       "<tr><td>H2O cluster total free memory: </td>\n",
       "<td>631.7 MB</td></tr>\n",
       "<tr><td>H2O cluster total cores: </td>\n",
       "<td>1</td></tr>\n",
       "<tr><td>H2O cluster allowed cores: </td>\n",
       "<td>1</td></tr>\n",
       "<tr><td>H2O cluster healthy: </td>\n",
       "<td>True</td></tr>\n",
       "<tr><td>H2O Connection ip: </td>\n",
       "<td>127.0.0.1</td></tr>\n",
       "<tr><td>H2O Connection port: </td>\n",
       "<td>54321</td></tr>\n",
       "<tr><td>H2O Connection proxy: </td>\n",
       "<td>None</td></tr>\n",
       "<tr><td>Python Version: </td>\n",
       "<td>2.7.11</td></tr></table></div>"
      ],
      "text/plain": [
       "------------------------------  -----------------------------------------------------\n",
       "H2O cluster uptime:             9 days 3 hours 22 minutes 30 seconds 514 milliseconds\n",
       "H2O cluster version:            3.8.2.3\n",
       "H2O cluster name:               H2O_started_from_python_joe_igy224\n",
       "H2O cluster total nodes:        1\n",
       "H2O cluster total free memory:  631.7 MB\n",
       "H2O cluster total cores:        1\n",
       "H2O cluster allowed cores:      1\n",
       "H2O cluster healthy:            True\n",
       "H2O Connection ip:              127.0.0.1\n",
       "H2O Connection port:            54321\n",
       "H2O Connection proxy:\n",
       "Python Version:                 2.7.11\n",
       "------------------------------  -----------------------------------------------------"
      ]
     },
     "metadata": {},
     "output_type": "display_data"
    }
   ],
   "source": [
    "import h2o\n",
    "h2o.init()            #uses all cores by default\n",
    "h2o.remove_all()      #clean slate, in case cluster was already running"
   ]
  },
  {
   "cell_type": "code",
   "execution_count": 66,
   "metadata": {
    "collapsed": false
   },
   "outputs": [
    {
     "name": "stdout",
     "output_type": "stream",
     "text": [
      "\n",
      "Parse Progress: [##################################################] 100%\n",
      "(7071, 17)\n",
      "5666 1405\n"
     ]
    }
   ],
   "source": [
    "from h2o.estimators.glm import H2OGeneralizedLinearEstimator\n",
    "import numpy as np\n",
    "\n",
    "df = h2o.import_file('FP_movies.psv')\n",
    "print df.shape #(rows,columns)\n",
    "train, test = df.split_frame([0.8], seed=63)\n",
    "print len(train), len(test)"
   ]
  },
  {
   "cell_type": "code",
   "execution_count": 67,
   "metadata": {
    "collapsed": false
   },
   "outputs": [
    {
     "data": {
      "image/png": "[encoded data removed]",
      "text/plain": [
       "<matplotlib.figure.Figure at 0x7f166eecbf10>"
      ]
     },
     "metadata": {},
     "output_type": "display_data"
    }
   ],
   "source": [
    "%matplotlib inline\n",
    "from pylab import hist\n",
    "import matplotlib\n",
    "\n",
    "\n",
    "py_df =  df['rtAllCriticsRating'].as_data_frame(use_pandas=False)\n",
    "py_df = py_df[1:3000]\n",
    "#print len(py_df[2])\n",
    "ratings = [float(row[0]) for row in py_df[1:]]\n",
    "hist(ratings, bins=30, color='lightblue', normed=True)\n",
    "fig = matplotlib.pyplot.gcf()\n",
    "fig.set_size_inches(8, 5)"
   ]
  },
  {
   "cell_type": "code",
   "execution_count": 68,
   "metadata": {
    "collapsed": false,
    "scrolled": true
   },
   "outputs": [
    {
     "data": {
      "text/html": [
       "<table>\n",
       "<tr><th style=\"text-align: right;\">  id</th><th>title                 </th><th style=\"text-align: right;\">  year</th><th>country  </th><th>directorName       </th><th>Actor1         </th><th>Actor2         </th><th>Actor3        </th><th style=\"text-align: right;\">  rtAllCriticsRating</th><th style=\"text-align: right;\">  MovieStarPower</th><th style=\"text-align: right;\">  MovieStarPowerWCntry</th><th style=\"text-align: right;\">  AudienceRating</th><th style=\"text-align: right;\">  StarAud</th><th>Genre1  </th><th>Genre2  </th><th>Genre3   </th><th>Actor1NameEndsInA  </th></tr>\n",
       "<tr><td style=\"text-align: right;\">   2</td><td>Jumanji               </td><td style=\"text-align: right;\">  1995</td><td>USA      </td><td>Joe Johnston       </td><td>Robin Williams </td><td>Bonnie Hunt    </td><td>Kirsten Dunst </td><td style=\"text-align: right;\">                 5.6</td><td style=\"text-align: right;\">             159</td><td style=\"text-align: right;\">                 52.47</td><td style=\"text-align: right;\">             3.2</td><td style=\"text-align: right;\">   3.7247</td><td>Children</td><td>Fantasy </td><td>Adventure</td><td>F                  </td></tr>\n",
       "<tr><td style=\"text-align: right;\">  11</td><td>The American President</td><td style=\"text-align: right;\">  1995</td><td>USA      </td><td>Rob Reiner         </td><td>Michael Douglas</td><td>Annette Bening </td><td>Martin Sheen  </td><td style=\"text-align: right;\">                 7  </td><td style=\"text-align: right;\">             138</td><td style=\"text-align: right;\">                 45.54</td><td style=\"text-align: right;\">             3.2</td><td style=\"text-align: right;\">   3.6554</td><td>Romance </td><td>Comedy  </td><td>Drama    </td><td>F                  </td></tr>\n",
       "<tr><td style=\"text-align: right;\">  18</td><td>Four Rooms            </td><td style=\"text-align: right;\">  1995</td><td>USA      </td><td>Alexandre Rockwell </td><td>Tim Roth       </td><td>Valeria Golino </td><td>Jennifer Beals</td><td style=\"text-align: right;\">                 3.5</td><td style=\"text-align: right;\">              82</td><td style=\"text-align: right;\">                 27.06</td><td style=\"text-align: right;\">             3.5</td><td style=\"text-align: right;\">   3.7706</td><td>Thriller</td><td>Comedy  </td><td>Drama    </td><td>F                  </td></tr>\n",
       "<tr><td style=\"text-align: right;\">  20</td><td>Money Train           </td><td style=\"text-align: right;\">  1995</td><td>USA      </td><td>Joseph Ruben       </td><td>Wesley Snipes  </td><td>Woody Harrelson</td><td>Jennifer Lopez</td><td style=\"text-align: right;\">                 4  </td><td style=\"text-align: right;\">             152</td><td style=\"text-align: right;\">                 50.16</td><td style=\"text-align: right;\">             2.7</td><td style=\"text-align: right;\">   3.2016</td><td>Crime   </td><td>Action  </td><td>Thriller </td><td>F                  </td></tr>\n",
       "<tr><td style=\"text-align: right;\">  27</td><td>Now and Then          </td><td style=\"text-align: right;\">  1995</td><td>USA      </td><td>Lesli Linka Glatter</td><td>Christina Ricci</td><td>Thora Birch    </td><td>Gaby Hoffmann </td><td style=\"text-align: right;\">                 4.7</td><td style=\"text-align: right;\">              78</td><td style=\"text-align: right;\">                 25.74</td><td style=\"text-align: right;\">             3.5</td><td style=\"text-align: right;\">   3.7574</td><td>Drama   </td><td>Drama   </td><td>Drama    </td><td>T                  </td></tr>\n",
       "</table>"
      ]
     },
     "metadata": {},
     "output_type": "display_data"
    },
    {
     "data": {
      "text/plain": []
     },
     "execution_count": 68,
     "metadata": {},
     "output_type": "execute_result"
    }
   ],
   "source": [
    "train.head(5)"
   ]
  },
  {
   "cell_type": "code",
   "execution_count": 69,
   "metadata": {
    "collapsed": false,
    "scrolled": true
   },
   "outputs": [
    {
     "data": {
      "text/html": [
       "<table>\n",
       "<tr><th style=\"text-align: right;\">  id</th><th>title            </th><th style=\"text-align: right;\">  year</th><th>country  </th><th>directorName        </th><th>Actor1               </th><th>Actor2              </th><th>Actor3          </th><th style=\"text-align: right;\">  rtAllCriticsRating</th><th style=\"text-align: right;\">  MovieStarPower</th><th style=\"text-align: right;\">  MovieStarPowerWCntry</th><th style=\"text-align: right;\">  AudienceRating</th><th style=\"text-align: right;\">  StarAud</th><th>Genre1  </th><th>Genre2  </th><th>Genre3  </th><th>Actor1NameEndsInA  </th></tr>\n",
       "<tr><td style=\"text-align: right;\">   4</td><td>Waiting to Exhale</td><td style=\"text-align: right;\">  1995</td><td>USA      </td><td>Forest Whitaker     </td><td>Whitney Houston      </td><td>Angela Bassett      </td><td>Loretta Devine  </td><td style=\"text-align: right;\">                 5.6</td><td style=\"text-align: right;\">              52</td><td style=\"text-align: right;\">                 17.16</td><td style=\"text-align: right;\">             3.3</td><td style=\"text-align: right;\">   3.4716</td><td>Romance </td><td>Comedy  </td><td>Drama   </td><td>F                  </td></tr>\n",
       "<tr><td style=\"text-align: right;\">   9</td><td>Sudden Death     </td><td style=\"text-align: right;\">  1995</td><td>USA      </td><td>Peter Hyams         </td><td>Jean-Claude Van Damme</td><td>Powers Boothe       </td><td>Raymond J. Barry</td><td style=\"text-align: right;\">                 5.2</td><td style=\"text-align: right;\">              75</td><td style=\"text-align: right;\">                 24.75</td><td style=\"text-align: right;\">             2.6</td><td style=\"text-align: right;\">   2.8475</td><td>Action  </td><td>Action  </td><td>Action  </td><td>F                  </td></tr>\n",
       "<tr><td style=\"text-align: right;\">  52</td><td>Mighty Aphrodite </td><td style=\"text-align: right;\">  1995</td><td>USA      </td><td>Woody Allen         </td><td>Woody Allen          </td><td>Helena Bonham Carter</td><td>Mira Sorvino    </td><td style=\"text-align: right;\">                 6.7</td><td style=\"text-align: right;\">             128</td><td style=\"text-align: right;\">                 42.24</td><td style=\"text-align: right;\">             3.3</td><td style=\"text-align: right;\">   3.7224</td><td>Romance </td><td>Comedy  </td><td>Drama   </td><td>F                  </td></tr>\n",
       "<tr><td style=\"text-align: right;\">  54</td><td>The Big Green    </td><td style=\"text-align: right;\">  1995</td><td>USA      </td><td>Holly Goldberg Sloan</td><td>Yareli Arizmendi     </td><td>John Bourg          </td><td>Olivia d'Abo    </td><td style=\"text-align: right;\">                 2.8</td><td style=\"text-align: right;\">              14</td><td style=\"text-align: right;\">                  4.62</td><td style=\"text-align: right;\">             2.7</td><td style=\"text-align: right;\">   2.7462</td><td>Children</td><td>Comedy  </td><td>Children</td><td>F                  </td></tr>\n",
       "<tr><td style=\"text-align: right;\"> 154</td><td>Belle de jour    </td><td style=\"text-align: right;\">  1967</td><td>France   </td><td>Luis Bu<0xF1>uel    </td><td>Catherine Deneuve    </td><td>Jean Sorel          </td><td>Michel Piccoli  </td><td style=\"text-align: right;\">                 8.6</td><td style=\"text-align: right;\">              60</td><td style=\"text-align: right;\">                 56.4 </td><td style=\"text-align: right;\">             4  </td><td style=\"text-align: right;\">   4.564 </td><td>Drama   </td><td>Drama   </td><td>Drama   </td><td>F                  </td></tr>\n",
       "</table>"
      ]
     },
     "metadata": {},
     "output_type": "display_data"
    },
    {
     "data": {
      "text/plain": []
     },
     "execution_count": 69,
     "metadata": {},
     "output_type": "execute_result"
    }
   ],
   "source": [
    "test.head(5)"
   ]
  },
  {
   "cell_type": "code",
   "execution_count": 70,
   "metadata": {
    "collapsed": false
   },
   "outputs": [
    {
     "name": "stdout",
     "output_type": "stream",
     "text": [
      "\n",
      "glm Model Build Progress: [##################################################] 100%\n",
      "Model Details\n",
      "=============\n",
      "H2OGeneralizedLinearEstimator :  Generalized Linear Modeling\n",
      "Model Key:  glm_movie_simple\n",
      "\n",
      "GLM Model: summary\n",
      "\n"
     ]
    },
    {
     "data": {
      "text/html": [
       "<div style=\"overflow:auto\"><table style=\"width:50%\"><tr><td><b></b></td>\n",
       "<td><b>family</b></td>\n",
       "<td><b>link</b></td>\n",
       "<td><b>regularization</b></td>\n",
       "<td><b>lambda_search</b></td>\n",
       "<td><b>number_of_predictors_total</b></td>\n",
       "<td><b>number_of_active_predictors</b></td>\n",
       "<td><b>number_of_iterations</b></td>\n",
       "<td><b>training_frame</b></td></tr>\n",
       "<tr><td></td>\n",
       "<td>gaussian</td>\n",
       "<td>identity</td>\n",
       "<td>Elastic Net (alpha = 0.5, lambda = 1.737E-4 )</td>\n",
       "<td>nlambda = 100, lambda_max = 0.0, best_lambda = 1.737E-4</td>\n",
       "<td>2</td>\n",
       "<td>1</td>\n",
       "<td>0</td>\n",
       "<td>py_74</td></tr></table></div>"
      ],
      "text/plain": [
       "    family    link      regularization                                 lambda_search                                            number_of_predictors_total    number_of_active_predictors    number_of_iterations    training_frame\n",
       "--  --------  --------  ---------------------------------------------  -------------------------------------------------------  ----------------------------  -----------------------------  ----------------------  ----------------\n",
       "    gaussian  identity  Elastic Net (alpha = 0.5, lambda = 1.737E-4 )  nlambda = 100, lambda_max = 0.0, best_lambda = 1.737E-4  2                             1                              0                       py_74"
      ]
     },
     "metadata": {},
     "output_type": "display_data"
    },
    {
     "name": "stdout",
     "output_type": "stream",
     "text": [
      "\n",
      "\n",
      "ModelMetricsRegressionGLM: glm\n",
      "** Reported on train data. **\n",
      "\n",
      "MSE: 1.55575041977\n",
      "R^2: 0.326792597327\n",
      "Mean Residual Deviance: 1.55575041977\n",
      "Null degrees of freedom: 5663\n",
      "Residual degrees of freedom: 5662\n",
      "Null deviance: 13089.2357133\n",
      "Residual deviance: 8811.77037755\n",
      "AIC: 18582.985897\n",
      "\n",
      "Scoring History: \n"
     ]
    },
    {
     "data": {
      "text/html": [
       "<div style=\"overflow:auto\"><table style=\"width:50%\"><tr><td><b></b></td>\n",
       "<td><b>timestamp</b></td>\n",
       "<td><b>duration</b></td>\n",
       "<td><b>iteration</b></td>\n",
       "<td><b>lambda</b></td>\n",
       "<td><b>predictors</b></td>\n",
       "<td><b>explained_deviance_train</b></td>\n",
       "<td><b>explained_deviance_test</b></td></tr>\n",
       "<tr><td></td>\n",
       "<td>2016-05-10 21:59:25</td>\n",
       "<td> 0.000 sec</td>\n",
       "<td>0</td>\n",
       "<td>.17E1</td>\n",
       "<td>1</td>\n",
       "<td>-0.0000000</td>\n",
       "<td>nan</td></tr>\n",
       "<tr><td></td>\n",
       "<td>2016-05-10 21:59:25</td>\n",
       "<td> 0.008 sec</td>\n",
       "<td>0</td>\n",
       "<td>.16E1</td>\n",
       "<td>2</td>\n",
       "<td>0.0315815</td>\n",
       "<td>nan</td></tr>\n",
       "<tr><td></td>\n",
       "<td>2016-05-10 21:59:25</td>\n",
       "<td> 0.018 sec</td>\n",
       "<td>0</td>\n",
       "<td>.14E1</td>\n",
       "<td>2</td>\n",
       "<td>0.0612508</td>\n",
       "<td>nan</td></tr>\n",
       "<tr><td></td>\n",
       "<td>2016-05-10 21:59:25</td>\n",
       "<td> 0.025 sec</td>\n",
       "<td>0</td>\n",
       "<td>.13E1</td>\n",
       "<td>2</td>\n",
       "<td>0.0889495</td>\n",
       "<td>nan</td></tr>\n",
       "<tr><td></td>\n",
       "<td>2016-05-10 21:59:25</td>\n",
       "<td> 0.034 sec</td>\n",
       "<td>0</td>\n",
       "<td>.12E1</td>\n",
       "<td>2</td>\n",
       "<td>0.1146294</td>\n",
       "<td>nan</td></tr>\n",
       "<tr><td>---</td>\n",
       "<td>---</td>\n",
       "<td>---</td>\n",
       "<td>---</td>\n",
       "<td>---</td>\n",
       "<td>---</td>\n",
       "<td>---</td>\n",
       "<td>---</td></tr>\n",
       "<tr><td></td>\n",
       "<td>2016-05-10 21:59:25</td>\n",
       "<td> 0.790 sec</td>\n",
       "<td>0</td>\n",
       "<td>.25E-3</td>\n",
       "<td>2</td>\n",
       "<td>0.3267926</td>\n",
       "<td>nan</td></tr>\n",
       "<tr><td></td>\n",
       "<td>2016-05-10 21:59:25</td>\n",
       "<td> 0.796 sec</td>\n",
       "<td>0</td>\n",
       "<td>.23E-3</td>\n",
       "<td>2</td>\n",
       "<td>0.3267926</td>\n",
       "<td>nan</td></tr>\n",
       "<tr><td></td>\n",
       "<td>2016-05-10 21:59:25</td>\n",
       "<td> 0.803 sec</td>\n",
       "<td>0</td>\n",
       "<td>.21E-3</td>\n",
       "<td>2</td>\n",
       "<td>0.3267926</td>\n",
       "<td>nan</td></tr>\n",
       "<tr><td></td>\n",
       "<td>2016-05-10 21:59:25</td>\n",
       "<td> 0.813 sec</td>\n",
       "<td>0</td>\n",
       "<td>.19E-3</td>\n",
       "<td>2</td>\n",
       "<td>0.3267926</td>\n",
       "<td>nan</td></tr>\n",
       "<tr><td></td>\n",
       "<td>2016-05-10 21:59:25</td>\n",
       "<td> 0.820 sec</td>\n",
       "<td>0</td>\n",
       "<td>.17E-3</td>\n",
       "<td>2</td>\n",
       "<td>0.3267926</td>\n",
       "<td>nan</td></tr></table></div>"
      ],
      "text/plain": [
       "     timestamp            duration    iteration    lambda    predictors    explained_deviance_train    explained_deviance_test\n",
       "---  -------------------  ----------  -----------  --------  ------------  --------------------------  -------------------------\n",
       "     2016-05-10 21:59:25  0.000 sec   0            .17E1     1             -1.55431223448e-15          nan\n",
       "     2016-05-10 21:59:25  0.008 sec   0            .16E1     2             0.0315814754757             nan\n",
       "     2016-05-10 21:59:25  0.018 sec   0            .14E1     2             0.0612507695181             nan\n",
       "     2016-05-10 21:59:25  0.025 sec   0            .13E1     2             0.0889494807256             nan\n",
       "     2016-05-10 21:59:25  0.034 sec   0            .12E1     2             0.114629351763              nan\n",
       "---  ---                  ---         ---          ---       ---           ---                         ---\n",
       "     2016-05-10 21:59:25  0.790 sec   0            .25E-3    2             0.326792584966              nan\n",
       "     2016-05-10 21:59:25  0.796 sec   0            .23E-3    2             0.326792589061              nan\n",
       "     2016-05-10 21:59:25  0.803 sec   0            .21E-3    2             0.326792592461              nan\n",
       "     2016-05-10 21:59:25  0.813 sec   0            .19E-3    2             0.326792595283              nan\n",
       "     2016-05-10 21:59:25  0.820 sec   0            .17E-3    2             0.326792597626              nan"
      ]
     },
     "metadata": {},
     "output_type": "display_data"
    },
    {
     "name": "stdout",
     "output_type": "stream",
     "text": [
      "\n",
      "See the whole table with table.as_data_frame()\n"
     ]
    },
    {
     "data": {
      "text/plain": []
     },
     "execution_count": 70,
     "metadata": {},
     "output_type": "execute_result"
    }
   ],
   "source": [
    "target_simple_Y = 'rtAllCriticsRating'\n",
    "#exp_simple_X = 'MovieStarPower'\n",
    "#exp_simple_X = 'MovieStarPowerWCntry'\n",
    "exp_simple_X = 'StarAud'\n",
    "\n",
    "glm_movie_simple = H2OGeneralizedLinearEstimator(\n",
    "                    model_id='glm_movie_simple',\n",
    "                    family='gaussian', \n",
    "                    solver='IRLSM' \n",
    "                    ,lambda_search = True\n",
    "                )  \n",
    "\n",
    "glm_movie_simple.train(exp_simple_X, target_simple_Y, training_frame=train)\n",
    "glm_movie_simple"
   ]
  },
  {
   "cell_type": "code",
   "execution_count": 71,
   "metadata": {
    "collapsed": false
   },
   "outputs": [
    {
     "name": "stdout",
     "output_type": "stream",
     "text": [
      "RMSE: 1.24729724595\n",
      "\n",
      "glm prediction Progress: [##################################################] 100%\n",
      "GLM predictions: \n",
      "title                StarAud    rtAllCriticsRating    predict\n",
      "-----------------  ---------  --------------------  ---------\n",
      "Waiting to Exhale     3.4716                   5.6    5.61492\n",
      "Sudden Death          2.8475                   5.2    4.5006\n",
      "Mighty Aphrodite      3.7224                   6.7    6.06272\n",
      "The Big Green         2.7462                   2.8    4.31973\n",
      "Belle de jour         4.564                    8.6    7.56537\n",
      "\n",
      "[5 rows x 4 columns]\n",
      "\n",
      "Export File Progress: [##################################################] 100%\n"
     ]
    }
   ],
   "source": [
    "print 'RMSE: {0}'.format(np.sqrt(glm_movie_simple.mse())) \n",
    "glm_movie_simple_pred = glm_movie_simple.predict(test)\n",
    "\n",
    "df_movie_simple_out = test[['title','StarAud','rtAllCriticsRating']].cbind(glm_movie_simple_pred)\n",
    "print(\"GLM predictions: \")\n",
    "print df_movie_simple_out.head(5)\n",
    "\n",
    "h2o.export_file(frame=df_movie_simple_out, path='movie_SIMPLE_out.csv', force=True)"
   ]
  },
  {
   "cell_type": "code",
   "execution_count": 72,
   "metadata": {
    "collapsed": false
   },
   "outputs": [
    {
     "name": "stdout",
     "output_type": "stream",
     "text": [
      "143\n",
      "\n",
      "Export File Progress: [##################################################] 100%\n"
     ]
    }
   ],
   "source": [
    "output, remainder = df_movie_simple_out.split_frame([0.1], seed=63)\n",
    "print len(output)\n",
    "h2o.export_file(frame=output, path='movie_SIMPLE_out_SHORT.csv', force=True)\n"
   ]
  }
 ],
 "metadata": {
  "kernelspec": {
   "display_name": "Python 2",
   "language": "python",
   "name": "python2"
  },
  "language_info": {
   "codemirror_mode": {
    "name": "ipython",
    "version": 2
   },
   "file_extension": ".py",
   "mimetype": "text/x-python",
   "name": "python",
   "nbconvert_exporter": "python",
   "pygments_lexer": "ipython2",
   "version": "2.7.11"
  }
 },
 "nbformat": 4,
 "nbformat_minor": 0
}
