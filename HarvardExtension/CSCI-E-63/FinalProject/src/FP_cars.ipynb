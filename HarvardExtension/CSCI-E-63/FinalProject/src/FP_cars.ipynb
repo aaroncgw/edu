{
 "cells": [
  {
   "cell_type": "code",
   "execution_count": 2,
   "metadata": {
    "collapsed": false,
    "scrolled": true
   },
   "outputs": [
    {
     "data": {
      "text/html": [
       "<div style=\"overflow:auto\"><table style=\"width:50%\"><tr><td>H2O cluster uptime: </td>\n",
       "<td>8 days 12 hours 53 minutes 56 seconds 387 milliseconds </td></tr>\n",
       "<tr><td>H2O cluster version: </td>\n",
       "<td>3.8.2.3</td></tr>\n",
       "<tr><td>H2O cluster name: </td>\n",
       "<td>H2O_started_from_python_joe_igy224</td></tr>\n",
       "<tr><td>H2O cluster total nodes: </td>\n",
       "<td>1</td></tr>\n",
       "<tr><td>H2O cluster total free memory: </td>\n",
       "<td>634.65 MB</td></tr>\n",
       "<tr><td>H2O cluster total cores: </td>\n",
       "<td>1</td></tr>\n",
       "<tr><td>H2O cluster allowed cores: </td>\n",
       "<td>1</td></tr>\n",
       "<tr><td>H2O cluster healthy: </td>\n",
       "<td>True</td></tr>\n",
       "<tr><td>H2O Connection ip: </td>\n",
       "<td>127.0.0.1</td></tr>\n",
       "<tr><td>H2O Connection port: </td>\n",
       "<td>54321</td></tr>\n",
       "<tr><td>H2O Connection proxy: </td>\n",
       "<td>None</td></tr>\n",
       "<tr><td>Python Version: </td>\n",
       "<td>2.7.11</td></tr></table></div>"
      ],
      "text/plain": [
       "------------------------------  ------------------------------------------------------\n",
       "H2O cluster uptime:             8 days 12 hours 53 minutes 56 seconds 387 milliseconds\n",
       "H2O cluster version:            3.8.2.3\n",
       "H2O cluster name:               H2O_started_from_python_joe_igy224\n",
       "H2O cluster total nodes:        1\n",
       "H2O cluster total free memory:  634.65 MB\n",
       "H2O cluster total cores:        1\n",
       "H2O cluster allowed cores:      1\n",
       "H2O cluster healthy:            True\n",
       "H2O Connection ip:              127.0.0.1\n",
       "H2O Connection port:            54321\n",
       "H2O Connection proxy:\n",
       "Python Version:                 2.7.11\n",
       "------------------------------  ------------------------------------------------------"
      ]
     },
     "metadata": {},
     "output_type": "display_data"
    }
   ],
   "source": [
    "import h2o\n",
    "h2o.init()            #uses all cores by default\n",
    "h2o.remove_all()      #clean slate, in case cluster was already running"
   ]
  },
  {
   "cell_type": "code",
   "execution_count": 3,
   "metadata": {
    "collapsed": false
   },
   "outputs": [
    {
     "name": "stdout",
     "output_type": "stream",
     "text": [
      "\n",
      "Parse Progress: [##################################################] 100%\n",
      "81 19\n"
     ]
    }
   ],
   "source": [
    "from h2o.estimators.glm import H2OGeneralizedLinearEstimator\n",
    "import numpy as np\n",
    "\n",
    "df = h2o.import_file('small_car.csv')\n",
    "#help(h2o.import_file)\n",
    "train, test = df.split_frame([0.8], seed=63)\n",
    "print len(train), len(test)"
   ]
  },
  {
   "cell_type": "code",
   "execution_count": 4,
   "metadata": {
    "collapsed": true
   },
   "outputs": [],
   "source": [
    "target_simple_Y = 'Horsepower'\n",
    "exp_simple_X = 'Displacement'\n",
    "\n",
    "target_multi_Y = 'Horsepower'\n",
    "exp_multi_X = ['Cylinders', 'Displacement', 'Manufacturer', 'Model_Year', 'Origin', 'Weight']"
   ]
  },
  {
   "cell_type": "code",
   "execution_count": 5,
   "metadata": {
    "collapsed": true
   },
   "outputs": [],
   "source": [
    "glm_simple_cars = H2OGeneralizedLinearEstimator(\n",
    "                    model_id='glm_simple_cars',  #will appear in Flow by this name\n",
    "                    family='gaussian', \n",
    "                    solver='IRLSM' #'L_BFGS' is the other GLM solveraka\n",
    "                    ,lambda_search = True\n",
    "                )  \n",
    "\n",
    "glm_multi_cars = H2OGeneralizedLinearEstimator(\n",
    "                    model_id='glm_multi_cars', \n",
    "                    family='gaussian', \n",
    "                    solver='IRLSM' \n",
    "                    ,lambda_search = True\n",
    "                )  "
   ]
  },
  {
   "cell_type": "code",
   "execution_count": 6,
   "metadata": {
    "collapsed": false
   },
   "outputs": [
    {
     "name": "stdout",
     "output_type": "stream",
     "text": [
      "\n",
      "glm Model Build Progress: [##################################################] 100%\n",
      "\n",
      "glm Model Build Progress: [##################################################] 100%\n"
     ]
    }
   ],
   "source": [
    "glm_simple_cars.train(exp_simple_X, target_simple_Y, training_frame=train) #, validation_frame=valid)\n",
    "glm_multi_cars.train(exp_multi_X, target_multi_Y, training_frame=train) #, validation_frame=valid)"
   ]
  },
  {
   "cell_type": "code",
   "execution_count": 7,
   "metadata": {
    "collapsed": false
   },
   "outputs": [
    {
     "name": "stdout",
     "output_type": "stream",
     "text": [
      "Model Details\n",
      "=============\n",
      "H2OGeneralizedLinearEstimator :  Generalized Linear Modeling\n",
      "Model Key:  glm_simple_cars\n",
      "\n",
      "GLM Model: summary\n",
      "\n"
     ]
    },
    {
     "data": {
      "text/html": [
       "<div style=\"overflow:auto\"><table style=\"width:50%\"><tr><td><b></b></td>\n",
       "<td><b>family</b></td>\n",
       "<td><b>link</b></td>\n",
       "<td><b>regularization</b></td>\n",
       "<td><b>lambda_search</b></td>\n",
       "<td><b>number_of_predictors_total</b></td>\n",
       "<td><b>number_of_active_predictors</b></td>\n",
       "<td><b>number_of_iterations</b></td>\n",
       "<td><b>training_frame</b></td></tr>\n",
       "<tr><td></td>\n",
       "<td>gaussian</td>\n",
       "<td>identity</td>\n",
       "<td>Elastic Net (alpha = 0.5, lambda = 0.008369 )</td>\n",
       "<td>nlambda = 100, lambda_max = 0.0, best_lambda = 0.008369</td>\n",
       "<td>2</td>\n",
       "<td>1</td>\n",
       "<td>0</td>\n",
       "<td>py_2</td></tr></table></div>"
      ],
      "text/plain": [
       "    family    link      regularization                                 lambda_search                                            number_of_predictors_total    number_of_active_predictors    number_of_iterations    training_frame\n",
       "--  --------  --------  ---------------------------------------------  -------------------------------------------------------  ----------------------------  -----------------------------  ----------------------  ----------------\n",
       "    gaussian  identity  Elastic Net (alpha = 0.5, lambda = 0.008369 )  nlambda = 100, lambda_max = 0.0, best_lambda = 0.008369  2                             1                              0                       py_2"
      ]
     },
     "metadata": {},
     "output_type": "display_data"
    },
    {
     "name": "stdout",
     "output_type": "stream",
     "text": [
      "\n",
      "\n",
      "ModelMetricsRegressionGLM: glm\n",
      "** Reported on train data. **\n",
      "\n",
      "MSE: 304.011240948\n",
      "R^2: 0.853623161308\n",
      "Mean Residual Deviance: 304.011240948\n",
      "Null degrees of freedom: 80\n",
      "Residual degrees of freedom: 79\n",
      "Null deviance: 168229.555556\n",
      "Residual deviance: 24624.9105168\n",
      "AIC: 698.950281259\n",
      "\n",
      "Scoring History: \n"
     ]
    },
    {
     "data": {
      "text/html": [
       "<div style=\"overflow:auto\"><table style=\"width:50%\"><tr><td><b></b></td>\n",
       "<td><b>timestamp</b></td>\n",
       "<td><b>duration</b></td>\n",
       "<td><b>iteration</b></td>\n",
       "<td><b>lambda</b></td>\n",
       "<td><b>predictors</b></td>\n",
       "<td><b>explained_deviance_train</b></td>\n",
       "<td><b>explained_deviance_test</b></td></tr>\n",
       "<tr><td></td>\n",
       "<td>2016-05-10 07:31:15</td>\n",
       "<td> 0.000 sec</td>\n",
       "<td>0</td>\n",
       "<td>.84E2</td>\n",
       "<td>1</td>\n",
       "<td>0.0000000</td>\n",
       "<td>nan</td></tr>\n",
       "<tr><td></td>\n",
       "<td>2016-05-10 07:31:15</td>\n",
       "<td> 0.000 sec</td>\n",
       "<td>0</td>\n",
       "<td>.76E2</td>\n",
       "<td>2</td>\n",
       "<td>0.0038224</td>\n",
       "<td>nan</td></tr>\n",
       "<tr><td></td>\n",
       "<td>2016-05-10 07:31:15</td>\n",
       "<td> 0.001 sec</td>\n",
       "<td>0</td>\n",
       "<td>.69E2</td>\n",
       "<td>2</td>\n",
       "<td>0.0079919</td>\n",
       "<td>nan</td></tr>\n",
       "<tr><td></td>\n",
       "<td>2016-05-10 07:31:15</td>\n",
       "<td> 0.001 sec</td>\n",
       "<td>0</td>\n",
       "<td>.63E2</td>\n",
       "<td>2</td>\n",
       "<td>0.0125327</td>\n",
       "<td>nan</td></tr>\n",
       "<tr><td></td>\n",
       "<td>2016-05-10 07:31:15</td>\n",
       "<td> 0.001 sec</td>\n",
       "<td>0</td>\n",
       "<td>.58E2</td>\n",
       "<td>2</td>\n",
       "<td>0.0174729</td>\n",
       "<td>nan</td></tr>\n",
       "<tr><td>---</td>\n",
       "<td>---</td>\n",
       "<td>---</td>\n",
       "<td>---</td>\n",
       "<td>---</td>\n",
       "<td>---</td>\n",
       "<td>---</td>\n",
       "<td>---</td></tr>\n",
       "<tr><td></td>\n",
       "<td>2016-05-10 07:31:15</td>\n",
       "<td> 0.092 sec</td>\n",
       "<td>0</td>\n",
       "<td>.12E-1</td>\n",
       "<td>2</td>\n",
       "<td>0.8536057</td>\n",
       "<td>nan</td></tr>\n",
       "<tr><td></td>\n",
       "<td>2016-05-10 07:31:15</td>\n",
       "<td> 0.094 sec</td>\n",
       "<td>0</td>\n",
       "<td>.11E-1</td>\n",
       "<td>2</td>\n",
       "<td>0.8536113</td>\n",
       "<td>nan</td></tr>\n",
       "<tr><td></td>\n",
       "<td>2016-05-10 07:31:15</td>\n",
       "<td> 0.095 sec</td>\n",
       "<td>0</td>\n",
       "<td>.1E-1</td>\n",
       "<td>2</td>\n",
       "<td>0.8536160</td>\n",
       "<td>nan</td></tr>\n",
       "<tr><td></td>\n",
       "<td>2016-05-10 07:31:15</td>\n",
       "<td> 0.095 sec</td>\n",
       "<td>0</td>\n",
       "<td>.92E-2</td>\n",
       "<td>2</td>\n",
       "<td>0.8536199</td>\n",
       "<td>nan</td></tr>\n",
       "<tr><td></td>\n",
       "<td>2016-05-10 07:31:15</td>\n",
       "<td> 0.095 sec</td>\n",
       "<td>0</td>\n",
       "<td>.84E-2</td>\n",
       "<td>2</td>\n",
       "<td>0.8536232</td>\n",
       "<td>nan</td></tr></table></div>"
      ],
      "text/plain": [
       "     timestamp            duration    iteration    lambda    predictors    explained_deviance_train    explained_deviance_test\n",
       "---  -------------------  ----------  -----------  --------  ------------  --------------------------  -------------------------\n",
       "     2016-05-10 07:31:15  0.000 sec   0            .84E2     1             3.33066907388e-16           nan\n",
       "     2016-05-10 07:31:15  0.000 sec   0            .76E2     2             0.00382241785851            nan\n",
       "     2016-05-10 07:31:15  0.001 sec   0            .69E2     2             0.00799191958806            nan\n",
       "     2016-05-10 07:31:15  0.001 sec   0            .63E2     2             0.0125327189641             nan\n",
       "     2016-05-10 07:31:15  0.001 sec   0            .58E2     2             0.017472899717              nan\n",
       "---  ---                  ---         ---          ---       ---           ---                         ---\n",
       "     2016-05-10 07:31:15  0.092 sec   0            .12E-1    2             0.853605695043              nan\n",
       "     2016-05-10 07:31:15  0.094 sec   0            .11E-1    2             0.853611333897              nan\n",
       "     2016-05-10 07:31:15  0.095 sec   0            .1E-1     2             0.853616022634              nan\n",
       "     2016-05-10 07:31:15  0.095 sec   0            .92E-2    2             0.853619920807              nan\n",
       "     2016-05-10 07:31:15  0.095 sec   0            .84E-2    2             0.853623161308              nan"
      ]
     },
     "metadata": {},
     "output_type": "display_data"
    },
    {
     "name": "stdout",
     "output_type": "stream",
     "text": [
      "\n",
      "See the whole table with table.as_data_frame()\n"
     ]
    },
    {
     "data": {
      "text/plain": []
     },
     "execution_count": 7,
     "metadata": {},
     "output_type": "execute_result"
    }
   ],
   "source": [
    "glm_simple_cars"
   ]
  },
  {
   "cell_type": "code",
   "execution_count": 8,
   "metadata": {
    "collapsed": false,
    "scrolled": true
   },
   "outputs": [
    {
     "name": "stdout",
     "output_type": "stream",
     "text": [
      "\n",
      "Parse Progress: [##################################################] 100%\n",
      "#my homework had MSE = 602.31 -> RMSE = 24.54\n",
      "RMSE: 17.4359181275\n",
      "\n",
      "glm prediction Progress: [##################################################] 100%\n",
      "GLM predictions: \n",
      "  Displacement    Horsepower    predict\n",
      "--------------  ------------  ---------\n",
      "           455           225   202.916\n",
      "           200            85   109.17\n",
      "           318           210   152.551\n",
      "           250           105   127.552\n",
      "            91            53    69.0986\n",
      "            97            75    71.3043\n",
      "           112            88    76.8188\n",
      "           151            90    91.1564\n",
      "            91            67    69.0986\n",
      "           232           112   120.935\n",
      "\n",
      "[10 rows x 3 columns]\n",
      "[['Displacement', 'Horsepower', 'predict'], ['455', '225', '202.9161870315443'], ['200', '85', '109.17031757223305'], ['318', '210', '152.55075912595356'], ['250', '105', '127.55186060347054'], ['91', '53', '69.09855376413529'], ['97', '75', '71.3043389278838'], ['112', '88', '76.81880183725505'], ['151', '90', '91.1564054016203'], ['91', '67', '69.09855376413529']]\n",
      "\n",
      "Export File Progress: [##################################################] 100%\n"
     ]
    }
   ],
   "source": [
    "#SIMPLE: target = horsepower, explanatory = displacement\n",
    "\n",
    "#the test set used for lecture 11, a hack since some of these are likely in the training set here\n",
    "test_simple = h2o.import_file('lec11_test.csv')\n",
    "\n",
    "print '#my homework had MSE = 602.31 -> RMSE = 24.54'\n",
    "print 'RMSE: {0}'.format(np.sqrt(glm_simple_cars.mse())) \n",
    "glm_simple_pred = glm_simple_cars.predict(test_simple)\n",
    "#print 'pred object dimensions: {0}'.format(glm_simple_pred.dim)\n",
    "\n",
    "print(\"GLM predictions: \")\n",
    "df_simple = test_simple[['Displacement','Horsepower']].cbind(glm_simple_pred)\n",
    "print df_simple.head()\n",
    "py_df_simple = df_simple.as_data_frame(use_pandas=False)\n",
    "print py_df_simple[:10]\n",
    "h2o.export_file(frame=df_simple, path='car_SIMPLE.csv', force=True)"
   ]
  },
  {
   "cell_type": "code",
   "execution_count": null,
   "metadata": {
    "collapsed": false
   },
   "outputs": [],
   "source": [
    "glm_multi_cars"
   ]
  },
  {
   "cell_type": "code",
   "execution_count": 9,
   "metadata": {
    "collapsed": false,
    "scrolled": true
   },
   "outputs": [
    {
     "name": "stdout",
     "output_type": "stream",
     "text": [
      "RMSE: 17.8203350844\n",
      "\n",
      "glm prediction Progress: [##################################################] 100%\n",
      "GLM predictions: \n",
      "  Displacement    Horsepower    predict\n",
      "--------------  ------------  ---------\n",
      "           350           165   159.519\n",
      "           318           150   150.992\n",
      "           133           115   105.469\n",
      "           350           165   164.734\n",
      "            97            88    87.7069\n",
      "            97            46    83.6093\n",
      "           199            90   115.448\n",
      "           318           210   164.132\n",
      "           200            81   113.163\n",
      "            90            70    75.7201\n",
      "\n",
      "[10 rows x 3 columns]\n",
      "\n",
      "Export File Progress: [##################################################] 100%\n"
     ]
    }
   ],
   "source": [
    "#MULTI: target = hp, explanatory = #cylinders, displacement, manufacturer, model_year, origin and weight \n",
    "#Lec11 spark MLLIB: 38.65 RMSE for mutliple -> predict hp \n",
    "#SIMPLE above gave an RMSE = 17.4\n",
    "print 'RMSE: {0}'.format(np.sqrt(glm_multi_cars.mse())) \n",
    "glm_multi_pred = glm_multi_cars.predict(test)\n",
    "print(\"GLM predictions: \")\n",
    "\n",
    "df_multi = test[['Displacement','Horsepower']].cbind(glm_multi_pred)\n",
    "print df_multi.head().apply(fun=lambda row : row) #playing around with\n",
    "h2o.export_file(frame=df_multi, path='car_MULTI.csv', force=True)"
   ]
  }
 ],
 "metadata": {
  "kernelspec": {
   "display_name": "Python 2",
   "language": "python",
   "name": "python2"
  },
  "language_info": {
   "codemirror_mode": {
    "name": "ipython",
    "version": 2
   },
   "file_extension": ".py",
   "mimetype": "text/x-python",
   "name": "python",
   "nbconvert_exporter": "python",
   "pygments_lexer": "ipython2",
   "version": "2.7.11"
  }
 },
 "nbformat": 4,
 "nbformat_minor": 0
}
