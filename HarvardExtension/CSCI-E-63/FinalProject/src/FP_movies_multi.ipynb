{
 "cells": [
  {
   "cell_type": "code",
   "execution_count": 11,
   "metadata": {
    "collapsed": false
   },
   "outputs": [
    {
     "data": {
      "text/html": [
       "<div style=\"overflow:auto\"><table style=\"width:50%\"><tr><td>H2O cluster uptime: </td>\n",
       "<td>8 days 12 hours 57 minutes 37 seconds 365 milliseconds </td></tr>\n",
       "<tr><td>H2O cluster version: </td>\n",
       "<td>3.8.2.3</td></tr>\n",
       "<tr><td>H2O cluster name: </td>\n",
       "<td>H2O_started_from_python_joe_igy224</td></tr>\n",
       "<tr><td>H2O cluster total nodes: </td>\n",
       "<td>1</td></tr>\n",
       "<tr><td>H2O cluster total free memory: </td>\n",
       "<td>631.7 MB</td></tr>\n",
       "<tr><td>H2O cluster total cores: </td>\n",
       "<td>1</td></tr>\n",
       "<tr><td>H2O cluster allowed cores: </td>\n",
       "<td>1</td></tr>\n",
       "<tr><td>H2O cluster healthy: </td>\n",
       "<td>True</td></tr>\n",
       "<tr><td>H2O Connection ip: </td>\n",
       "<td>127.0.0.1</td></tr>\n",
       "<tr><td>H2O Connection port: </td>\n",
       "<td>54321</td></tr>\n",
       "<tr><td>H2O Connection proxy: </td>\n",
       "<td>None</td></tr>\n",
       "<tr><td>Python Version: </td>\n",
       "<td>2.7.11</td></tr></table></div>"
      ],
      "text/plain": [
       "------------------------------  ------------------------------------------------------\n",
       "H2O cluster uptime:             8 days 12 hours 57 minutes 37 seconds 365 milliseconds\n",
       "H2O cluster version:            3.8.2.3\n",
       "H2O cluster name:               H2O_started_from_python_joe_igy224\n",
       "H2O cluster total nodes:        1\n",
       "H2O cluster total free memory:  631.7 MB\n",
       "H2O cluster total cores:        1\n",
       "H2O cluster allowed cores:      1\n",
       "H2O cluster healthy:            True\n",
       "H2O Connection ip:              127.0.0.1\n",
       "H2O Connection port:            54321\n",
       "H2O Connection proxy:\n",
       "Python Version:                 2.7.11\n",
       "------------------------------  ------------------------------------------------------"
      ]
     },
     "metadata": {},
     "output_type": "display_data"
    }
   ],
   "source": [
    "import h2o\n",
    "h2o.init()\n",
    "h2o.remove_all()"
   ]
  },
  {
   "cell_type": "code",
   "execution_count": 15,
   "metadata": {
    "collapsed": false
   },
   "outputs": [
    {
     "name": "stdout",
     "output_type": "stream",
     "text": [
      "\n",
      "Parse Progress: [##################################################] 100%\n",
      "(7071, 17)\n",
      "5666 1405\n"
     ]
    }
   ],
   "source": [
    "from h2o.estimators.glm import H2OGeneralizedLinearEstimator\n",
    "import numpy as np\n",
    "\n",
    "df = h2o.import_file('FP_movies.psv')\n",
    "print df.shape #(rows,columns)\n",
    "train, test = df.split_frame([0.8], seed=63)\n",
    "print len(train), len(test)"
   ]
  },
  {
   "cell_type": "code",
   "execution_count": 16,
   "metadata": {
    "collapsed": false
   },
   "outputs": [
    {
     "data": {
      "text/html": [
       "<table>\n",
       "<tr><th style=\"text-align: right;\">  id</th><th>title                     </th><th style=\"text-align: right;\">  year</th><th>country  </th><th>directorName       </th><th>Actor1           </th><th>Actor2         </th><th>Actor3        </th><th style=\"text-align: right;\">  rtAllCriticsRating</th><th style=\"text-align: right;\">  MovieStarPower</th><th style=\"text-align: right;\">  MovieStarPowerWCntry</th><th style=\"text-align: right;\">  AudienceRating</th><th style=\"text-align: right;\">  StarAud</th><th>Genre1     </th><th>Genre2     </th><th>Genre3     </th><th>Actor1NameEndsInA  </th></tr>\n",
       "<tr><td style=\"text-align: right;\">   2</td><td>Jumanji                   </td><td style=\"text-align: right;\">  1995</td><td>USA      </td><td>Joe Johnston       </td><td>Robin Williams   </td><td>Bonnie Hunt    </td><td>Kirsten Dunst </td><td style=\"text-align: right;\">                 5.6</td><td style=\"text-align: right;\">             159</td><td style=\"text-align: right;\">                 52.47</td><td style=\"text-align: right;\">             3.2</td><td style=\"text-align: right;\">   3.7247</td><td>Children   </td><td>Fantasy    </td><td>Adventure  </td><td>F                  </td></tr>\n",
       "<tr><td style=\"text-align: right;\">  11</td><td>The American President    </td><td style=\"text-align: right;\">  1995</td><td>USA      </td><td>Rob Reiner         </td><td>Michael Douglas  </td><td>Annette Bening </td><td>Martin Sheen  </td><td style=\"text-align: right;\">                 7  </td><td style=\"text-align: right;\">             138</td><td style=\"text-align: right;\">                 45.54</td><td style=\"text-align: right;\">             3.2</td><td style=\"text-align: right;\">   3.6554</td><td>Romance    </td><td>Comedy     </td><td>Drama      </td><td>F                  </td></tr>\n",
       "<tr><td style=\"text-align: right;\">  18</td><td>Four Rooms                </td><td style=\"text-align: right;\">  1995</td><td>USA      </td><td>Alexandre Rockwell </td><td>Tim Roth         </td><td>Valeria Golino </td><td>Jennifer Beals</td><td style=\"text-align: right;\">                 3.5</td><td style=\"text-align: right;\">              82</td><td style=\"text-align: right;\">                 27.06</td><td style=\"text-align: right;\">             3.5</td><td style=\"text-align: right;\">   3.7706</td><td>Thriller   </td><td>Comedy     </td><td>Drama      </td><td>F                  </td></tr>\n",
       "<tr><td style=\"text-align: right;\">  20</td><td>Money Train               </td><td style=\"text-align: right;\">  1995</td><td>USA      </td><td>Joseph Ruben       </td><td>Wesley Snipes    </td><td>Woody Harrelson</td><td>Jennifer Lopez</td><td style=\"text-align: right;\">                 4  </td><td style=\"text-align: right;\">             152</td><td style=\"text-align: right;\">                 50.16</td><td style=\"text-align: right;\">             2.7</td><td style=\"text-align: right;\">   3.2016</td><td>Crime      </td><td>Action     </td><td>Thriller   </td><td>F                  </td></tr>\n",
       "<tr><td style=\"text-align: right;\">  27</td><td>Now and Then              </td><td style=\"text-align: right;\">  1995</td><td>USA      </td><td>Lesli Linka Glatter</td><td>Christina Ricci  </td><td>Thora Birch    </td><td>Gaby Hoffmann </td><td style=\"text-align: right;\">                 4.7</td><td style=\"text-align: right;\">              78</td><td style=\"text-align: right;\">                 25.74</td><td style=\"text-align: right;\">             3.5</td><td style=\"text-align: right;\">   3.7574</td><td>Drama      </td><td>Drama      </td><td>Drama      </td><td>T                  </td></tr>\n",
       "<tr><td style=\"text-align: right;\">  29</td><td>La cit� des enfants perdus</td><td style=\"text-align: right;\">  1995</td><td>France   </td><td>Jean-Pierre Jeunet </td><td>Ron Perlman      </td><td>Daniel Emilfork</td><td>Judith Vittet </td><td style=\"text-align: right;\">                 7  </td><td style=\"text-align: right;\">              35</td><td style=\"text-align: right;\">                 32.9 </td><td style=\"text-align: right;\">             4  </td><td style=\"text-align: right;\">   4.329 </td><td>Mystery    </td><td>Fantasy    </td><td>Sci-Fi     </td><td>F                  </td></tr>\n",
       "<tr><td style=\"text-align: right;\">  36</td><td>Dead Man Walking          </td><td style=\"text-align: right;\">  1995</td><td>UK       </td><td>Tim Robbins        </td><td>Susan Sarandon   </td><td>Sean Penn      </td><td>Robert Prosky </td><td style=\"text-align: right;\">                 8.2</td><td style=\"text-align: right;\">             156</td><td style=\"text-align: right;\">                140.4 </td><td style=\"text-align: right;\">             3.6</td><td style=\"text-align: right;\">   5.004 </td><td>Crime      </td><td>Drama      </td><td>Crime      </td><td>F                  </td></tr>\n",
       "<tr><td style=\"text-align: right;\">  43</td><td>Restoration               </td><td style=\"text-align: right;\">  1995</td><td>USA      </td><td>Michael Hoffman    </td><td>Robert Downey Jr.</td><td>Polly Walker   </td><td>Meg Ryan      </td><td style=\"text-align: right;\">                 6.3</td><td style=\"text-align: right;\">             143</td><td style=\"text-align: right;\">                 47.19</td><td style=\"text-align: right;\">             3.3</td><td style=\"text-align: right;\">   3.7719</td><td>Drama      </td><td>Drama      </td><td>Drama      </td><td>F                  </td></tr>\n",
       "<tr><td style=\"text-align: right;\">  68</td><td>Gazon maudit              </td><td style=\"text-align: right;\">  1995</td><td>France   </td><td>Josiane Balasko    </td><td>Victoria Abril   </td><td>Josiane Balasko</td><td>Alain Chabat  </td><td style=\"text-align: right;\">                 6.1</td><td style=\"text-align: right;\">              31</td><td style=\"text-align: right;\">                 29.14</td><td style=\"text-align: right;\">             3.4</td><td style=\"text-align: right;\">   3.6914</td><td>Romance    </td><td>Comedy     </td><td>Romance    </td><td>T                  </td></tr>\n",
       "<tr><td style=\"text-align: right;\">  77</td><td>Nico Icon                 </td><td style=\"text-align: right;\">  1995</td><td>Germany  </td><td>Susanne Ofteringer </td><td>Andy Warhol      </td><td>Billy Name     </td><td>Jackson Browne</td><td style=\"text-align: right;\">                 7.1</td><td style=\"text-align: right;\">               6</td><td style=\"text-align: right;\">                  5.88</td><td style=\"text-align: right;\">             4  </td><td style=\"text-align: right;\">   4.0588</td><td>Documentary</td><td>Documentary</td><td>Documentary</td><td>F                  </td></tr>\n",
       "</table>"
      ]
     },
     "metadata": {},
     "output_type": "display_data"
    },
    {
     "data": {
      "text/plain": []
     },
     "execution_count": 16,
     "metadata": {},
     "output_type": "execute_result"
    }
   ],
   "source": [
    "train.head()"
   ]
  },
  {
   "cell_type": "code",
   "execution_count": 13,
   "metadata": {
    "collapsed": false
   },
   "outputs": [
    {
     "name": "stdout",
     "output_type": "stream",
     "text": [
      "\n",
      "glm Model Build Progress: [##################################################] 100%\n",
      "Model Details\n",
      "=============\n",
      "H2OGeneralizedLinearEstimator :  Generalized Linear Modeling\n",
      "Model Key:  glm_movie_multi\n",
      "\n",
      "GLM Model: summary\n",
      "\n"
     ]
    },
    {
     "data": {
      "text/html": [
       "<div style=\"overflow:auto\"><table style=\"width:50%\"><tr><td><b></b></td>\n",
       "<td><b>family</b></td>\n",
       "<td><b>link</b></td>\n",
       "<td><b>regularization</b></td>\n",
       "<td><b>lambda_search</b></td>\n",
       "<td><b>number_of_predictors_total</b></td>\n",
       "<td><b>number_of_active_predictors</b></td>\n",
       "<td><b>number_of_iterations</b></td>\n",
       "<td><b>training_frame</b></td></tr>\n",
       "<tr><td></td>\n",
       "<td>gaussian</td>\n",
       "<td>identity</td>\n",
       "<td>Elastic Net (alpha = 0.5, lambda = 0.02004 )</td>\n",
       "<td>nlambda = 100, lambda_max = 0.0, best_lambda = 0.02004</td>\n",
       "<td>6544</td>\n",
       "<td>18</td>\n",
       "<td>0</td>\n",
       "<td>py_14</td></tr></table></div>"
      ],
      "text/plain": [
       "    family    link      regularization                                lambda_search                                           number_of_predictors_total    number_of_active_predictors    number_of_iterations    training_frame\n",
       "--  --------  --------  --------------------------------------------  ------------------------------------------------------  ----------------------------  -----------------------------  ----------------------  ----------------\n",
       "    gaussian  identity  Elastic Net (alpha = 0.5, lambda = 0.02004 )  nlambda = 100, lambda_max = 0.0, best_lambda = 0.02004  6544                          18                             0                       py_14"
      ]
     },
     "metadata": {},
     "output_type": "display_data"
    },
    {
     "name": "stdout",
     "output_type": "stream",
     "text": [
      "\n",
      "\n",
      "ModelMetricsRegressionGLM: glm\n",
      "** Reported on train data. **\n",
      "\n",
      "MSE: 1.10550783849\n",
      "R^2: 0.521622458762\n",
      "Mean Residual Deviance: 1.10550783849\n",
      "Null degrees of freedom: 5663\n",
      "Residual degrees of freedom: 5645\n",
      "Null deviance: 13089.2357133\n",
      "Residual deviance: 6261.59639723\n",
      "AIC: 16681.8621578\n",
      "\n",
      "Scoring History: \n"
     ]
    },
    {
     "data": {
      "text/html": [
       "<div style=\"overflow:auto\"><table style=\"width:50%\"><tr><td><b></b></td>\n",
       "<td><b>timestamp</b></td>\n",
       "<td><b>duration</b></td>\n",
       "<td><b>iteration</b></td>\n",
       "<td><b>lambda</b></td>\n",
       "<td><b>predictors</b></td>\n",
       "<td><b>explained_deviance_train</b></td>\n",
       "<td><b>explained_deviance_test</b></td></tr>\n",
       "<tr><td></td>\n",
       "<td>2016-05-10 07:34:42</td>\n",
       "<td> 0.000 sec</td>\n",
       "<td>0</td>\n",
       "<td>.2E1</td>\n",
       "<td>1</td>\n",
       "<td>-0.0000000</td>\n",
       "<td>nan</td></tr>\n",
       "<tr><td></td>\n",
       "<td>2016-05-10 07:34:42</td>\n",
       "<td> 0.022 sec</td>\n",
       "<td>0</td>\n",
       "<td>.19E1</td>\n",
       "<td>2</td>\n",
       "<td>0.0199077</td>\n",
       "<td>nan</td></tr>\n",
       "<tr><td></td>\n",
       "<td>2016-05-10 07:34:42</td>\n",
       "<td> 0.033 sec</td>\n",
       "<td>0</td>\n",
       "<td>.18E1</td>\n",
       "<td>2</td>\n",
       "<td>0.0394293</td>\n",
       "<td>nan</td></tr>\n",
       "<tr><td></td>\n",
       "<td>2016-05-10 07:34:42</td>\n",
       "<td> 0.046 sec</td>\n",
       "<td>0</td>\n",
       "<td>.17E1</td>\n",
       "<td>2</td>\n",
       "<td>0.0584027</td>\n",
       "<td>nan</td></tr>\n",
       "<tr><td></td>\n",
       "<td>2016-05-10 07:34:42</td>\n",
       "<td> 0.162 sec</td>\n",
       "<td>0</td>\n",
       "<td>.17E1</td>\n",
       "<td>2</td>\n",
       "<td>0.0768416</td>\n",
       "<td>nan</td></tr>\n",
       "<tr><td>---</td>\n",
       "<td>---</td>\n",
       "<td>---</td>\n",
       "<td>---</td>\n",
       "<td>---</td>\n",
       "<td>---</td>\n",
       "<td>---</td>\n",
       "<td>---</td></tr>\n",
       "<tr><td></td>\n",
       "<td>2016-05-10 07:34:43</td>\n",
       "<td> 0.884 sec</td>\n",
       "<td>0</td>\n",
       "<td>.24E-1</td>\n",
       "<td>18</td>\n",
       "<td>0.5176322</td>\n",
       "<td>nan</td></tr>\n",
       "<tr><td></td>\n",
       "<td>2016-05-10 07:34:43</td>\n",
       "<td> 0.891 sec</td>\n",
       "<td>0</td>\n",
       "<td>.23E-1</td>\n",
       "<td>19</td>\n",
       "<td>0.5186927</td>\n",
       "<td>nan</td></tr>\n",
       "<tr><td></td>\n",
       "<td>2016-05-10 07:34:43</td>\n",
       "<td> 0.898 sec</td>\n",
       "<td>0</td>\n",
       "<td>.22E-1</td>\n",
       "<td>19</td>\n",
       "<td>0.5197327</td>\n",
       "<td>nan</td></tr>\n",
       "<tr><td></td>\n",
       "<td>2016-05-10 07:34:43</td>\n",
       "<td> 0.905 sec</td>\n",
       "<td>0</td>\n",
       "<td>.21E-1</td>\n",
       "<td>19</td>\n",
       "<td>0.5207159</td>\n",
       "<td>nan</td></tr>\n",
       "<tr><td></td>\n",
       "<td>2016-05-10 07:34:43</td>\n",
       "<td> 0.911 sec</td>\n",
       "<td>0</td>\n",
       "<td>.2E-1</td>\n",
       "<td>19</td>\n",
       "<td>0.5216225</td>\n",
       "<td>nan</td></tr></table></div>"
      ],
      "text/plain": [
       "     timestamp            duration    iteration    lambda    predictors    explained_deviance_train    explained_deviance_test\n",
       "---  -------------------  ----------  -----------  --------  ------------  --------------------------  -------------------------\n",
       "     2016-05-10 07:34:42  0.000 sec   0            .2E1      1             -1.55431223448e-15          nan\n",
       "     2016-05-10 07:34:42  0.022 sec   0            .19E1     2             0.0199076559404             nan\n",
       "     2016-05-10 07:34:42  0.033 sec   0            .18E1     2             0.0394293340618             nan\n",
       "     2016-05-10 07:34:42  0.046 sec   0            .17E1     2             0.058402698135              nan\n",
       "     2016-05-10 07:34:42  0.162 sec   0            .17E1     2             0.0768416475204             nan\n",
       "---  ---                  ---         ---          ---       ---           ---                         ---\n",
       "     2016-05-10 07:34:43  0.884 sec   0            .24E-1    18            0.51763222865               nan\n",
       "     2016-05-10 07:34:43  0.891 sec   0            .23E-1    19            0.518692728418              nan\n",
       "     2016-05-10 07:34:43  0.898 sec   0            .22E-1    19            0.519732684037              nan\n",
       "     2016-05-10 07:34:43  0.905 sec   0            .21E-1    19            0.520715923317              nan\n",
       "     2016-05-10 07:34:43  0.911 sec   0            .2E-1     19            0.521622458653              nan"
      ]
     },
     "metadata": {},
     "output_type": "display_data"
    },
    {
     "name": "stdout",
     "output_type": "stream",
     "text": [
      "\n",
      "See the whole table with table.as_data_frame()\n"
     ]
    },
    {
     "data": {
      "text/plain": []
     },
     "execution_count": 13,
     "metadata": {},
     "output_type": "execute_result"
    }
   ],
   "source": [
    "target_simple_Y = 'rtAllCriticsRating'\n",
    "exp_multi_X = ['year','country','directorName','Actor1','MovieStarPowerWCntry','AudienceRating',\n",
    "              'Genre1', 'Genre2', 'Genre3', 'Actor1NameEndsInA']\n",
    "\n",
    "glm_movie_multi = H2OGeneralizedLinearEstimator(\n",
    "                    model_id='glm_movie_multi',\n",
    "                    family='gaussian', \n",
    "                    solver='IRLSM' \n",
    "                    ,lambda_search = True\n",
    "                )  \n",
    "\n",
    "glm_movie_multi.train(exp_multi_X, target_simple_Y, training_frame=train)\n",
    "glm_movie_multi"
   ]
  },
  {
   "cell_type": "code",
   "execution_count": 14,
   "metadata": {
    "collapsed": false
   },
   "outputs": [
    {
     "name": "stdout",
     "output_type": "stream",
     "text": [
      "RMSE: 1.05143132847\n",
      "\n",
      "glm prediction Progress: [##################################################] 100%\n",
      "GLM predictions: \n",
      "\n",
      "Export File Progress: [##################################################] 100%\n",
      "title                year  country    directorName          Actor1                   MovieStarPowerWCntry    AudienceRating  Genre1    Genre2    Genre3    Actor1NameEndsInA      rtAllCriticsRating    predict\n",
      "-----------------  ------  ---------  --------------------  ---------------------  ----------------------  ----------------  --------  --------  --------  -------------------  --------------------  ---------\n",
      "Waiting to Exhale    1995  USA        Forest Whitaker       Whitney Houston                         17.16               3.3  Romance   Comedy    Drama     F                                     5.6    5.52971\n",
      "Sudden Death         1995  USA        Peter Hyams           Jean-Claude Van Damme                   24.75               2.6  Action    Action    Action    F                                     5.2    4.05428\n",
      "Mighty Aphrodite     1995  USA        Woody Allen           Woody Allen                             42.24               3.3  Romance   Comedy    Drama     F                                     6.7    5.59567\n",
      "The Big Green        1995  USA        Holly Goldberg Sloan  Yareli Arizmendi                         4.62               2.7  Children  Comedy    Children  F                                     2.8    4.23227\n",
      "Belle de jour        1967  France     Luis Bu<0xF1>uel      Catherine Deneuve                       56.4                4    Drama     Drama     Drama     F                                     8.6    8.0285\n",
      "\n",
      "[5 rows x 13 columns]\n"
     ]
    }
   ],
   "source": [
    "print 'RMSE: {0}'.format(np.sqrt(glm_movie_multi.mse()))\n",
    "glm_movie_multi_pred = glm_movie_multi.predict(test)\n",
    "print(\"GLM predictions: \")\n",
    "test_headers = ['title'] + exp_multi_X[:]\n",
    "test_headers.append('rtAllCriticsRating')\n",
    "df_movie_multi = test[test_headers].cbind(glm_movie_multi_pred)\n",
    "\n",
    "h2o.export_file(frame=df_movie_multi, path='movie_MULTI_out.csv', force=True)\n",
    "\n",
    "print df_movie_multi.head(5)\n"
   ]
  }
 ],
 "metadata": {
  "kernelspec": {
   "display_name": "Python 2",
   "language": "python",
   "name": "python2"
  },
  "language_info": {
   "codemirror_mode": {
    "name": "ipython",
    "version": 2
   },
   "file_extension": ".py",
   "mimetype": "text/x-python",
   "name": "python",
   "nbconvert_exporter": "python",
   "pygments_lexer": "ipython2",
   "version": "2.7.11"
  }
 },
 "nbformat": 4,
 "nbformat_minor": 0
}
