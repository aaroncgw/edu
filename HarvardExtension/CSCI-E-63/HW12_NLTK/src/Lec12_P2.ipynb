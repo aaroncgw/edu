{
 "cells": [
  {
   "cell_type": "markdown",
   "metadata": {},
   "source": [
    "Problem 2.\n",
    "    1)\tIn the Inaugural corpus identify 10 most frequently used words longer than 7 characters. "
   ]
  },
  {
   "cell_type": "code",
   "execution_count": 1,
   "metadata": {
    "collapsed": false
   },
   "outputs": [
    {
     "name": "stdout",
     "output_type": "stream",
     "text": [
      "government: 593\r\n",
      "citizens: 237\r\n",
      "constitution: 205\r\n",
      "national: 154\r\n",
      "american: 147\r\n",
      "congress: 129\r\n",
      "interests: 113\r\n",
      "political: 106\r\n",
      "executive: 97\r\n",
      "principles: 93\n"
     ]
    }
   ],
   "source": [
    "import nltk\n",
    "from nltk.corpus import inaugural\n",
    "\n",
    "#choose to lower-case all words to avoid casing issues\n",
    "long_words = (w.lower() for w in inaugural.words() if len(w) > 7)\n",
    "fdist = nltk.FreqDist(long_words)\n",
    "#textbook indicated a FreqDist came sorted, with most frequent counts first, but I didn't see that\n",
    "freq_long_words = sorted(fdist.keys(), key = lambda w: fdist[w], reverse = True)[:10]\n",
    "long_words_with_counts = ['{0}: {1}'.format(k, fdist[k]) for k in freq_long_words]\n",
    "print '\\r\\n'.join(long_words_with_counts)\n"
   ]
  },
  {
   "cell_type": "markdown",
   "metadata": {},
   "source": [
    "  2)\tWhich one of those has the largest number of synonyms? \n",
    "      a.\tList all synonyms for those 10 words. "
   ]
  },
  {
   "cell_type": "code",
   "execution_count": 2,
   "metadata": {
    "collapsed": false
   },
   "outputs": [
    {
     "name": "stdout",
     "output_type": "stream",
     "text": [
      "Word with most synonyms: \"constitution\", count: 17\n",
      "\n",
      "\"WORD\"         SYNONYMS\n",
      "\"interests\"    sake, stake, interest_group, matter_to, interestingness, occupy, involvement, pursuit, interest, pastime, worry, concern\n",
      "\n",
      "\"executive\"    administrator, executive, executive_director\n",
      "\n",
      "\"constitution\" make-up, makeup, constitution, US_Constitution, organisation, composition, Constitution_of_the_United_States, fundamental_law, physical_composition, formation, U.S._Constitution, Old_Ironsides, organization, United_States_Constitution, establishment, organic_law, Constitution\n",
      "\n",
      "\"congress\"     Congress, congress, sexual_intercourse, sex_act, coition, sexual_relation, carnal_knowledge, intercourse, sexual_congress, relation, U.S._Congress, copulation, coitus, United_States_Congress, US_Congress\n",
      "\n",
      "\"government\"   government, administration, governance, political_science, government_activity, governing, authorities, politics, regime\n",
      "\n",
      "\"national\"     interior, home, national, internal, subject\n",
      "\n",
      "\"citizens\"     citizen\n",
      "\n",
      "\"political\"    political\n",
      "\n",
      "\"principles\"   precept, rationale, principle, rule\n",
      "\n",
      "\"american\"     American, American_English, American_language\n",
      "\n"
     ]
    }
   ],
   "source": [
    "from collections import defaultdict\n",
    "from nltk.corpus import wordnet as wn\n",
    "\n",
    "syns = defaultdict(set)\n",
    "for w in freq_long_words:\n",
    "    for ss in wn.synsets(w):\n",
    "        names = ss.lemma_names()\n",
    "        syns[w].update(names)\n",
    "\n",
    "most_synonyms = max(syns.keys(), key = lambda k: len(syns[k]))\n",
    "print 'Word with most synonyms: \"{0}\", count: {1}'.format(most_synonyms, len(syns[most_synonyms]))\n",
    "\n",
    "print\n",
    "print '\"WORD\"'.ljust(15) + 'SYNONYMS'\n",
    "for k,v in syns.items():\n",
    "    print '\"{0}\"'.format(k).ljust(15) + ', '.join(v)\n",
    "    print\n"
   ]
  },
  {
   "cell_type": "markdown",
   "metadata": {},
   "source": [
    "  3)\tWhich one of those 10 words has the largest number of hyponyms?\n",
    "      a.\tList all hyponyms of those 10 most frequently used “long” words."
   ]
  },
  {
   "cell_type": "code",
   "execution_count": 3,
   "metadata": {
    "collapsed": false
   },
   "outputs": [
    {
     "name": "stdout",
     "output_type": "stream",
     "text": [
      "Word with most hyponyms: \"american\", count: 109\n",
      "\n",
      "WORD: \"interests\"\n",
      "HYPONYMS: \n",
      "     right, hobby, transfix, color, by-line\n",
      "     special_interest, vested_interest, avocation, newsworthiness, controlling_interest\n",
      "     compound_interest, concern, fee, occupy, charisma\n",
      "     equity, enthusiasm, grip, security_interest, reversion\n",
      "     absorb, topicality, grubstake, sideline, pursuit\n",
      "     undivided_interest, news, spellbind, insurable_interest, behalf\n",
      "     vividness, engage, simple_interest, fascinate, spare-time_activity\n",
      "     colour, shrillness, terminable_interest, engross, personal_magnetism\n",
      "     personal_appeal, undivided_right, intrigue\n",
      "\n",
      "WORD: \"executive\"\n",
      "HYPONYMS: \n",
      "     triumvir, Carter_administration, Clinton_administration, Bush_administration, Reagan_administration\n",
      "     government_minister, DCI, prefect, Director_of_Central_Intelligence, commissioner\n",
      "     Secretary_General, Surgeon_General, vice_president, corporate_executive, minister\n",
      "     V.P., business_executive, rainmaker\n",
      "\n",
      "WORD: \"constitution\"\n",
      "HYPONYMS: \n",
      "     karyotype, federation, colonisation, collectivization, texture\n",
      "     colonization, unionization, grain, phenotype, structure\n",
      "     communisation, collectivisation, settlement, unionisation, genetic_constitution\n",
      "     communization, genotype\n",
      "\n",
      "WORD: \"congress\"\n",
      "HYPONYMS: \n",
      "     ass, screw, piece_of_tail, Continental_Congress, fucking\n",
      "     piece_of_ass, shtup, screwing, fuck, hank_panky\n",
      "     penetration, roll_in_the_hay, criminal_congress, unlawful_carnal_knowledge, nookie\n",
      "     defloration, nooky, shag\n",
      "\n",
      "WORD: \"government\"\n",
      "HYPONYMS: \n",
      "     palace, geopolitics, ancien_regime, papacy, authoritarian_regime\n",
      "     empire, pupet_regime, misrule, court, puppet_government\n",
      "     misgovernment, legislation, state, lawmaking, realpolitik\n",
      "     puppet_state, royal_court, bureaucracy, military_government, local_government\n",
      "     stratocracy, authoritarian_state, Downing_Street, government-in-exile, legislating\n",
      "     practical_politics, federal_government, pontificate, totalitarian_state, totalitation_regime\n",
      "     trust_busting, state_government\n",
      "\n",
      "WORD: \"national\"\n",
      "HYPONYMS: \n",
      "     nationalist, compatriot, patriot, citizen\n",
      "\n",
      "WORD: \"citizens\"\n",
      "HYPONYMS: \n",
      "     freeman, thane, freewoman, civilian, private_citizen\n",
      "     repatriate, active_citizen, voter, elector\n",
      "\n",
      "WORD: \"principles\"\n",
      "HYPONYMS: \n",
      "     fundamental_principle, Tao, chivalry, accounting_principle, Gestalt_principle_of_organization\n",
      "     Le_Chatelier_principle, mass-energy_equivalence, localization_principle, Le_Chatelier-Braun_principle, localisation_of_function\n",
      "     Ockham's_Razor, pleasure-pain_principle, value-system, Hellenism, dictate\n",
      "     principle_of_superposition, judicial_principle, hypothetical_imperative, insurrectionism, ethic\n",
      "     pleasure-unpleasure_principle, principle_of_liquid_displacement, caveat_emptor, yin, higher_law\n",
      "     Huygens'_principle_of_superposition, conservation, value_orientation, moral_principle, mass-action_principle\n",
      "     Naegele's_rule, legal_principle, Gresham's_Law, localization_of_function, bedrock\n",
      "     localization, fundamentals, pleasure_principle, localisation_principle, dialectics\n",
      "     localisation, principle_of_parsimony, judicial_doctrine, superposition, feng_shui\n",
      "     scruple, basic_principle, accounting_standard, basics, superposition_principle\n",
      "     Gestalt_law_of_organization, pillar, reality_principle, law_of_parsimony, Le_Chatelier's_principle\n",
      "     principle_of_equivalence, Occam's_Razor, yang, mass_action, logic\n",
      "     knightliness, Le_Chatelier's_law\n",
      "\n",
      "WORD: \"american\"\n",
      "HYPONYMS: \n",
      "     Black_English_Vernacular, Texan, North_Carolinian, Southerner, Black_Vernacular\n",
      "     Kansan, Yank, Volunteer, African_American_Vernacular_English, Virginian\n",
      "     Nisei, Oregonian, Idahoan, Floridian, Utahan\n",
      "     New_Yorker, North_American, Illinoisan, Granite_Stater, Puerto_Rican\n",
      "     Badger, Delawarian, Afro-American, South_Carolinian, Arizonan\n",
      "     Kentuckian, Coloradan, Carolinian, Keystone_Stater, Mainer\n",
      "     Rhode_Islander, North_Dakotan, Hawaiian, New_Englander, Georgian\n",
      "     Pennsylvanian, Alabaman, Bostonian, Ohioan, Garden_Stater\n",
      "     Northerner, Wyomingite, Hispanic_American, Black_English, Bay_Stater\n",
      "     Arkansawyer, New_Jerseyan, Latin_American, Alabamian, AAVE\n",
      "     Beaver, Yankee-Doodle, Louisianian, Arizonian, Arkansan\n",
      "     New_Hampshirite, West_Virginian, Michigander, Louisianan, Creole\n",
      "     Tennessean, Anglo-American, African-American, Hoosier, Vermonter\n",
      "     Latino, Mississippian, Missourian, Hispanic, Ebonics\n",
      "     Asian_American, Connecticuter, Californian, Wolverine, Minnesotan\n",
      "     Appalachian, Nebraskan, Gopher, African_American_English, Buckeye\n",
      "     Montanan, Bluegrass_Stater, Yankee, Mesoamerican, Iowan\n",
      "     Wisconsinite, Down_Easter, Tory, Delawarean, African_American\n",
      "     Sooner, German_American, Washingtonian, Franco-American, Indianan\n",
      "     Black_American, Marylander, Alaskan, Spanish_American, South_American\n",
      "     Cornhusker, Nevadan, Oklahoman, West_Indian, Black_Vernacular_English\n",
      "     New_Mexican, Tarheel, New_Jerseyite, South_Dakotan\n",
      "\n"
     ]
    }
   ],
   "source": [
    "\n",
    "hypo_dict = defaultdict(set)\n",
    "for w in freq_long_words:\n",
    "    for ss in wn.synsets(w):\n",
    "        for hyp in ss.hyponyms():\n",
    "            names = hyp.lemma_names()\n",
    "            hypo_dict[w].update(names)\n",
    "\n",
    "most_hyponyms = max(hypo_dict.keys(), key = lambda k: len(hypo_dict[k]))\n",
    "print 'Word with most hyponyms: \"{0}\", count: {1}'.format(most_hyponyms, len(hypo_dict[most_hyponyms]))\n",
    "\n",
    "print\n",
    "for k,v in hypo_dict.items():\n",
    "    print 'WORD: \"{0}\"'.format(k)\n",
    "    print 'HYPONYMS: '\n",
    "    for i in range(0, len(v), 5):\n",
    "        print ''.ljust(5) + ', '.join(list(v)[i:i+5])\n",
    "    print\n",
    "        "
   ]
  }
 ],
 "metadata": {
  "kernelspec": {
   "display_name": "Python 2",
   "language": "python",
   "name": "python2"
  },
  "language_info": {
   "codemirror_mode": {
    "name": "ipython",
    "version": 2
   },
   "file_extension": ".py",
   "mimetype": "text/x-python",
   "name": "python",
   "nbconvert_exporter": "python",
   "pygments_lexer": "ipython2",
   "version": "2.7.9"
  }
 },
 "nbformat": 4,
 "nbformat_minor": 0
}
