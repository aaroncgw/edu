{
 "cells": [
  {
   "cell_type": "markdown",
   "metadata": {},
   "source": [
    "Lecture 12, Problem 1"
   ]
  },
  {
   "cell_type": "code",
   "execution_count": 1,
   "metadata": {
    "collapsed": false
   },
   "outputs": [
    {
     "name": "stdout",
     "output_type": "stream",
     "text": [
      "                            can      could    may      might    will     would    should   \n",
      "milton-paradise.txt         0.001105 0.000640 0.001198 0.001012 0.001663 0.000506 0.000568\n",
      "shakespeare-macbeth.txt     0.000908 0.000648 0.001296 0.000216 0.002679 0.001815 0.001772\n",
      "austen-emma.txt             0.001403 0.004287 0.001107 0.001673 0.002905 0.004235 0.001902\n",
      "chesterton-ball.txt         0.001351 0.001206 0.000928 0.000711 0.002041 0.001433 0.000773\n",
      "bible-kjv.txt               0.000211 0.000163 0.001013 0.000470 0.003767 0.000438 0.000760\n",
      "chesterton-thursday.txt     0.001690 0.002138 0.000809 0.001026 0.001575 0.001676 0.000780\n",
      "blake-poems.txt             0.002394 0.000359 0.000599 0.000239 0.000359 0.000359 0.000718\n",
      "shakespeare-caesar.txt      0.000619 0.000697 0.001355 0.000465 0.004994 0.001548 0.001471\n",
      "whitman-leaves.txt          0.000568 0.000316 0.000549 0.000168 0.001685 0.000549 0.000271\n",
      "melville-moby_dick.txt      0.000843 0.000824 0.000882 0.000702 0.001453 0.001614 0.000694\n",
      "austen-persuasion.txt       0.001019 0.004523 0.000886 0.001691 0.001650 0.003575 0.001884\n",
      "edgeworth-parents.txt       0.001614 0.001994 0.000760 0.000603 0.002454 0.002388 0.001286\n",
      "carroll-alice.txt           0.001671 0.002140 0.000322 0.000821 0.000704 0.002052 0.000792\n",
      "bryant-stories.txt          0.001350 0.002772 0.000324 0.000414 0.002592 0.001980 0.000684\n",
      "burgess-busterbrown.txt     0.001213 0.002953 0.000158 0.000896 0.001002 0.002426 0.000686\n",
      "chesterton-brown.txt        0.001464 0.001975 0.000546 0.000825 0.001290 0.001534 0.000651\n",
      "shakespeare-hamlet.txt      0.000883 0.000696 0.001499 0.000749 0.003506 0.001606 0.001392\n",
      "austen-sense.txt            0.001455 0.004012 0.001194 0.001519 0.002500 0.003581 0.001610\n"
     ]
    }
   ],
   "source": [
    "import nltk\n",
    "from nltk.corpus import gutenberg as gut\n",
    "\n",
    "modals = ['can', 'could', 'may', 'might', 'will', 'would', 'should']\n",
    "\n",
    "books = gut.fileids() #[:2]\n",
    "cfd = nltk.ConditionalFreqDist(\n",
    "    (book, word)\n",
    "    for book in books\n",
    "    for word in gut.words(fileids=book))\n",
    "\n",
    "width = max(len(book) for book in cfd.iterkeys()) + 5\n",
    "print ''.ljust(width) + ''.join(modal.ljust(9) for modal in modals)\n",
    "for book in cfd.iterkeys():\n",
    "    print book.ljust(width)  + ' '.join(['{0:.6f}'.format(cfd[book].freq(modal)) for modal in modals])\n"
   ]
  },
  {
   "cell_type": "code",
   "execution_count": 2,
   "metadata": {
    "collapsed": false
   },
   "outputs": [
    {
     "name": "stdout",
     "output_type": "stream",
     "text": [
      "0.00140312949846\n",
      "0.00140312949846\n",
      "0.00140312949846\n"
     ]
    }
   ],
   "source": [
    "#sanity check\n",
    "emma = gut.words('austen-emma.txt')\n",
    "fdist_emma = nltk.FreqDist(emma)\n",
    "print fdist_emma.freq('can')\n",
    "print cfd['austen-emma.txt'].freq('can')\n",
    "print cfd['austen-emma.txt']['can']/(len(emma) * 1.0)"
   ]
  },
  {
   "cell_type": "code",
   "execution_count": 3,
   "metadata": {
    "collapsed": false
   },
   "outputs": [
    {
     "name": "stdout",
     "output_type": "stream",
     "text": [
      "modal: \"can\" range, max - min: 0.002183\n",
      "\t bible-kjv.txt only has 0.000210754620276 relative freq\n",
      "\t blake-poems.txt has most used relative freq, at 0.00239406272444\n",
      "modal: \"could\" range, max - min: 0.004359\n",
      "\t bible-kjv.txt only has 0.00016326062134 relative freq\n",
      "\t austen-persuasion.txt has most used relative freq, at 0.00452272055902\n",
      "modal: \"may\" range, max - min: 0.001341\n",
      "\t burgess-busterbrown.txt only has 0.00015820281601 relative freq\n",
      "\t shakespeare-hamlet.txt has most used relative freq, at 0.00149892933619\n",
      "modal: \"might\" range, max - min: 0.001523\n",
      "\t whitman-leaves.txt only has 0.000167868649238 relative freq\n",
      "\t austen-persuasion.txt has most used relative freq, at 0.00169092705585\n",
      "modal: \"will\" range, max - min: 0.004635\n",
      "\t blake-poems.txt only has 0.000359109408667 relative freq\n",
      "\t shakespeare-caesar.txt has most used relative freq, at 0.00499361282081\n",
      "modal: \"would\" range, max - min: 0.003876\n",
      "\t blake-poems.txt only has 0.000359109408667 relative freq\n",
      "\t austen-emma.txt has most used relative freq, at 0.00423537237498\n",
      "modal: \"should\" range, max - min: 0.001631\n",
      "\t whitman-leaves.txt only has 0.000271172433385 relative freq\n",
      "\t austen-emma.txt has most used relative freq, at 0.0019020199868\n",
      "\n",
      "Two modals with with the largest span of relative frequencies:\n",
      "will: (0.004634503412144084, u'blake-poems.txt', u'shakespeare-caesar.txt')\n",
      "could: (0.004359459937684319, u'bible-kjv.txt', u'austen-persuasion.txt')\n"
     ]
    }
   ],
   "source": [
    "rng_lookup = {}\n",
    "for modal in modals:\n",
    "    max_modal_book = max(cfd.iterkeys(), key = (lambda key: cfd[key].freq(modal)))\n",
    "    min_modal_book = min(cfd.iterkeys(), key = (lambda key: cfd[key].freq(modal)))\n",
    "    rng = cfd[max_modal_book].freq(modal) - cfd[min_modal_book].freq(modal)\n",
    "    rng_lookup[modal] = (rng, min_modal_book, max_modal_book )\n",
    "    print 'modal: \"{0}\" range, max - min: {1:.6f}'.format(\n",
    "        modal, rng)\n",
    "    print '\\t {0} only has {1} relative freq'.format(min_modal_book, cfd[min_modal_book].freq(modal))\n",
    "    print '\\t {0} has most used relative freq, at {1}'.format(max_modal_book, cfd[max_modal_book].freq(modal))\n",
    "\n",
    "print\n",
    "print 'Two modals with with the largest span of relative frequencies:'\n",
    "for k in sorted(rng_lookup, key = (lambda key: rng_lookup[key][0]), reverse = True)[:2]:\n",
    "    print '{0}: {1}'.format(k, rng_lookup[k])"
   ]
  },
  {
   "cell_type": "code",
   "execution_count": 4,
   "metadata": {
    "collapsed": false
   },
   "outputs": [
    {
     "name": "stdout",
     "output_type": "stream",
     "text": [
      ">>> Concordance for \"will\" in <Text: Poems by William Blake 1789>\n",
      "Displaying 3 of 3 matches:\n",
      "arn ' d the heat to bear , The cloud will vanish , we shall hear His voice , S\n",
      "lver hair , And be like him , and he will then love me . THE BLOSSOM Merry , m\n",
      "alone nor or itself : fear not and I will call , The weak worm from its lowly \n",
      ">>> Concordance for \"will\" in <Text: The Tragedie of Julius Caesar by William Shakespeare 1599>\n",
      "Displaying 10 of 163 matches:\n",
      " way towards the Capitoll , This way will I : Disrobe the Images , If you do f\n",
      "eathers , pluckt from Caesars wing , Will make him flye an ordinary pitch , Wh\n",
      "eunt . Manet Brut . & Cass . Cassi . Will you go see the order of the course ?\n",
      ", That you haue no such Mirrors , as will turne Your hidden worthinesse into y\n",
      "l as by Reflection ; I your Glasse , Will modestly discouer to your selfe That\n",
      "eye , and Death i ' th other , And I will looke on both indifferently : For le\n",
      "s heauy : Coniure with ' em , Brutus will start a Spirit as soone as Caesar . \n",
      "er moou ' d : What you haue said , I will consider : what you haue to say I wi\n",
      "ll consider : what you haue to say I will with patience heare , and finde a ti\n",
      " Plucke Caska by the Sleeue , And he will ( after his sowre fashion ) tell you\n",
      "\n",
      ">>> words in <Text: Poems by William Blake 1789> with similar context to \"will\"\n",
      "have\n",
      ">>> context of word in <Text: Poems by William Blake 1789> with similar context to \"have\"\n",
      "i_call\n",
      "\n",
      ">>> words in <Text: The Tragedie of Julius Caesar by William Shakespeare 1599> with similar context to \"will\"\n",
      "shall would did know should must do house are be capitoll were if\n",
      "looke hands streetes name found leaue like\n",
      ">>> context of word in <Text: The Tragedie of Julius Caesar by William Shakespeare 1599> with similar context to \"shall\"\n",
      "you_not it_please i_not that_be i_be we_be caesar_not i_see he_be\n"
     ]
    }
   ],
   "source": [
    "# modal = 'will', highest relative frequency difference across gutenberg corpus: 0.0046345\n",
    "word = 'will'\n",
    "poems = nltk.Text(gut.words('blake-poems.txt'))\n",
    "caesar = nltk.Text(gut.words('shakespeare-caesar.txt'))\n",
    "\n",
    "books = [poems, caesar]\n",
    "for book in books:\n",
    "    print '>>> Concordance for \"{0}\" in {1}'.format(word, book)\n",
    "    book.concordance(word, lines=10)\n",
    "\n",
    "print\n",
    "#can't really modularize since can't capture output of .similar() w/o redirecting stdout... not worth the trouble\n",
    "print '>>> words in {0} with similar context to \"{1}\"'.format(poems, word)\n",
    "poems.similar(word)\n",
    "sim = 'have'\n",
    "print '>>> context of word in {0} with similar context to \"{1}\"'.format(poems, sim)\n",
    "poems.common_contexts([word, sim])\n",
    "\n",
    "print\n",
    "print '>>> words in {0} with similar context to \"{1}\"'.format(caesar, word)\n",
    "caesar.similar(word)\n",
    "sim = 'shall'\n",
    "print '>>> context of word in {0} with similar context to \"{1}\"'.format(caesar, sim)\n",
    "caesar.common_contexts([word, sim])\n",
    "            "
   ]
  },
  {
   "cell_type": "code",
   "execution_count": 5,
   "metadata": {
    "collapsed": false
   },
   "outputs": [
    {
     "name": "stdout",
     "output_type": "stream",
     "text": [
      ">>> Concordance for \"could\" in <Text: The King James Bible>\n",
      "Displaying 10 of 166 matches:\n",
      "r substance was great , so that they could not dwell together . 13 : 7 And ther\n",
      ", and his eyes were dim , so that he could not see , he called Esau his eldest \n",
      "the land wherein they were strangers could not bear them because of their cattl\n",
      " his brethren , they hated him , and could not speak peaceably unto him . 37 : \n",
      " his dream ; but there was none that could interpret them unto Pharaoh . 41 : 9\n",
      "And when they had eaten them up , it could not be known that they had eaten the\n",
      " magicians ; but there was none that could declare it to me . 41 : 25 And Josep\n",
      "ording to the tenor of these words : could we certainly know that he would say \n",
      "me on my father . 45 : 1 Then Joseph could not refrain himself before all them \n",
      "y father yet live ? And his brethren could not answer him ; for they were troub\n",
      ">>> Concordance for \"could\" in <Text: Persuasion by Jane Austen 1818>\n",
      "Displaying 10 of 451 matches:\n",
      "every other leaf were powerless , he could read his own history with an interes\n",
      "as still a very fine man . Few women could think more of their personal appeara\n",
      "ersonal appearance than he did , nor could the valet of any new made lord be mo\n",
      "l ; but it was only in Anne that she could fancy the mother to revive again . A\n",
      "mild dark eyes from his own ), there could be nothing in them , now that she wa\n",
      "ood looks of everybody else ; for he could plainly see how old all the rest of \n",
      "self - possession and decision which could never have given the idea of her bei\n",
      "heir , and whose strong family pride could see only in him a proper match for S\n",
      "aronet from A to Z whom her feelings could have so willingly acknowledged as an\n",
      "ing black ribbons for his wife , she could not admit him to be worth thinking o\n",
      "\n",
      ">>> words in <Text: The King James Bible> with similar context to \"could\"\n",
      "shall will is had should do be would doth was did hath may have said\n",
      "are can fear were might\n",
      ">>> context of word in <Text: The King James Bible> with similar context to \"have\"\n",
      "we_no i_not and_not which_not neither_they brethren_not that_not\n",
      "ye_not what_ye i_no men_not israel_not they_not\n",
      "\n",
      ">>> words in <Text: Persuasion by Jane Austen 1818> with similar context to \"could\"\n",
      "would had was should might must did may will can is to cannot have\n",
      "does knew i shall do were\n",
      ">>> context of word in <Text: Persuasion by Jane Austen 1818> with similar context to \"would\"\n",
      "he_no it_not anne_have she_feel there_be who_not i_not she_only\n",
      "she_not he_be it_be they_have russell_not who_be wentworth_not she_be\n",
      "nothing_be she_see you_have they_not\n"
     ]
    }
   ],
   "source": [
    "# modal = 'could', 2nd highest relative frequency difference across gutenberg corpus: 0.00435946\n",
    "(0.004359459937684319, u'bible-kjv.txt', u'austen-persuasion.txt')\n",
    "\n",
    "word = 'could'\n",
    "bible = nltk.Text(gut.words('bible-kjv.txt'))\n",
    "persuasion = nltk.Text(gut.words('austen-persuasion.txt'))\n",
    "\n",
    "books = [bible, persuasion]\n",
    "for book in books:\n",
    "    print '>>> Concordance for \"{0}\" in {1}'.format(word, book)\n",
    "    book.concordance(word, lines=10)\n",
    "\n",
    "print\n",
    "#can't really modularize since can't capture output of .similar() w/o redirecting stdout... not worth the trouble\n",
    "print '>>> words in {0} with similar context to \"{1}\"'.format(bible, word)\n",
    "bible.similar(word)\n",
    "sim = 'have'\n",
    "print '>>> context of word in {0} with similar context to \"{1}\"'.format(bible, sim)\n",
    "bible.common_contexts([word, sim])\n",
    "\n",
    "print\n",
    "print '>>> words in {0} with similar context to \"{1}\"'.format(persuasion, word)\n",
    "persuasion.similar(word)\n",
    "sim = 'would'\n",
    "print '>>> context of word in {0} with similar context to \"{1}\"'.format(persuasion, sim)\n",
    "persuasion.common_contexts([word, sim])"
   ]
  }
 ],
 "metadata": {
  "kernelspec": {
   "display_name": "Python 2",
   "language": "python",
   "name": "python2"
  },
  "language_info": {
   "codemirror_mode": {
    "name": "ipython",
    "version": 2
   },
   "file_extension": ".py",
   "mimetype": "text/x-python",
   "name": "python",
   "nbconvert_exporter": "python",
   "pygments_lexer": "ipython2",
   "version": "2.7.9"
  }
 },
 "nbformat": 4,
 "nbformat_minor": 0
}
