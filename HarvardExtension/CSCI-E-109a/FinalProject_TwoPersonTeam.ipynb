{
 "cells": [
  {
   "cell_type": "markdown",
   "metadata": {},
   "source": [
    "# CS 109A/AC 209A/STAT 121A Data Science: PROJECT\n",
    "**Harvard University**<br>\n",
    "**Fall 2016**<br>\n",
    "**Instructors: W. Pan, P. Protopapas, K. Rader**<br>"
   ]
  },
  {
   "cell_type": "markdown",
   "metadata": {},
   "source": [
    "Import libraries"
   ]
  },
  {
   "cell_type": "code",
   "execution_count": 2,
   "metadata": {},
   "outputs": [],
   "source": [
    "import numpy as np\n",
    "import pandas as pd\n",
    "import scipy as splogreg\n",
    "from scipy.stats import mode\n",
    "from sklearn import linear_model\n",
    "import matplotlib\n",
    "import matplotlib.pyplot as plt\n",
    "#from sklearn import discriminant_analysis\n",
    "from sklearn.decomposition import PCA\n",
    "from sklearn import preprocessing\n",
    "from sklearn.cross_validation import train_test_split as sk_split\n",
    "from sklearn import svm\n",
    "from sklearn.discriminant_analysis import LinearDiscriminantAnalysis as LDA\n",
    "from sklearn.discriminant_analysis import QuadraticDiscriminantAnalysis as QDA\n",
    "from datetime import datetime\n",
    "from dateutil import parser, relativedelta\n",
    "%matplotlib inline"
   ]
  },
  {
   "cell_type": "code",
   "execution_count": 3,
   "metadata": {},
   "outputs": [
    {
     "name": "stdout",
     "output_type": "stream",
     "text": [
      "2016-12-12 21:48:58.993000\n"
     ]
    }
   ],
   "source": [
    "print datetime.now()"
   ]
  },
  {
   "cell_type": "markdown",
   "metadata": {},
   "source": [
    "--------------"
   ]
  },
  {
   "cell_type": "code",
   "execution_count": 4,
   "metadata": {},
   "outputs": [],
   "source": [
    "# some conversion functions\n",
    "to_datetime = lambda d: datetime.strptime(d, '%b-%Y')\n",
    "pct_to_float = lambda s: float(s.strip('%'))/100.00"
   ]
  },
  {
   "cell_type": "code",
   "execution_count": 5,
   "metadata": {},
   "outputs": [
    {
     "data": {
      "text/html": [
       "<div style=\"max-height:1000px;max-width:1500px;overflow:auto;\">\n",
       "<table border=\"1\" class=\"dataframe\">\n",
       "  <thead>\n",
       "    <tr style=\"text-align: right;\">\n",
       "      <th></th>\n",
       "      <th>id</th>\n",
       "      <th>member_id</th>\n",
       "      <th>loan_amnt</th>\n",
       "      <th>funded_amnt</th>\n",
       "      <th>funded_amnt_inv</th>\n",
       "      <th>term</th>\n",
       "      <th>int_rate</th>\n",
       "      <th>installment</th>\n",
       "      <th>grade</th>\n",
       "      <th>sub_grade</th>\n",
       "      <th>...</th>\n",
       "      <th>num_tl_90g_dpd_24m</th>\n",
       "      <th>num_tl_op_past_12m</th>\n",
       "      <th>pct_tl_nvr_dlq</th>\n",
       "      <th>percent_bc_gt_75</th>\n",
       "      <th>pub_rec_bankruptcies</th>\n",
       "      <th>tax_liens</th>\n",
       "      <th>tot_hi_cred_lim</th>\n",
       "      <th>total_bal_ex_mort</th>\n",
       "      <th>total_bc_limit</th>\n",
       "      <th>total_il_high_credit_limit</th>\n",
       "    </tr>\n",
       "  </thead>\n",
       "  <tbody>\n",
       "    <tr>\n",
       "      <th>0</th>\n",
       "      <td> 10159611</td>\n",
       "      <td> 12011228</td>\n",
       "      <td> 10000</td>\n",
       "      <td> 10000</td>\n",
       "      <td> 10000</td>\n",
       "      <td>  36 months</td>\n",
       "      <td>   9.67%</td>\n",
       "      <td> 321.13</td>\n",
       "      <td> B</td>\n",
       "      <td> B1</td>\n",
       "      <td>...</td>\n",
       "      <td> 0</td>\n",
       "      <td> 1</td>\n",
       "      <td>  77.3</td>\n",
       "      <td>  66.7</td>\n",
       "      <td> 0</td>\n",
       "      <td> 0</td>\n",
       "      <td>  58486</td>\n",
       "      <td> 39143</td>\n",
       "      <td>  9200</td>\n",
       "      <td> 36186</td>\n",
       "    </tr>\n",
       "    <tr>\n",
       "      <th>1</th>\n",
       "      <td> 10129477</td>\n",
       "      <td> 11981093</td>\n",
       "      <td> 14000</td>\n",
       "      <td> 14000</td>\n",
       "      <td> 14000</td>\n",
       "      <td>  36 months</td>\n",
       "      <td>  12.85%</td>\n",
       "      <td> 470.71</td>\n",
       "      <td> B</td>\n",
       "      <td> B4</td>\n",
       "      <td>...</td>\n",
       "      <td> 0</td>\n",
       "      <td> 0</td>\n",
       "      <td>  78.6</td>\n",
       "      <td> 100.0</td>\n",
       "      <td> 1</td>\n",
       "      <td> 0</td>\n",
       "      <td>  31840</td>\n",
       "      <td> 17672</td>\n",
       "      <td>  3900</td>\n",
       "      <td> 27340</td>\n",
       "    </tr>\n",
       "    <tr>\n",
       "      <th>2</th>\n",
       "      <td> 10149342</td>\n",
       "      <td> 12000897</td>\n",
       "      <td> 27050</td>\n",
       "      <td> 27050</td>\n",
       "      <td> 27050</td>\n",
       "      <td>  36 months</td>\n",
       "      <td>  10.99%</td>\n",
       "      <td> 885.46</td>\n",
       "      <td> B</td>\n",
       "      <td> B2</td>\n",
       "      <td>...</td>\n",
       "      <td> 0</td>\n",
       "      <td> 1</td>\n",
       "      <td> 100.0</td>\n",
       "      <td>  25.0</td>\n",
       "      <td> 0</td>\n",
       "      <td> 0</td>\n",
       "      <td> 138554</td>\n",
       "      <td> 70186</td>\n",
       "      <td> 35700</td>\n",
       "      <td> 33054</td>\n",
       "    </tr>\n",
       "    <tr>\n",
       "      <th>3</th>\n",
       "      <td> 10139658</td>\n",
       "      <td> 11991209</td>\n",
       "      <td> 12000</td>\n",
       "      <td> 12000</td>\n",
       "      <td> 12000</td>\n",
       "      <td>  36 months</td>\n",
       "      <td>  13.53%</td>\n",
       "      <td> 407.40</td>\n",
       "      <td> B</td>\n",
       "      <td> B5</td>\n",
       "      <td>...</td>\n",
       "      <td> 0</td>\n",
       "      <td> 2</td>\n",
       "      <td>  81.2</td>\n",
       "      <td>  33.3</td>\n",
       "      <td> 0</td>\n",
       "      <td> 0</td>\n",
       "      <td>  18130</td>\n",
       "      <td> 13605</td>\n",
       "      <td>  7000</td>\n",
       "      <td> 10030</td>\n",
       "    </tr>\n",
       "    <tr>\n",
       "      <th>4</th>\n",
       "      <td> 10159548</td>\n",
       "      <td> 12011167</td>\n",
       "      <td> 15000</td>\n",
       "      <td> 15000</td>\n",
       "      <td> 15000</td>\n",
       "      <td>  36 months</td>\n",
       "      <td>   8.90%</td>\n",
       "      <td> 476.30</td>\n",
       "      <td> A</td>\n",
       "      <td> A5</td>\n",
       "      <td>...</td>\n",
       "      <td> 0</td>\n",
       "      <td> 0</td>\n",
       "      <td>  89.3</td>\n",
       "      <td>  66.7</td>\n",
       "      <td> 0</td>\n",
       "      <td> 0</td>\n",
       "      <td> 288195</td>\n",
       "      <td> 39448</td>\n",
       "      <td> 14200</td>\n",
       "      <td> 33895</td>\n",
       "    </tr>\n",
       "  </tbody>\n",
       "</table>\n",
       "<p>5 rows × 111 columns</p>\n",
       "</div>"
      ],
      "text/plain": [
       "         id  member_id  loan_amnt  funded_amnt  funded_amnt_inv        term  \\\n",
       "0  10159611   12011228      10000        10000            10000   36 months   \n",
       "1  10129477   11981093      14000        14000            14000   36 months   \n",
       "2  10149342   12000897      27050        27050            27050   36 months   \n",
       "3  10139658   11991209      12000        12000            12000   36 months   \n",
       "4  10159548   12011167      15000        15000            15000   36 months   \n",
       "\n",
       "  int_rate  installment grade sub_grade            ...              \\\n",
       "0    9.67%       321.13     B        B1            ...               \n",
       "1   12.85%       470.71     B        B4            ...               \n",
       "2   10.99%       885.46     B        B2            ...               \n",
       "3   13.53%       407.40     B        B5            ...               \n",
       "4    8.90%       476.30     A        A5            ...               \n",
       "\n",
       "  num_tl_90g_dpd_24m num_tl_op_past_12m pct_tl_nvr_dlq  percent_bc_gt_75  \\\n",
       "0                  0                  1           77.3              66.7   \n",
       "1                  0                  0           78.6             100.0   \n",
       "2                  0                  1          100.0              25.0   \n",
       "3                  0                  2           81.2              33.3   \n",
       "4                  0                  0           89.3              66.7   \n",
       "\n",
       "  pub_rec_bankruptcies tax_liens tot_hi_cred_lim total_bal_ex_mort  \\\n",
       "0                    0         0           58486             39143   \n",
       "1                    1         0           31840             17672   \n",
       "2                    0         0          138554             70186   \n",
       "3                    0         0           18130             13605   \n",
       "4                    0         0          288195             39448   \n",
       "\n",
       "  total_bc_limit total_il_high_credit_limit  \n",
       "0           9200                      36186  \n",
       "1           3900                      27340  \n",
       "2          35700                      33054  \n",
       "3           7000                      10030  \n",
       "4          14200                      33895  \n",
       "\n",
       "[5 rows x 111 columns]"
      ]
     },
     "execution_count": 5,
     "metadata": {},
     "output_type": "execute_result"
    }
   ],
   "source": [
    "# load the data in, convert issue_d to a datetime field\n",
    "base_folder = 'data/'\n",
    "file_name = 'LoanStats3b.csv' # 3b = 2012/2013\n",
    "df_file = pd.read_csv(base_folder+file_name, delimiter=',', converters={'issue_d': to_datetime})\n",
    "df_file.head()"
   ]
  },
  {
   "cell_type": "markdown",
   "metadata": {},
   "source": [
    "For a more detailed exploration of the various variables, see also <a href=\"http://oweng.net/LendingClub/sample_data.html\">sample data</a>."
   ]
  },
  {
   "cell_type": "code",
   "execution_count": 6,
   "metadata": {},
   "outputs": [
    {
     "name": "stdout",
     "output_type": "stream",
     "text": [
      "The full file we have chosen, covering loans issued in 2012 and 2013 has 188,181 rows and 111 columns.\n",
      "After culling down to only those loans that have ended, wind up with 159,060 rows.\n"
     ]
    }
   ],
   "source": [
    "\n",
    "print 'The full file we have chosen, covering loans issued in 2012 and 2013 has {:,} rows and {} columns.'.format(\n",
    "            df_file.shape[0],  df_file.shape[1]) # (188181, 111)\n",
    "\n",
    "# function to create a single binary value that indicates whether or not a loan was paid off\n",
    "def default_status(status):\n",
    "    default_val = -1\n",
    "    if status in ('Charged Off','Default'):\n",
    "        default_val = 1\n",
    "    elif status == 'Fully Paid':\n",
    "        default_val = 0\n",
    "        \n",
    "    return default_val\n",
    "    \n",
    "\n",
    "# add defaulted column, 1 for those that defaulted, 0 for those that paid (-1 for all others)\n",
    "df_file['defaulted'] = df_file['loan_status'].apply(lambda s: default_status(s))\n",
    "# only want loans that have ended definitively\n",
    "df_file = df_file[df_file['defaulted'] > -1 ]\n",
    "\n",
    "print 'After culling down to only those loans that have ended, wind up with {:,} rows.'.format(df_file.shape[0])\n",
    "\n"
   ]
  },
  {
   "cell_type": "code",
   "execution_count": 7,
   "metadata": {},
   "outputs": [
    {
     "name": "stdout",
     "output_type": "stream",
     "text": [
      "Loan counts broken out by issue year:\n",
      "2013    108332\n",
      "2012     50728\n",
      "dtype: int64\n",
      "and broken out additionally by loan term and default status\n"
     ]
    },
    {
     "data": {
      "text/plain": [
       "year  term        defaulted\n",
       "2012   36 months  0            37564\n",
       "                  1             5906\n",
       "       60 months  0             4750\n",
       "                  1             2508\n",
       "2013   36 months  0            76684\n",
       "                  1            11898\n",
       "       60 months  0            13384\n",
       "                  1             6366\n",
       "dtype: int64"
      ]
     },
     "execution_count": 7,
     "metadata": {},
     "output_type": "execute_result"
    }
   ],
   "source": [
    "# create a new column that holds only the year value for when the loan was issued\n",
    "df_file['year'] = df_file['issue_d'].apply(lambda dt: dt.year)\n",
    "\n",
    "print 'Loan counts broken out by issue year:'\n",
    "print df_file['year'].value_counts()\n",
    "\n",
    "print 'and broken out additionally by loan term and default status'\n",
    "df_file.groupby(['year', 'term', 'defaulted']).size()"
   ]
  },
  {
   "cell_type": "code",
   "execution_count": 8,
   "metadata": {},
   "outputs": [
    {
     "name": "stdout",
     "output_type": "stream",
     "text": [
      "Narrow down to only 3-year loans issued in 2013, left with 88,582 rows.\n"
     ]
    }
   ],
   "source": [
    "# trying to settle on a reasonable number of rows, want a lot of data of course but we\n",
    "# will also be constrained by the computing power of our local machines\n",
    "# Narrowing to all 3-year loans issued in 2013 seems a good compromise\n",
    "df_subset = df_file[(df_file['year']==2013) & (df_file['term']==' 36 months')]\n",
    "df_subset.is_copy = False\n",
    "\n",
    "print 'Narrow down to only 3-year loans issued in 2013, left with {:,} rows.'.format(df_subset.shape[0])"
   ]
  },
  {
   "cell_type": "code",
   "execution_count": 9,
   "metadata": {
    "collapsed": true
   },
   "outputs": [],
   "source": [
    "# create rubric for scoring the cost of having someone to whom a loan has been issued ultimately default on full repayment\n",
    "def cost_of_default(row):\n",
    "    cost = 0\n",
    "    if row['defaulted'] == 1:\n",
    "        # amount lent - how much was paid before the loan defaulted - cost of collecting unpaid amount\n",
    "        cost = row['loan_amnt'] - row['total_pymnt'] - row['collection_recovery_fee']\n",
    "        \n",
    "    return cost\n",
    "    \n",
    "    \n",
    "df_subset['default_cost'] = df_subset.apply(lambda row: cost_of_default(row), axis=1)\n"
   ]
  },
  {
   "cell_type": "code",
   "execution_count": 10,
   "metadata": {},
   "outputs": [],
   "source": [
    "# now set the initial df object, this makes it easier to reset while working on subsequent code\n",
    "df = df_subset\n",
    "df.is_copy = False"
   ]
  },
  {
   "cell_type": "markdown",
   "metadata": {},
   "source": [
    "-----------"
   ]
  },
  {
   "cell_type": "code",
   "execution_count": 11,
   "metadata": {
    "scrolled": true
   },
   "outputs": [
    {
     "name": "stdout",
     "output_type": "stream",
     "text": [
      "Summary stats of numerical data, depending on the subset of data under review, there appear to be quite a few \n",
      "columns that are entirely empty. These will be proactively removed from the data before modeling.\n",
      "In fact, these stats can also be used when trying to decide which time range of data to review, some values may\n",
      "precipitously increase or decrease, which in turn can have different ripple effects in different model scenarios.\n",
      "\n",
      "\n",
      "                              missing   missing                                                       \n",
      "column                        ALL?      ANY?               min                 max                mean\n",
      "-----------------------------------------------------------------------------------------------------------------\n",
      "acc_now_delinq                False     False           0.0000              5.0000              0.0031\n",
      "acc_open_past_24mths          False     False           0.0000             31.0000              3.9075\n",
      "all_util                      True      True              n.a.                n.a.                 n.a\n",
      "annual_inc                    False     False       6,000.0000      6,100,000.0000         70,989.6021\n",
      "annual_inc_joint              True      True              n.a.                n.a.                 n.a\n",
      "avg_cur_bal                   False     True            0.0000        958,084.0000         13,076.5311\n",
      "bc_open_to_buy                False     True            0.0000        278,899.0000          8,166.0720\n",
      "bc_util                       False     True            0.0000            339.6000             66.0794\n",
      "chargeoff_within_12_mths      False     False           0.0000              5.0000              0.0067\n",
      "collection_recovery_fee       False     False           0.0000          6,124.9380             12.2926\n",
      "collections_12_mths_ex_med    False     False           0.0000              4.0000              0.0044\n",
      "default_cost                  False     False     -13,291.6680         33,835.4900            589.8014\n",
      "defaulted                     False     False           0.0000              1.0000              0.1343\n",
      "delinq_2yrs                   False     False           0.0000             29.0000              0.2447\n",
      "delinq_amnt                   False     False           0.0000         65,000.0000             11.9067\n",
      "dti                           False     False           0.0000             34.9900             16.7700\n",
      "dti_joint                     True      True              n.a.                n.a.                 n.a\n",
      "funded_amnt                   False     False       1,000.0000         35,000.0000         12,648.6148\n",
      "funded_amnt_inv               False     False         950.0000         35,000.0000         12,641.9243\n",
      "id                            False     False     356,706.0000     10,234,817.0000      5,923,845.4390\n",
      "il_util                       True      True              n.a.                n.a.                 n.a\n",
      "inq_fi                        True      True              n.a.                n.a.                 n.a\n",
      "inq_last_12m                  True      True              n.a.                n.a.                 n.a\n",
      "inq_last_6mths                False     False           0.0000              6.0000              0.7832\n",
      "installment                   False     False          30.7100          1,408.1300            426.6578\n",
      "last_pymnt_amnt               False     False           0.0000         35,635.1000          3,870.5179\n",
      "loan_amnt                     False     False       1,000.0000         35,000.0000         12,648.6332\n",
      "max_bal_bc                    True      True              n.a.                n.a.                 n.a\n",
      "mo_sin_old_il_acct            False     True            0.0000            491.0000            122.7049\n",
      "mo_sin_old_rev_tl_op          False     False           5.0000            760.0000            175.0231\n",
      "mo_sin_rcnt_rev_tl_op         False     False           0.0000            221.0000             13.8650\n",
      "mo_sin_rcnt_tl                False     False           0.0000            148.0000              9.0554\n",
      "mort_acc                      False     False           0.0000             31.0000              1.7270\n",
      "mths_since_last_delinq        False     True            0.0000            149.0000             34.8534\n",
      "mths_since_last_major_derog   False     True            0.0000            149.0000             42.0304\n",
      "mths_since_last_record        False     True            1.0000            121.0000             85.3260\n",
      "mths_since_rcnt_il            True      True              n.a.                n.a.                 n.a\n",
      "mths_since_recent_bc          False     True            0.0000            554.0000             25.4428\n",
      "mths_since_recent_bc_dlq      False     True            0.0000            149.0000             41.2384\n",
      "mths_since_recent_inq         False     True            0.0000             24.0000              7.0776\n",
      "mths_since_recent_revol_delinqFalse     True            0.0000            149.0000             36.7000\n",
      "num_accts_ever_120_pd         False     False           0.0000             29.0000              0.3406\n",
      "num_actv_bc_tl                False     False           0.0000             26.0000              3.7153\n",
      "num_actv_rev_tl               False     False           0.0000             37.0000              5.5916\n",
      "num_bc_sats                   False     False           0.0000             35.0000              4.6332\n",
      "num_bc_tl                     False     False           0.0000             52.0000              8.9533\n",
      "num_il_tl                     False     False           0.0000             58.0000              7.4878\n",
      "num_op_rev_tl                 False     False           0.0000             58.0000              8.0219\n",
      "num_rev_accts                 False     False           2.0000             91.0000             14.7971\n",
      "num_rev_tl_bal_gt_0           False     False           0.0000             37.0000              5.6098\n",
      "num_sats                      False     False           0.0000             62.0000             10.9080\n",
      "num_tl_120dpd_2m              False     True            0.0000              2.0000              0.0005\n",
      "num_tl_30dpd                  False     False           0.0000              4.0000              0.0020\n",
      "num_tl_90g_dpd_24m            False     False           0.0000             24.0000              0.0647\n",
      "num_tl_op_past_12m            False     False           0.0000             19.0000              1.7812\n",
      "open_acc                      False     False           0.0000             62.0000             10.9343\n",
      "open_acc_6m                   True      True              n.a.                n.a.                 n.a\n",
      "open_il_12m                   True      True              n.a.                n.a.                 n.a\n",
      "open_il_24m                   True      True              n.a.                n.a.                 n.a\n",
      "open_il_6m                    True      True              n.a.                n.a.                 n.a\n",
      "open_rv_12m                   True      True              n.a.                n.a.                 n.a\n",
      "open_rv_24m                   True      True              n.a.                n.a.                 n.a\n",
      "out_prncp                     False     False           0.0000          6,186.6600              0.2394\n",
      "out_prncp_inv                 False     False           0.0000          6,186.6600              0.2394\n",
      "pct_tl_nvr_dlq                False     True           25.0000            100.0000             95.4215\n",
      "percent_bc_gt_75              False     True            0.0000            100.0000             52.5117\n",
      "policy_code                   False     False           1.0000              1.0000              1.0000\n",
      "pub_rec                       False     False           0.0000             54.0000              0.1450\n",
      "pub_rec_bankruptcies          False     False           0.0000              8.0000              0.1174\n",
      "recoveries                    False     False           0.0000         34,294.1000            112.6020\n",
      "revol_bal                     False     False           0.0000      2,568,995.0000         15,691.1619\n",
      "tax_liens                     False     False           0.0000             53.0000              0.0192\n",
      "tot_coll_amt                  False     False           0.0000         75,081.0000             86.2178\n",
      "tot_cur_bal                   False     False           0.0000      4,772,549.0000        128,555.1755\n",
      "tot_hi_cred_lim               False     False           0.0000      9,999,999.0000        155,753.0682\n",
      "total_acc                     False     False           2.0000             98.0000             24.2944\n",
      "total_bal_ex_mort             False     False           0.0000      2,644,442.0000         41,244.0335\n",
      "total_bal_il                  True      True              n.a.                n.a.                 n.a\n",
      "total_bc_limit                False     False           0.0000        297,800.0000         19,561.6577\n",
      "total_cu_tl                   True      True              n.a.                n.a.                 n.a\n",
      "total_il_high_credit_limit    False     False           0.0000        602,496.0000         32,741.9677\n",
      "total_pymnt                   False     False           0.0000         50,631.9587         13,879.9403\n",
      "total_pymnt_inv               False     False           0.0000         50,631.9600         13,872.6060\n",
      "total_rec_int                 False     False           0.0000         15,631.9600          2,082.6809\n",
      "total_rec_late_fee            False     False           0.0000            367.6000              0.7184\n",
      "total_rec_prncp               False     False           0.0000         35,000.0000         11,683.9389\n",
      "total_rev_hi_lim              False     False           0.0000      9,999,999.0000         28,820.8580\n",
      "verification_status_joint     True      True              n.a.                n.a.                 n.a\n",
      "year                          False     False       2,013.0000          2,013.0000          2,013.0000\n",
      "\n",
      "89 numeric columns summarized\n",
      "25 non-numeric columns skipped\n",
      "\n",
      "17 empty columns to be dropped:\n",
      "\tall_util, annual_inc_joint, dti_joint, il_util, inq_fi, inq_last_12m, max_bal_bc, mths_since_rcnt_il, open_acc_6m, open_il_12m, open_il_24m, open_il_6m, open_rv_12m, open_rv_24m, total_bal_il, total_cu_tl, verification_status_joint\n",
      "76 columns are fully populated:\n",
      "\tacc_now_delinq, acc_open_past_24mths, addr_state, annual_inc, application_type, chargeoff_within_12_mths, collection_recovery_fee, collections_12_mths_ex_med, default_cost, defaulted, delinq_2yrs, delinq_amnt, dti, earliest_cr_line, emp_length, funded_amnt, funded_amnt_inv, grade, home_ownership, id, initial_list_status, inq_last_6mths, installment, int_rate, issue_d, last_pymnt_amnt, loan_amnt, loan_status, member_id, mo_sin_old_rev_tl_op, mo_sin_rcnt_rev_tl_op, mo_sin_rcnt_tl, mort_acc, num_accts_ever_120_pd, num_actv_bc_tl, num_actv_rev_tl, num_bc_sats, num_bc_tl, num_il_tl, num_op_rev_tl, num_rev_accts, num_rev_tl_bal_gt_0, num_sats, num_tl_30dpd, num_tl_90g_dpd_24m, num_tl_op_past_12m, open_acc, out_prncp, out_prncp_inv, policy_code, pub_rec, pub_rec_bankruptcies, purpose, pymnt_plan, recoveries, revol_bal, sub_grade, tax_liens, term, tot_coll_amt, tot_cur_bal, tot_hi_cred_lim, total_acc, total_bal_ex_mort, total_bc_limit, total_il_high_credit_limit, total_pymnt, total_pymnt_inv, total_rec_int, total_rec_late_fee, total_rec_prncp, total_rev_hi_lim, url, verification_status, year, zip_code\n"
     ]
    }
   ],
   "source": [
    "print 'Summary stats of numerical data, depending on the subset of data under review, there appear to be quite a few '\n",
    "print 'columns that are entirely empty. These will be proactively removed from the data before modeling.'\n",
    "print 'In fact, these stats can also be used when trying to decide which time range of data to review, some values may'\n",
    "print 'precipitously increase or decrease, which in turn can have different ripple effects in different model scenarios.'\n",
    "print\n",
    "print\n",
    "\n",
    "fmt = '{:<30}{:<10}{:<10}{:>12}{:>20}{:>20}'\n",
    "fmt_numbers = '{:<30}{:<10}{:<10}{:>12,.4f}{:>20,.4f}{:>20,.4f}'\n",
    "    \n",
    "print fmt.format('', 'missing', 'missing', '', '', '')\n",
    "print fmt.format('column', 'ALL?', 'ANY?', 'min', 'max', 'mean')\n",
    "print '-----------------------------------------------------------------------------------------------------------------'\n",
    "alpha_dtypes = sorted(df.dtypes.iteritems(), key = lambda item: item[0])\n",
    "\n",
    "numeric_count = 0\n",
    "non_numeric_count = 0\n",
    "empty_columns = []\n",
    "fully_pop_columns = []\n",
    "for col, data_type in alpha_dtypes:\n",
    "    if col == 'member_id':\n",
    "        non_numeric_count += 1\n",
    "        fully_pop_columns.append(col)\n",
    "        continue\n",
    "\n",
    "    all_empty = df[col].isnull().values.all()\n",
    "    any_empty = df[col].isnull().values.any()\n",
    "    if data_type == np.int64 or data_type == np.float64:\n",
    "        numeric_count += 1\n",
    "        if all_empty:\n",
    "            empty_columns.append(col)\n",
    "            min_val, max_val, mean_val = 'n.a.','n.a.','n.a'\n",
    "            line = fmt.format(col, str(all_empty), str(any_empty), min_val, max_val, mean_val)\n",
    "        else:\n",
    "            #print data_type\n",
    "            stats = df[col].describe()            \n",
    "            min_val, max_val, mean_val = stats['min'], stats['max'], stats['mean']\n",
    "            line = fmt_numbers.format(col, str(all_empty), str(any_empty), min_val, max_val, mean_val)\n",
    "        print line\n",
    "    else:\n",
    "        non_numeric_count += 1\n",
    "        if all_empty:\n",
    "            empty_columns.append(col)\n",
    "    if not any_empty:\n",
    "        fully_pop_columns.append(col)\n",
    "            \n",
    "            \n",
    "print            \n",
    "print '{} numeric columns summarized'.format(numeric_count)\n",
    "print '{} non-numeric columns skipped'.format(non_numeric_count)\n",
    "print\n",
    "\n",
    "print '{} empty columns to be dropped:'.format(len(empty_columns))\n",
    "print '\\t' + ', '.join(empty_columns)\n",
    "print '{} columns are fully populated:'.format(len(fully_pop_columns))\n",
    "print '\\t' + ', '.join(fully_pop_columns)\n"
   ]
  },
  {
   "cell_type": "code",
   "execution_count": 12,
   "metadata": {},
   "outputs": [
    {
     "name": "stdout",
     "output_type": "stream",
     "text": [
      "we begin with 114 columns\n",
      "... and after those that are entirely empty the dataset is down to (88582, 97) columns\n"
     ]
    }
   ],
   "source": [
    "# drop all the columns that are entirely empty\n",
    "print 'we begin with {} columns'.format(df.shape[1])\n",
    "columns_to_drop = list(set(df.columns).intersection(set(empty_columns)))\n",
    "df.drop(columns_to_drop, axis=1, inplace=True)\n",
    "print '... and after those that are entirely empty the dataset is down to {} columns'.format(df.shape)\n"
   ]
  },
  {
   "cell_type": "code",
   "execution_count": 13,
   "metadata": {},
   "outputs": [
    {
     "name": "stdout",
     "output_type": "stream",
     "text": [
      "of those not fully populated, how many observations are empty and what is the proportion of missing data? \n"
     ]
    },
    {
     "data": {
      "text/html": [
       "<div style=\"max-height:1000px;max-width:1500px;overflow:auto;\">\n",
       "<table border=\"1\" class=\"dataframe\">\n",
       "  <thead>\n",
       "    <tr style=\"text-align: right;\">\n",
       "      <th></th>\n",
       "      <th>0</th>\n",
       "      <th>missing_prop</th>\n",
       "    </tr>\n",
       "  </thead>\n",
       "  <tbody>\n",
       "    <tr>\n",
       "      <th>emp_title</th>\n",
       "      <td> 82584</td>\n",
       "      <td> 0.067711</td>\n",
       "    </tr>\n",
       "    <tr>\n",
       "      <th>desc</th>\n",
       "      <td> 33216</td>\n",
       "      <td> 0.625025</td>\n",
       "    </tr>\n",
       "    <tr>\n",
       "      <th>title</th>\n",
       "      <td> 88578</td>\n",
       "      <td> 0.000045</td>\n",
       "    </tr>\n",
       "    <tr>\n",
       "      <th>mths_since_last_delinq</th>\n",
       "      <td> 38218</td>\n",
       "      <td> 0.568558</td>\n",
       "    </tr>\n",
       "    <tr>\n",
       "      <th>mths_since_last_record</th>\n",
       "      <td> 11201</td>\n",
       "      <td> 0.873552</td>\n",
       "    </tr>\n",
       "    <tr>\n",
       "      <th>revol_util</th>\n",
       "      <td> 88533</td>\n",
       "      <td> 0.000553</td>\n",
       "    </tr>\n",
       "    <tr>\n",
       "      <th>last_pymnt_d</th>\n",
       "      <td> 88502</td>\n",
       "      <td> 0.000903</td>\n",
       "    </tr>\n",
       "    <tr>\n",
       "      <th>next_pymnt_d</th>\n",
       "      <td>    18</td>\n",
       "      <td> 0.999797</td>\n",
       "    </tr>\n",
       "    <tr>\n",
       "      <th>last_credit_pull_d</th>\n",
       "      <td> 88575</td>\n",
       "      <td> 0.000079</td>\n",
       "    </tr>\n",
       "    <tr>\n",
       "      <th>mths_since_last_major_derog</th>\n",
       "      <td> 18119</td>\n",
       "      <td> 0.795455</td>\n",
       "    </tr>\n",
       "    <tr>\n",
       "      <th>avg_cur_bal</th>\n",
       "      <td> 88578</td>\n",
       "      <td> 0.000045</td>\n",
       "    </tr>\n",
       "    <tr>\n",
       "      <th>bc_open_to_buy</th>\n",
       "      <td> 87879</td>\n",
       "      <td> 0.007936</td>\n",
       "    </tr>\n",
       "    <tr>\n",
       "      <th>bc_util</th>\n",
       "      <td> 87844</td>\n",
       "      <td> 0.008331</td>\n",
       "    </tr>\n",
       "    <tr>\n",
       "      <th>mo_sin_old_il_acct</th>\n",
       "      <td> 84785</td>\n",
       "      <td> 0.042864</td>\n",
       "    </tr>\n",
       "    <tr>\n",
       "      <th>mths_since_recent_bc</th>\n",
       "      <td> 87975</td>\n",
       "      <td> 0.006852</td>\n",
       "    </tr>\n",
       "    <tr>\n",
       "      <th>mths_since_recent_bc_dlq</th>\n",
       "      <td> 19653</td>\n",
       "      <td> 0.778138</td>\n",
       "    </tr>\n",
       "    <tr>\n",
       "      <th>mths_since_recent_inq</th>\n",
       "      <td> 78732</td>\n",
       "      <td> 0.111196</td>\n",
       "    </tr>\n",
       "    <tr>\n",
       "      <th>mths_since_recent_revol_delinq</th>\n",
       "      <td> 26411</td>\n",
       "      <td> 0.701847</td>\n",
       "    </tr>\n",
       "    <tr>\n",
       "      <th>num_tl_120dpd_2m</th>\n",
       "      <td> 88435</td>\n",
       "      <td> 0.001659</td>\n",
       "    </tr>\n",
       "    <tr>\n",
       "      <th>pct_tl_nvr_dlq</th>\n",
       "      <td> 88505</td>\n",
       "      <td> 0.000869</td>\n",
       "    </tr>\n",
       "    <tr>\n",
       "      <th>percent_bc_gt_75</th>\n",
       "      <td> 87878</td>\n",
       "      <td> 0.007947</td>\n",
       "    </tr>\n",
       "  </tbody>\n",
       "</table>\n",
       "</div>"
      ],
      "text/plain": [
       "                                    0  missing_prop\n",
       "emp_title                       82584      0.067711\n",
       "desc                            33216      0.625025\n",
       "title                           88578      0.000045\n",
       "mths_since_last_delinq          38218      0.568558\n",
       "mths_since_last_record          11201      0.873552\n",
       "revol_util                      88533      0.000553\n",
       "last_pymnt_d                    88502      0.000903\n",
       "next_pymnt_d                       18      0.999797\n",
       "last_credit_pull_d              88575      0.000079\n",
       "mths_since_last_major_derog     18119      0.795455\n",
       "avg_cur_bal                     88578      0.000045\n",
       "bc_open_to_buy                  87879      0.007936\n",
       "bc_util                         87844      0.008331\n",
       "mo_sin_old_il_acct              84785      0.042864\n",
       "mths_since_recent_bc            87975      0.006852\n",
       "mths_since_recent_bc_dlq        19653      0.778138\n",
       "mths_since_recent_inq           78732      0.111196\n",
       "mths_since_recent_revol_delinq  26411      0.701847\n",
       "num_tl_120dpd_2m                88435      0.001659\n",
       "pct_tl_nvr_dlq                  88505      0.000869\n",
       "percent_bc_gt_75                87878      0.007947"
      ]
     },
     "execution_count": 13,
     "metadata": {},
     "output_type": "execute_result"
    }
   ],
   "source": [
    "print 'of those not fully populated, how many observations are empty and what is the proportion of missing data? '\n",
    "\n",
    "df_count = pd.DataFrame(df.drop(fully_pop_columns, axis=1).count())\n",
    "df_count['missing_prop'] = df_count.apply(lambda cnt: 1-(cnt*1.0/df.shape[0]))\n",
    "df_count"
   ]
  },
  {
   "cell_type": "code",
   "execution_count": 14,
   "metadata": {},
   "outputs": [
    {
     "name": "stdout",
     "output_type": "stream",
     "text": [
      "preliminary review of those missing some data results in a series of actions\n",
      "\n",
      "column                          action      description\n",
      "----------------------------------------------------------------------------------------------------\n",
      "emp_title                       drop        title supplied by borrower\n",
      "desc                            drop        loan description supplied by borrower\n",
      "title                           drop        loan title supplied by borrower\n",
      "mths_since_last_delinq          zero-fill   # of months since borrowers last delinquency\n",
      "mths_since_last_record          zero-fill   months since last public record\n",
      "revol_util                      zero-fill   amount of credit borrower is using relative to all available revolving credit\n",
      "last_pymnt_d                    drop        last month payment was received\n",
      "next_pymnt_d                    drop        next scheduled payment date\n",
      "last_credit_pull_d              drop        last month LC pulled credit for this loan\n",
      "mths_since_last_major_derog     zero-fill   months since most recent 90-day or worse rating\n",
      "avg_cur_bal                     zero-fill   average current balance of all accounts\n",
      "bc_open_to_buy                  zero-fill   total open to buy on revolving bankcards\n",
      "bc_util                         zero-fill   ratio of total curr balance to high credit/credit limit for all bankcard accnts\n",
      "mo_sin_old_il_acct              zero-fill   months since oldest bank installment account opened\n",
      "mths_since_recent_bc            zero-fill   months since most recent bankcard account opened\n",
      "mths_since_recent_bc_dlq        zero-fill   months since most recent bankcard delinquency\n",
      "mths_since_recent_inq           zero-fill   months since most recent inquiry\n",
      "mths_since_recent_revol_delinq  zero-fill   months since most recent revolving delinquency\n",
      "num_tl_120dpd_2m                zero-fill   number of accounts currently 120 days past due (updated in past 2 months)\n",
      "pct_tl_nvr_dlq                  zero-fill   percent of trades never delinquent\n",
      "percent_bc_gt_75                zero-fill   percentage of all bankcard accounts > 75% of limit\n"
     ]
    }
   ],
   "source": [
    "# a list of those missing some data: the field, recommended action, description from data dictionary\n",
    "\n",
    "some_missing = [('emp_title','drop','title supplied by borrower'),\n",
    "('desc','drop','loan description supplied by borrower'),\n",
    "('title','drop','loan title supplied by borrower'),\n",
    "('mths_since_last_delinq','zero-fill','# of months since borrower''s last delinquency'),\n",
    "('mths_since_last_record','zero-fill','months since last public record'),\n",
    "('revol_util','zero-fill','amount of credit borrower is using relative to all available revolving credit'),\n",
    "('last_pymnt_d','drop','last month payment was received'),\n",
    "('next_pymnt_d','drop','next scheduled payment date'),\n",
    "('last_credit_pull_d','drop','last month LC pulled credit for this loan'),\n",
    "('mths_since_last_major_derog','zero-fill','months since most recent 90-day or worse rating'),\n",
    "('avg_cur_bal','zero-fill','average current balance of all accounts'),\n",
    "('bc_open_to_buy','zero-fill','total open to buy on revolving bankcards'),\n",
    "('bc_util','zero-fill','ratio of total curr balance to high credit/credit limit for all bankcard accnts'),\n",
    "('mo_sin_old_il_acct','zero-fill','months since oldest bank installment account opened'),\n",
    "('mths_since_recent_bc','zero-fill','months since most recent bankcard account opened'),\n",
    "('mths_since_recent_bc_dlq','zero-fill','months since most recent bankcard delinquency'),\n",
    "('mths_since_recent_inq','zero-fill','months since most recent inquiry'),\n",
    "('mths_since_recent_revol_delinq','zero-fill','months since most recent revolving delinquency'),\n",
    "('num_tl_120dpd_2m','zero-fill','number of accounts currently 120 days past due (updated in past 2 months)'),\n",
    "('pct_tl_nvr_dlq','zero-fill','percent of trades never delinquent'),\n",
    "('percent_bc_gt_75','zero-fill','percentage of all bankcard accounts > 75% of limit')]\n",
    "\n",
    "print 'preliminary review of those missing some data results in a series of actions'\n",
    "print\n",
    "print '{:<32}{:<12}{}'.format('column','action','description')\n",
    "print '-'*100\n",
    "for col, action, descr in some_missing:\n",
    "    print '{:<32}{:<12}{}'.format(col, action, descr)"
   ]
  },
  {
   "cell_type": "code",
   "execution_count": 15,
   "metadata": {},
   "outputs": [
    {
     "name": "stdout",
     "output_type": "stream",
     "text": [
      "take a look at columns that are to be filled\n"
     ]
    },
    {
     "data": {
      "text/html": [
       "<div style=\"max-height:1000px;max-width:1500px;overflow:auto;\">\n",
       "<table border=\"1\" class=\"dataframe\">\n",
       "  <thead>\n",
       "    <tr style=\"text-align: right;\">\n",
       "      <th></th>\n",
       "      <th>mths_since_last_delinq</th>\n",
       "      <th>mths_since_last_record</th>\n",
       "      <th>revol_util</th>\n",
       "      <th>mths_since_last_major_derog</th>\n",
       "      <th>avg_cur_bal</th>\n",
       "      <th>bc_open_to_buy</th>\n",
       "      <th>bc_util</th>\n",
       "      <th>mo_sin_old_il_acct</th>\n",
       "      <th>mths_since_recent_bc</th>\n",
       "      <th>mths_since_recent_bc_dlq</th>\n",
       "      <th>mths_since_recent_inq</th>\n",
       "      <th>mths_since_recent_revol_delinq</th>\n",
       "      <th>num_tl_120dpd_2m</th>\n",
       "      <th>pct_tl_nvr_dlq</th>\n",
       "      <th>percent_bc_gt_75</th>\n",
       "    </tr>\n",
       "  </thead>\n",
       "  <tbody>\n",
       "    <tr>\n",
       "      <th>2 </th>\n",
       "      <td>NaN</td>\n",
       "      <td> NaN</td>\n",
       "      <td> 61.2%</td>\n",
       "      <td>NaN</td>\n",
       "      <td>  9570</td>\n",
       "      <td> 16473</td>\n",
       "      <td> 53.9</td>\n",
       "      <td> 117</td>\n",
       "      <td> 16</td>\n",
       "      <td>NaN</td>\n",
       "      <td>  8</td>\n",
       "      <td>NaN</td>\n",
       "      <td> 0</td>\n",
       "      <td> 100.0</td>\n",
       "      <td>  25.0</td>\n",
       "    </tr>\n",
       "    <tr>\n",
       "      <th>3 </th>\n",
       "      <td> 53</td>\n",
       "      <td>  33</td>\n",
       "      <td> 68.8%</td>\n",
       "      <td> 53</td>\n",
       "      <td>  2268</td>\n",
       "      <td>  1428</td>\n",
       "      <td> 79.6</td>\n",
       "      <td> 124</td>\n",
       "      <td> 11</td>\n",
       "      <td> 53</td>\n",
       "      <td> 17</td>\n",
       "      <td> 53</td>\n",
       "      <td> 0</td>\n",
       "      <td>  81.2</td>\n",
       "      <td>  33.3</td>\n",
       "    </tr>\n",
       "    <tr>\n",
       "      <th>9 </th>\n",
       "      <td> 64</td>\n",
       "      <td> NaN</td>\n",
       "      <td> 54.5%</td>\n",
       "      <td> 71</td>\n",
       "      <td>   869</td>\n",
       "      <td>  6811</td>\n",
       "      <td> 54.6</td>\n",
       "      <td> 115</td>\n",
       "      <td>  0</td>\n",
       "      <td> 70</td>\n",
       "      <td>  0</td>\n",
       "      <td> 70</td>\n",
       "      <td> 0</td>\n",
       "      <td>  90.2</td>\n",
       "      <td>  50.0</td>\n",
       "    </tr>\n",
       "    <tr>\n",
       "      <th>10</th>\n",
       "      <td> 58</td>\n",
       "      <td>  53</td>\n",
       "      <td> 54.2%</td>\n",
       "      <td> 69</td>\n",
       "      <td>  3906</td>\n",
       "      <td>  2050</td>\n",
       "      <td> 52.3</td>\n",
       "      <td> 164</td>\n",
       "      <td> 14</td>\n",
       "      <td> 69</td>\n",
       "      <td>  8</td>\n",
       "      <td> 69</td>\n",
       "      <td> 0</td>\n",
       "      <td>  91.3</td>\n",
       "      <td>  66.7</td>\n",
       "    </tr>\n",
       "    <tr>\n",
       "      <th>11</th>\n",
       "      <td>NaN</td>\n",
       "      <td> NaN</td>\n",
       "      <td> 55.7%</td>\n",
       "      <td>NaN</td>\n",
       "      <td> 11783</td>\n",
       "      <td>  2441</td>\n",
       "      <td> 83.5</td>\n",
       "      <td> 123</td>\n",
       "      <td> 10</td>\n",
       "      <td>NaN</td>\n",
       "      <td> 10</td>\n",
       "      <td>NaN</td>\n",
       "      <td> 0</td>\n",
       "      <td> 100.0</td>\n",
       "      <td> 100.0</td>\n",
       "    </tr>\n",
       "    <tr>\n",
       "      <th>12</th>\n",
       "      <td>NaN</td>\n",
       "      <td> NaN</td>\n",
       "      <td> 54.6%</td>\n",
       "      <td>NaN</td>\n",
       "      <td> 53306</td>\n",
       "      <td> 13901</td>\n",
       "      <td> 67.1</td>\n",
       "      <td> 125</td>\n",
       "      <td>  5</td>\n",
       "      <td>NaN</td>\n",
       "      <td>  3</td>\n",
       "      <td>NaN</td>\n",
       "      <td> 0</td>\n",
       "      <td> 100.0</td>\n",
       "      <td>  16.7</td>\n",
       "    </tr>\n",
       "    <tr>\n",
       "      <th>14</th>\n",
       "      <td> 16</td>\n",
       "      <td> NaN</td>\n",
       "      <td> 66.2%</td>\n",
       "      <td> 16</td>\n",
       "      <td> 39267</td>\n",
       "      <td>  1016</td>\n",
       "      <td> 74.6</td>\n",
       "      <td> NaN</td>\n",
       "      <td> 11</td>\n",
       "      <td> 35</td>\n",
       "      <td> 11</td>\n",
       "      <td> 35</td>\n",
       "      <td> 0</td>\n",
       "      <td>  75.0</td>\n",
       "      <td>  50.0</td>\n",
       "    </tr>\n",
       "    <tr>\n",
       "      <th>15</th>\n",
       "      <td>NaN</td>\n",
       "      <td> NaN</td>\n",
       "      <td> 76.7%</td>\n",
       "      <td>NaN</td>\n",
       "      <td> 15372</td>\n",
       "      <td>  4822</td>\n",
       "      <td> 77.6</td>\n",
       "      <td> 179</td>\n",
       "      <td> 18</td>\n",
       "      <td>NaN</td>\n",
       "      <td>  7</td>\n",
       "      <td>NaN</td>\n",
       "      <td> 0</td>\n",
       "      <td> 100.0</td>\n",
       "      <td>  75.0</td>\n",
       "    </tr>\n",
       "    <tr>\n",
       "      <th>16</th>\n",
       "      <td>NaN</td>\n",
       "      <td> 104</td>\n",
       "      <td> 34.6%</td>\n",
       "      <td>NaN</td>\n",
       "      <td>  1772</td>\n",
       "      <td>  2255</td>\n",
       "      <td> 72.5</td>\n",
       "      <td> 129</td>\n",
       "      <td> 18</td>\n",
       "      <td>NaN</td>\n",
       "      <td>  6</td>\n",
       "      <td>NaN</td>\n",
       "      <td> 0</td>\n",
       "      <td> 100.0</td>\n",
       "      <td>  75.0</td>\n",
       "    </tr>\n",
       "    <tr>\n",
       "      <th>18</th>\n",
       "      <td>NaN</td>\n",
       "      <td> NaN</td>\n",
       "      <td> 22.3%</td>\n",
       "      <td>NaN</td>\n",
       "      <td>   815</td>\n",
       "      <td> 15051</td>\n",
       "      <td> 27.6</td>\n",
       "      <td>   2</td>\n",
       "      <td>  7</td>\n",
       "      <td>NaN</td>\n",
       "      <td>  2</td>\n",
       "      <td>NaN</td>\n",
       "      <td> 0</td>\n",
       "      <td> 100.0</td>\n",
       "      <td>   7.7</td>\n",
       "    </tr>\n",
       "  </tbody>\n",
       "</table>\n",
       "</div>"
      ],
      "text/plain": [
       "    mths_since_last_delinq  mths_since_last_record revol_util  \\\n",
       "2                      NaN                     NaN      61.2%   \n",
       "3                       53                      33      68.8%   \n",
       "9                       64                     NaN      54.5%   \n",
       "10                      58                      53      54.2%   \n",
       "11                     NaN                     NaN      55.7%   \n",
       "12                     NaN                     NaN      54.6%   \n",
       "14                      16                     NaN      66.2%   \n",
       "15                     NaN                     NaN      76.7%   \n",
       "16                     NaN                     104      34.6%   \n",
       "18                     NaN                     NaN      22.3%   \n",
       "\n",
       "    mths_since_last_major_derog  avg_cur_bal  bc_open_to_buy  bc_util  \\\n",
       "2                           NaN         9570           16473     53.9   \n",
       "3                            53         2268            1428     79.6   \n",
       "9                            71          869            6811     54.6   \n",
       "10                           69         3906            2050     52.3   \n",
       "11                          NaN        11783            2441     83.5   \n",
       "12                          NaN        53306           13901     67.1   \n",
       "14                           16        39267            1016     74.6   \n",
       "15                          NaN        15372            4822     77.6   \n",
       "16                          NaN         1772            2255     72.5   \n",
       "18                          NaN          815           15051     27.6   \n",
       "\n",
       "    mo_sin_old_il_acct  mths_since_recent_bc  mths_since_recent_bc_dlq  \\\n",
       "2                  117                    16                       NaN   \n",
       "3                  124                    11                        53   \n",
       "9                  115                     0                        70   \n",
       "10                 164                    14                        69   \n",
       "11                 123                    10                       NaN   \n",
       "12                 125                     5                       NaN   \n",
       "14                 NaN                    11                        35   \n",
       "15                 179                    18                       NaN   \n",
       "16                 129                    18                       NaN   \n",
       "18                   2                     7                       NaN   \n",
       "\n",
       "    mths_since_recent_inq  mths_since_recent_revol_delinq  num_tl_120dpd_2m  \\\n",
       "2                       8                             NaN                 0   \n",
       "3                      17                              53                 0   \n",
       "9                       0                              70                 0   \n",
       "10                      8                              69                 0   \n",
       "11                     10                             NaN                 0   \n",
       "12                      3                             NaN                 0   \n",
       "14                     11                              35                 0   \n",
       "15                      7                             NaN                 0   \n",
       "16                      6                             NaN                 0   \n",
       "18                      2                             NaN                 0   \n",
       "\n",
       "    pct_tl_nvr_dlq  percent_bc_gt_75  \n",
       "2            100.0              25.0  \n",
       "3             81.2              33.3  \n",
       "9             90.2              50.0  \n",
       "10            91.3              66.7  \n",
       "11           100.0             100.0  \n",
       "12           100.0              16.7  \n",
       "14            75.0              50.0  \n",
       "15           100.0              75.0  \n",
       "16           100.0              75.0  \n",
       "18           100.0               7.7  "
      ]
     },
     "execution_count": 15,
     "metadata": {},
     "output_type": "execute_result"
    }
   ],
   "source": [
    "print 'take a look at columns that are to be filled'\n",
    "# everything in the some_missing list is either destined to be dropped or have missing values filled in\n",
    "cols_to_fill = [col for col,action,descr in some_missing if action <> 'drop']\n",
    "df[cols_to_fill].head(10)"
   ]
  },
  {
   "cell_type": "code",
   "execution_count": 16,
   "metadata": {},
   "outputs": [
    {
     "name": "stdout",
     "output_type": "stream",
     "text": [
      "Below are one set of columns to drop, those that appear to reflect information unavailable at the time loan was issued.\n",
      "There may be additional columns that fall under this umbrella but best we can do is use logic to determine.\n",
      "\n",
      "column                             description\n",
      "----------------------------------------------------------------------------------------------------\n",
      "out_prncp                          Remaining outstanding principal for total amount funded\n",
      "out_prncp_inv                      Remaining outstanding principal for portion of total amount funded by investors\n",
      "total_pymnt_inv                    Payments received to date for portion of total amount funded by investors\n",
      "total_rec_prncp                    Principal received to date\n",
      "total_rec_int                      Interest received to date\n",
      "total_rec_late_fee                 Late fees received to date\n",
      "recoveries                         post charge off gross recovery\n",
      "collection_recovery_fee            post charge off collection fee\n",
      "last_pymnt_amnt                    Last total payment amount received\n"
     ]
    }
   ],
   "source": [
    "# gather other columns that we wan to drop\n",
    "\n",
    "# all of the below rate to information gathered during the term of the loan and do not represent information available \n",
    "later_info = [('out_prncp', 'Remaining outstanding principal for total amount funded'),\n",
    "('out_prncp_inv', 'Remaining outstanding principal for portion of total amount funded by investors'),\n",
    "# keep this one for now, will be useful in predicted cost of incorrectly guessing default status\n",
    "#('total_pymnt', 'Payments received to date for total amount funded'),\n",
    "('total_pymnt_inv', 'Payments received to date for portion of total amount funded by investors'),\n",
    "('total_rec_prncp', 'Principal received to date'),\n",
    "('total_rec_int', 'Interest received to date'),\n",
    "('total_rec_late_fee', 'Late fees received to date'),\n",
    "('recoveries', 'post charge off gross recovery'),\n",
    "('collection_recovery_fee', 'post charge off collection fee'),\n",
    "('last_pymnt_amnt', 'Last total payment amount received')]\n",
    "\n",
    "print 'Below are one set of columns to drop, those that appear to reflect information unavailable at the time loan was issued.'\n",
    "print 'There may be additional columns that fall under this umbrella but best we can do is use logic to determine.'\n",
    "print\n",
    "print '{:<35}{}'.format('column','description')\n",
    "print '-'*100\n",
    "for col, descr in later_info:\n",
    "    print '{:35}{}'.format(col, descr)"
   ]
  },
  {
   "cell_type": "code",
   "execution_count": 17,
   "metadata": {},
   "outputs": [
    {
     "name": "stdout",
     "output_type": "stream",
     "text": [
      "Dropping more columns for variety of reasons, including ones whose information is already contained in other columns:\n",
      "loan_status\n",
      "url\n",
      "grade\n",
      "pymnt_plan\n",
      "year\n",
      "term\n",
      "policy_code\n"
     ]
    }
   ],
   "source": [
    "            \n",
    "later_info_cols =  [col for col,descr in later_info]\n",
    "\n",
    "# drop the ones that hold our y values or equivalent... actually just drop loan_status now, so that it doesn't get one-hot\n",
    "# y_type_info_cols = ['defaulted', 'loan_status', 'default_cost']\n",
    "y_type_info_cols = ['loan_status']\n",
    "    \n",
    "# drop some more other reasons\n",
    "# url = URL for the LC page with listing data.\n",
    "# grade = LC assigned loan grade, we are keeping subgrade which effectively includes the grade info\n",
    "# pymnt_plan = is 'n' for all rows\n",
    "# year = a column we added, will be 2013 for all rows\n",
    "# term = we have already filtered to 3-year loans, value is 36 months for all\n",
    "# policy_code = is 1 for all our filtered rows\n",
    "others_to_drop_cols = ['url', 'grade', 'pymnt_plan', 'year', 'term', 'policy_code' ]\n",
    "\n",
    "print 'Dropping more columns for variety of reasons, including ones whose information is already contained in other columns:'\n",
    "print y_type_info_cols[0]\n",
    "print '\\n'.join(others_to_drop_cols)\n"
   ]
  },
  {
   "cell_type": "code",
   "execution_count": 18,
   "metadata": {},
   "outputs": [
    {
     "name": "stdout",
     "output_type": "stream",
     "text": [
      "dropped columns: emp_title, desc, title, last_pymnt_d, next_pymnt_d, last_credit_pull_d, out_prncp, out_prncp_inv, total_pymnt_inv, total_rec_prncp, total_rec_int, total_rec_late_fee, recoveries, collection_recovery_fee, last_pymnt_amnt, url, grade, pymnt_plan, year, term, policy_code, loan_status\n",
      "\n",
      "Remaining data:\n"
     ]
    },
    {
     "data": {
      "text/html": [
       "<div style=\"max-height:1000px;max-width:1500px;overflow:auto;\">\n",
       "<table border=\"1\" class=\"dataframe\">\n",
       "  <thead>\n",
       "    <tr style=\"text-align: right;\">\n",
       "      <th></th>\n",
       "      <th>id</th>\n",
       "      <th>member_id</th>\n",
       "      <th>loan_amnt</th>\n",
       "      <th>funded_amnt</th>\n",
       "      <th>funded_amnt_inv</th>\n",
       "      <th>int_rate</th>\n",
       "      <th>installment</th>\n",
       "      <th>sub_grade</th>\n",
       "      <th>emp_length</th>\n",
       "      <th>home_ownership</th>\n",
       "      <th>...</th>\n",
       "      <th>pct_tl_nvr_dlq</th>\n",
       "      <th>percent_bc_gt_75</th>\n",
       "      <th>pub_rec_bankruptcies</th>\n",
       "      <th>tax_liens</th>\n",
       "      <th>tot_hi_cred_lim</th>\n",
       "      <th>total_bal_ex_mort</th>\n",
       "      <th>total_bc_limit</th>\n",
       "      <th>total_il_high_credit_limit</th>\n",
       "      <th>defaulted</th>\n",
       "      <th>default_cost</th>\n",
       "    </tr>\n",
       "  </thead>\n",
       "  <tbody>\n",
       "    <tr>\n",
       "      <th>2 </th>\n",
       "      <td> 10149342</td>\n",
       "      <td> 12000897</td>\n",
       "      <td> 27050</td>\n",
       "      <td> 27050</td>\n",
       "      <td> 27050</td>\n",
       "      <td>  10.99%</td>\n",
       "      <td> 885.46</td>\n",
       "      <td> B2</td>\n",
       "      <td> 10+ years</td>\n",
       "      <td>      OWN</td>\n",
       "      <td>...</td>\n",
       "      <td> 100.0</td>\n",
       "      <td>  25.0</td>\n",
       "      <td> 0</td>\n",
       "      <td> 0</td>\n",
       "      <td> 138554</td>\n",
       "      <td> 70186</td>\n",
       "      <td> 35700</td>\n",
       "      <td> 33054</td>\n",
       "      <td> 0</td>\n",
       "      <td> 0</td>\n",
       "    </tr>\n",
       "    <tr>\n",
       "      <th>3 </th>\n",
       "      <td> 10139658</td>\n",
       "      <td> 11991209</td>\n",
       "      <td> 12000</td>\n",
       "      <td> 12000</td>\n",
       "      <td> 12000</td>\n",
       "      <td>  13.53%</td>\n",
       "      <td> 407.40</td>\n",
       "      <td> B5</td>\n",
       "      <td> 10+ years</td>\n",
       "      <td>     RENT</td>\n",
       "      <td>...</td>\n",
       "      <td>  81.2</td>\n",
       "      <td>  33.3</td>\n",
       "      <td> 0</td>\n",
       "      <td> 0</td>\n",
       "      <td>  18130</td>\n",
       "      <td> 13605</td>\n",
       "      <td>  7000</td>\n",
       "      <td> 10030</td>\n",
       "      <td> 0</td>\n",
       "      <td> 0</td>\n",
       "    </tr>\n",
       "    <tr>\n",
       "      <th>9 </th>\n",
       "      <td> 10129506</td>\n",
       "      <td> 11981122</td>\n",
       "      <td> 20800</td>\n",
       "      <td> 20800</td>\n",
       "      <td> 20800</td>\n",
       "      <td>  13.53%</td>\n",
       "      <td> 706.16</td>\n",
       "      <td> B5</td>\n",
       "      <td> 10+ years</td>\n",
       "      <td>     RENT</td>\n",
       "      <td>...</td>\n",
       "      <td>  90.2</td>\n",
       "      <td>  50.0</td>\n",
       "      <td> 0</td>\n",
       "      <td> 0</td>\n",
       "      <td>  43100</td>\n",
       "      <td> 23473</td>\n",
       "      <td> 15000</td>\n",
       "      <td>     0</td>\n",
       "      <td> 0</td>\n",
       "      <td> 0</td>\n",
       "    </tr>\n",
       "    <tr>\n",
       "      <th>10</th>\n",
       "      <td> 10179520</td>\n",
       "      <td> 12031088</td>\n",
       "      <td>  3000</td>\n",
       "      <td>  3000</td>\n",
       "      <td>  3000</td>\n",
       "      <td>  12.85%</td>\n",
       "      <td> 100.87</td>\n",
       "      <td> B4</td>\n",
       "      <td> 10+ years</td>\n",
       "      <td>     RENT</td>\n",
       "      <td>...</td>\n",
       "      <td>  91.3</td>\n",
       "      <td>  66.7</td>\n",
       "      <td> 2</td>\n",
       "      <td> 0</td>\n",
       "      <td>  32082</td>\n",
       "      <td> 19530</td>\n",
       "      <td>  4300</td>\n",
       "      <td> 26782</td>\n",
       "      <td> 0</td>\n",
       "      <td> 0</td>\n",
       "    </tr>\n",
       "    <tr>\n",
       "      <th>11</th>\n",
       "      <td> 10148122</td>\n",
       "      <td> 11999781</td>\n",
       "      <td> 12000</td>\n",
       "      <td> 12000</td>\n",
       "      <td> 12000</td>\n",
       "      <td>   7.62%</td>\n",
       "      <td> 373.94</td>\n",
       "      <td> A3</td>\n",
       "      <td>   3 years</td>\n",
       "      <td> MORTGAGE</td>\n",
       "      <td>...</td>\n",
       "      <td> 100.0</td>\n",
       "      <td> 100.0</td>\n",
       "      <td> 0</td>\n",
       "      <td> 0</td>\n",
       "      <td> 233004</td>\n",
       "      <td> 46738</td>\n",
       "      <td> 14800</td>\n",
       "      <td> 53404</td>\n",
       "      <td> 0</td>\n",
       "      <td> 0</td>\n",
       "    </tr>\n",
       "  </tbody>\n",
       "</table>\n",
       "<p>5 rows × 75 columns</p>\n",
       "</div>"
      ],
      "text/plain": [
       "          id  member_id  loan_amnt  funded_amnt  funded_amnt_inv int_rate  \\\n",
       "2   10149342   12000897      27050        27050            27050   10.99%   \n",
       "3   10139658   11991209      12000        12000            12000   13.53%   \n",
       "9   10129506   11981122      20800        20800            20800   13.53%   \n",
       "10  10179520   12031088       3000         3000             3000   12.85%   \n",
       "11  10148122   11999781      12000        12000            12000    7.62%   \n",
       "\n",
       "    installment sub_grade emp_length home_ownership      ...       \\\n",
       "2        885.46        B2  10+ years            OWN      ...        \n",
       "3        407.40        B5  10+ years           RENT      ...        \n",
       "9        706.16        B5  10+ years           RENT      ...        \n",
       "10       100.87        B4  10+ years           RENT      ...        \n",
       "11       373.94        A3    3 years       MORTGAGE      ...        \n",
       "\n",
       "    pct_tl_nvr_dlq percent_bc_gt_75 pub_rec_bankruptcies tax_liens  \\\n",
       "2            100.0             25.0                    0         0   \n",
       "3             81.2             33.3                    0         0   \n",
       "9             90.2             50.0                    0         0   \n",
       "10            91.3             66.7                    2         0   \n",
       "11           100.0            100.0                    0         0   \n",
       "\n",
       "   tot_hi_cred_lim total_bal_ex_mort  total_bc_limit  \\\n",
       "2           138554             70186           35700   \n",
       "3            18130             13605            7000   \n",
       "9            43100             23473           15000   \n",
       "10           32082             19530            4300   \n",
       "11          233004             46738           14800   \n",
       "\n",
       "    total_il_high_credit_limit defaulted  default_cost  \n",
       "2                        33054         0             0  \n",
       "3                        10030         0             0  \n",
       "9                            0         0             0  \n",
       "10                       26782         0             0  \n",
       "11                       53404         0             0  \n",
       "\n",
       "[5 rows x 75 columns]"
      ]
     },
     "execution_count": 18,
     "metadata": {},
     "output_type": "execute_result"
    }
   ],
   "source": [
    "# now to drop the ones with some missing data, either\n",
    "# a) are textual columns, maybe we can come back and codify columns as binary or something. e.g. 0 if they filled in the \n",
    "#    emp_title column, we'll see\n",
    "# b) aren't relevant to prediction, these are all closed loans, payment dates and credit pulls (some of which are dated \n",
    "#    in 2016, can't be used to predict\n",
    "cols_to_drop = [col for col,action,descr in some_missing if action == 'drop']\n",
    "cols_to_drop += later_info_cols + others_to_drop_cols + y_type_info_cols\n",
    "x_df = df.drop(cols_to_drop, axis=1)\n",
    "print 'dropped columns: {}'.format(', '.join(cols_to_drop))\n",
    "print\n",
    "print 'Remaining data:'\n",
    "x_df.head()"
   ]
  },
  {
   "cell_type": "code",
   "execution_count": 19,
   "metadata": {},
   "outputs": [
    {
     "name": "stdout",
     "output_type": "stream",
     "text": [
      "zero-fill the revol_util column, confirm contents of column\n"
     ]
    },
    {
     "data": {
      "text/plain": [
       "2     0.612\n",
       "3     0.688\n",
       "9     0.545\n",
       "10    0.542\n",
       "11    0.557\n",
       "Name: revol_util, dtype: float64"
      ]
     },
     "execution_count": 19,
     "metadata": {},
     "output_type": "execute_result"
    }
   ],
   "source": [
    "print 'zero-fill the revol_util column, confirm contents of column'\n",
    "# fill 'revol_util' - of the ones to \"zero-fill\", this appears to be only one that isn't strictly numerical\n",
    "revol = x_df['revol_util'].fillna('0%')\n",
    "revol = revol.apply(pct_to_float)\n",
    "\n",
    "x_df = x_df.drop('revol_util', axis=1)\n",
    "x_df = x_df.join(revol)\n",
    "\n",
    "x_df['revol_util'].head()"
   ]
  },
  {
   "cell_type": "code",
   "execution_count": 20,
   "metadata": {},
   "outputs": [
    {
     "name": "stdout",
     "output_type": "stream",
     "text": [
      "int_rate/Interest Rate is being stored as a string, with % sign, turn those into float values\n"
     ]
    },
    {
     "data": {
      "text/plain": [
       "2     0.1099\n",
       "3     0.1353\n",
       "9     0.1353\n",
       "10    0.1285\n",
       "11    0.0762\n",
       "Name: int_rate, dtype: float64"
      ]
     },
     "execution_count": 20,
     "metadata": {},
     "output_type": "execute_result"
    }
   ],
   "source": [
    "print 'int_rate/Interest Rate is being stored as a string, with % sign, turn those into float values'\n",
    "# convert int_rate/interest rate into numerical, from string with trailing %\n",
    "rate = x_df['int_rate']\n",
    "rate = rate.apply(pct_to_float)\n",
    "\n",
    "x_df = x_df.drop('int_rate', axis=1)\n",
    "x_df = x_df.join(rate)\n",
    "\n",
    "x_df['int_rate'].head()"
   ]
  },
  {
   "cell_type": "code",
   "execution_count": 21,
   "metadata": {},
   "outputs": [
    {
     "name": "stdout",
     "output_type": "stream",
     "text": [
      "In anticipation of one-hot encoding, want to convert any categorical values into numerical ones, where that is \n",
      " appropriate. The sub_grade column is one of those, since it is essentially an ordinal value.\n"
     ]
    },
    {
     "data": {
      "text/plain": [
       "2     6\n",
       "3     9\n",
       "9     9\n",
       "10    8\n",
       "11    2\n",
       "Name: sub_grade, dtype: int64"
      ]
     },
     "execution_count": 21,
     "metadata": {},
     "output_type": "execute_result"
    }
   ],
   "source": [
    "print 'In anticipation of one-hot encoding, want to convert any categorical values into numerical ones, where that is '\n",
    "print ' appropriate. The sub_grade column is one of those, since it is essentially an ordinal value.'\n",
    "# sub_grade values are ordinal, safe to convert into number equivalents, e.g. 'A1': 0, 'C3': 12\n",
    "subgrades = ['{}{}'.format(l, i) for l in 'ABCDEFG' for i in range(1,6)]\n",
    "subgrade_map = dict(zip(subgrades, range(len(subgrades))))\n",
    "\n",
    "subgrade = x_df['sub_grade']\n",
    "subgrade = subgrade.apply(lambda val: subgrade_map[val])\n",
    "x_df = x_df.drop('sub_grade', axis=1)\n",
    "x_df = x_df.join(subgrade)\n",
    "\n",
    "x_df['sub_grade'].head()"
   ]
  },
  {
   "cell_type": "code",
   "execution_count": 22,
   "metadata": {},
   "outputs": [
    {
     "name": "stdout",
     "output_type": "stream",
     "text": [
      "earliest_cr_line is another column that can be converted from a string value into an a number, in this case \n",
      " the number of months prior to January, 2014.\n"
     ]
    },
    {
     "data": {
      "text/plain": [
       "2     326\n",
       "3     182\n",
       "9     186\n",
       "10    271\n",
       "11    123\n",
       "Name: earliest_cr_line, dtype: int64"
      ]
     },
     "execution_count": 22,
     "metadata": {},
     "output_type": "execute_result"
    }
   ],
   "source": [
    "print 'earliest_cr_line is another column that can be converted from a string value into an a number, in this case '\n",
    "print ' the number of months prior to January, 2014.'\n",
    "\n",
    "# convert date string like 'Sep-2010' into a numerical, number of months since a basis date\n",
    "# x_df['earliest_cr_line'].min() # 'Apr-1955' is oldest value in here\n",
    "# x_df['earliest_cr_line'].max() # 'Sep-2010' is latest\n",
    "\n",
    "def mth_year_to_months(d):\n",
    "    # 'Sep-2010' to number of months since January 2014\n",
    "    diff = relativedelta.relativedelta(datetime(2014,1,1), parser.parse(d))\n",
    "    return diff.years * 12 + diff.months\n",
    "\n",
    "x_df['earliest_cr_line'] = x_df['earliest_cr_line'].apply(lambda ecl: mth_year_to_months(ecl))\n",
    "\n",
    "x_df['earliest_cr_line'].head()"
   ]
  },
  {
   "cell_type": "code",
   "execution_count": 23,
   "metadata": {
    "scrolled": true
   },
   "outputs": [
    {
     "name": "stdout",
     "output_type": "stream",
     "text": [
      "Filling in any remaining missing values, confirm success.\n",
      "Anything nully remaining?: False\n"
     ]
    }
   ],
   "source": [
    "print 'Filling in any remaining missing values, confirm success.'\n",
    "# of the remaining to fill, using zero is appropriate value\n",
    "\n",
    "x_df = x_df.replace(np.nan, 0)\n",
    "#x_df[cols_to_fill].head()\n",
    "print 'Anything nully remaining?: {}'.format(x_df.isnull().values.any())\n"
   ]
  },
  {
   "cell_type": "code",
   "execution_count": 24,
   "metadata": {},
   "outputs": [
    {
     "data": {
      "text/plain": [
       "'Data check, now down to 75 columns for the 88,582 rows'"
      ]
     },
     "execution_count": 24,
     "metadata": {},
     "output_type": "execute_result"
    }
   ],
   "source": [
    "'Data check, now down to {} columns for the {:,} rows'.format(x_df.shape[1], x_df.shape[0])"
   ]
  },
  {
   "cell_type": "code",
   "execution_count": 25,
   "metadata": {
    "scrolled": true
   },
   "outputs": [
    {
     "name": "stdout",
     "output_type": "stream",
     "text": [
      "For a couple of loans, display all of the columns we have remaining, in case there are others that can be dropped.\n"
     ]
    },
    {
     "data": {
      "text/html": [
       "<div style=\"max-height:1000px;max-width:1500px;overflow:auto;\">\n",
       "<table border=\"1\" class=\"dataframe\">\n",
       "  <thead>\n",
       "    <tr style=\"text-align: right;\">\n",
       "      <th></th>\n",
       "      <th>2</th>\n",
       "      <th>3</th>\n",
       "    </tr>\n",
       "  </thead>\n",
       "  <tbody>\n",
       "    <tr>\n",
       "      <th>id</th>\n",
       "      <td>            10149342</td>\n",
       "      <td>            10139658</td>\n",
       "    </tr>\n",
       "    <tr>\n",
       "      <th>member_id</th>\n",
       "      <td>            12000897</td>\n",
       "      <td>            11991209</td>\n",
       "    </tr>\n",
       "    <tr>\n",
       "      <th>loan_amnt</th>\n",
       "      <td>               27050</td>\n",
       "      <td>               12000</td>\n",
       "    </tr>\n",
       "    <tr>\n",
       "      <th>funded_amnt</th>\n",
       "      <td>               27050</td>\n",
       "      <td>               12000</td>\n",
       "    </tr>\n",
       "    <tr>\n",
       "      <th>funded_amnt_inv</th>\n",
       "      <td>               27050</td>\n",
       "      <td>               12000</td>\n",
       "    </tr>\n",
       "    <tr>\n",
       "      <th>installment</th>\n",
       "      <td>              885.46</td>\n",
       "      <td>               407.4</td>\n",
       "    </tr>\n",
       "    <tr>\n",
       "      <th>emp_length</th>\n",
       "      <td>           10+ years</td>\n",
       "      <td>           10+ years</td>\n",
       "    </tr>\n",
       "    <tr>\n",
       "      <th>home_ownership</th>\n",
       "      <td>                 OWN</td>\n",
       "      <td>                RENT</td>\n",
       "    </tr>\n",
       "    <tr>\n",
       "      <th>annual_inc</th>\n",
       "      <td>               55000</td>\n",
       "      <td>               40000</td>\n",
       "    </tr>\n",
       "    <tr>\n",
       "      <th>verification_status</th>\n",
       "      <td>            Verified</td>\n",
       "      <td>     Source Verified</td>\n",
       "    </tr>\n",
       "    <tr>\n",
       "      <th>issue_d</th>\n",
       "      <td> 2013-12-01 00:00:00</td>\n",
       "      <td> 2013-12-01 00:00:00</td>\n",
       "    </tr>\n",
       "    <tr>\n",
       "      <th>purpose</th>\n",
       "      <td>  debt_consolidation</td>\n",
       "      <td>  debt_consolidation</td>\n",
       "    </tr>\n",
       "    <tr>\n",
       "      <th>zip_code</th>\n",
       "      <td>               481xx</td>\n",
       "      <td>               871xx</td>\n",
       "    </tr>\n",
       "    <tr>\n",
       "      <th>addr_state</th>\n",
       "      <td>                  MI</td>\n",
       "      <td>                  NM</td>\n",
       "    </tr>\n",
       "    <tr>\n",
       "      <th>dti</th>\n",
       "      <td>               22.87</td>\n",
       "      <td>               16.94</td>\n",
       "    </tr>\n",
       "    <tr>\n",
       "      <th>delinq_2yrs</th>\n",
       "      <td>                   0</td>\n",
       "      <td>                   0</td>\n",
       "    </tr>\n",
       "    <tr>\n",
       "      <th>earliest_cr_line</th>\n",
       "      <td>                 326</td>\n",
       "      <td>                 182</td>\n",
       "    </tr>\n",
       "    <tr>\n",
       "      <th>inq_last_6mths</th>\n",
       "      <td>                   0</td>\n",
       "      <td>                   0</td>\n",
       "    </tr>\n",
       "    <tr>\n",
       "      <th>mths_since_last_delinq</th>\n",
       "      <td>                   0</td>\n",
       "      <td>                  53</td>\n",
       "    </tr>\n",
       "    <tr>\n",
       "      <th>mths_since_last_record</th>\n",
       "      <td>                   0</td>\n",
       "      <td>                  33</td>\n",
       "    </tr>\n",
       "    <tr>\n",
       "      <th>open_acc</th>\n",
       "      <td>                  14</td>\n",
       "      <td>                   7</td>\n",
       "    </tr>\n",
       "    <tr>\n",
       "      <th>pub_rec</th>\n",
       "      <td>                   0</td>\n",
       "      <td>                   2</td>\n",
       "    </tr>\n",
       "    <tr>\n",
       "      <th>revol_bal</th>\n",
       "      <td>               36638</td>\n",
       "      <td>                5572</td>\n",
       "    </tr>\n",
       "    <tr>\n",
       "      <th>total_acc</th>\n",
       "      <td>                  27</td>\n",
       "      <td>                  32</td>\n",
       "    </tr>\n",
       "    <tr>\n",
       "      <th>initial_list_status</th>\n",
       "      <td>                   w</td>\n",
       "      <td>                   w</td>\n",
       "    </tr>\n",
       "    <tr>\n",
       "      <th>total_pymnt</th>\n",
       "      <td>            31752.53</td>\n",
       "      <td>            13359.78</td>\n",
       "    </tr>\n",
       "    <tr>\n",
       "      <th>collections_12_mths_ex_med</th>\n",
       "      <td>                   0</td>\n",
       "      <td>                   0</td>\n",
       "    </tr>\n",
       "    <tr>\n",
       "      <th>mths_since_last_major_derog</th>\n",
       "      <td>                   0</td>\n",
       "      <td>                  53</td>\n",
       "    </tr>\n",
       "    <tr>\n",
       "      <th>application_type</th>\n",
       "      <td>          INDIVIDUAL</td>\n",
       "      <td>          INDIVIDUAL</td>\n",
       "    </tr>\n",
       "    <tr>\n",
       "      <th>acc_now_delinq</th>\n",
       "      <td>                   0</td>\n",
       "      <td>                   0</td>\n",
       "    </tr>\n",
       "    <tr>\n",
       "      <th>tot_coll_amt</th>\n",
       "      <td>                   0</td>\n",
       "      <td>               15386</td>\n",
       "    </tr>\n",
       "    <tr>\n",
       "      <th>tot_cur_bal</th>\n",
       "      <td>              114834</td>\n",
       "      <td>               13605</td>\n",
       "    </tr>\n",
       "    <tr>\n",
       "      <th>total_rev_hi_lim</th>\n",
       "      <td>               59900</td>\n",
       "      <td>                8100</td>\n",
       "    </tr>\n",
       "    <tr>\n",
       "      <th>acc_open_past_24mths</th>\n",
       "      <td>                   3</td>\n",
       "      <td>                   4</td>\n",
       "    </tr>\n",
       "    <tr>\n",
       "      <th>avg_cur_bal</th>\n",
       "      <td>                9570</td>\n",
       "      <td>                2268</td>\n",
       "    </tr>\n",
       "    <tr>\n",
       "      <th>bc_open_to_buy</th>\n",
       "      <td>               16473</td>\n",
       "      <td>                1428</td>\n",
       "    </tr>\n",
       "    <tr>\n",
       "      <th>bc_util</th>\n",
       "      <td>                53.9</td>\n",
       "      <td>                79.6</td>\n",
       "    </tr>\n",
       "    <tr>\n",
       "      <th>chargeoff_within_12_mths</th>\n",
       "      <td>                   0</td>\n",
       "      <td>                   0</td>\n",
       "    </tr>\n",
       "    <tr>\n",
       "      <th>delinq_amnt</th>\n",
       "      <td>                   0</td>\n",
       "      <td>                   0</td>\n",
       "    </tr>\n",
       "    <tr>\n",
       "      <th>mo_sin_old_il_acct</th>\n",
       "      <td>                 117</td>\n",
       "      <td>                 124</td>\n",
       "    </tr>\n",
       "    <tr>\n",
       "      <th>mo_sin_old_rev_tl_op</th>\n",
       "      <td>                 326</td>\n",
       "      <td>                 182</td>\n",
       "    </tr>\n",
       "    <tr>\n",
       "      <th>mo_sin_rcnt_rev_tl_op</th>\n",
       "      <td>                  16</td>\n",
       "      <td>                   1</td>\n",
       "    </tr>\n",
       "    <tr>\n",
       "      <th>mo_sin_rcnt_tl</th>\n",
       "      <td>                   6</td>\n",
       "      <td>                   1</td>\n",
       "    </tr>\n",
       "    <tr>\n",
       "      <th>mort_acc</th>\n",
       "      <td>                   4</td>\n",
       "      <td>                   0</td>\n",
       "    </tr>\n",
       "    <tr>\n",
       "      <th>mths_since_recent_bc</th>\n",
       "      <td>                  16</td>\n",
       "      <td>                  11</td>\n",
       "    </tr>\n",
       "    <tr>\n",
       "      <th>mths_since_recent_bc_dlq</th>\n",
       "      <td>                   0</td>\n",
       "      <td>                  53</td>\n",
       "    </tr>\n",
       "    <tr>\n",
       "      <th>mths_since_recent_inq</th>\n",
       "      <td>                   8</td>\n",
       "      <td>                  17</td>\n",
       "    </tr>\n",
       "    <tr>\n",
       "      <th>mths_since_recent_revol_delinq</th>\n",
       "      <td>                   0</td>\n",
       "      <td>                  53</td>\n",
       "    </tr>\n",
       "    <tr>\n",
       "      <th>num_accts_ever_120_pd</th>\n",
       "      <td>                   0</td>\n",
       "      <td>                   6</td>\n",
       "    </tr>\n",
       "    <tr>\n",
       "      <th>num_actv_bc_tl</th>\n",
       "      <td>                   2</td>\n",
       "      <td>                   2</td>\n",
       "    </tr>\n",
       "    <tr>\n",
       "      <th>num_actv_rev_tl</th>\n",
       "      <td>                   4</td>\n",
       "      <td>                   2</td>\n",
       "    </tr>\n",
       "    <tr>\n",
       "      <th>num_bc_sats</th>\n",
       "      <td>                   4</td>\n",
       "      <td>                   3</td>\n",
       "    </tr>\n",
       "    <tr>\n",
       "      <th>num_bc_tl</th>\n",
       "      <td>                   8</td>\n",
       "      <td>                  14</td>\n",
       "    </tr>\n",
       "    <tr>\n",
       "      <th>num_il_tl</th>\n",
       "      <td>                   8</td>\n",
       "      <td>                   8</td>\n",
       "    </tr>\n",
       "    <tr>\n",
       "      <th>num_op_rev_tl</th>\n",
       "      <td>                  10</td>\n",
       "      <td>                   6</td>\n",
       "    </tr>\n",
       "    <tr>\n",
       "      <th>num_rev_accts</th>\n",
       "      <td>                  15</td>\n",
       "      <td>                  24</td>\n",
       "    </tr>\n",
       "    <tr>\n",
       "      <th>num_rev_tl_bal_gt_0</th>\n",
       "      <td>                   4</td>\n",
       "      <td>                   2</td>\n",
       "    </tr>\n",
       "    <tr>\n",
       "      <th>num_sats</th>\n",
       "      <td>                  14</td>\n",
       "      <td>                   7</td>\n",
       "    </tr>\n",
       "    <tr>\n",
       "      <th>num_tl_120dpd_2m</th>\n",
       "      <td>                   0</td>\n",
       "      <td>                   0</td>\n",
       "    </tr>\n",
       "    <tr>\n",
       "      <th>num_tl_30dpd</th>\n",
       "      <td>                   0</td>\n",
       "      <td>                   0</td>\n",
       "    </tr>\n",
       "    <tr>\n",
       "      <th>num_tl_90g_dpd_24m</th>\n",
       "      <td>                   0</td>\n",
       "      <td>                   0</td>\n",
       "    </tr>\n",
       "    <tr>\n",
       "      <th>num_tl_op_past_12m</th>\n",
       "      <td>                   1</td>\n",
       "      <td>                   2</td>\n",
       "    </tr>\n",
       "    <tr>\n",
       "      <th>pct_tl_nvr_dlq</th>\n",
       "      <td>                 100</td>\n",
       "      <td>                81.2</td>\n",
       "    </tr>\n",
       "    <tr>\n",
       "      <th>percent_bc_gt_75</th>\n",
       "      <td>                  25</td>\n",
       "      <td>                33.3</td>\n",
       "    </tr>\n",
       "    <tr>\n",
       "      <th>pub_rec_bankruptcies</th>\n",
       "      <td>                   0</td>\n",
       "      <td>                   0</td>\n",
       "    </tr>\n",
       "    <tr>\n",
       "      <th>tax_liens</th>\n",
       "      <td>                   0</td>\n",
       "      <td>                   0</td>\n",
       "    </tr>\n",
       "    <tr>\n",
       "      <th>tot_hi_cred_lim</th>\n",
       "      <td>              138554</td>\n",
       "      <td>               18130</td>\n",
       "    </tr>\n",
       "    <tr>\n",
       "      <th>total_bal_ex_mort</th>\n",
       "      <td>               70186</td>\n",
       "      <td>               13605</td>\n",
       "    </tr>\n",
       "    <tr>\n",
       "      <th>total_bc_limit</th>\n",
       "      <td>               35700</td>\n",
       "      <td>                7000</td>\n",
       "    </tr>\n",
       "    <tr>\n",
       "      <th>total_il_high_credit_limit</th>\n",
       "      <td>               33054</td>\n",
       "      <td>               10030</td>\n",
       "    </tr>\n",
       "    <tr>\n",
       "      <th>defaulted</th>\n",
       "      <td>                   0</td>\n",
       "      <td>                   0</td>\n",
       "    </tr>\n",
       "    <tr>\n",
       "      <th>default_cost</th>\n",
       "      <td>                   0</td>\n",
       "      <td>                   0</td>\n",
       "    </tr>\n",
       "    <tr>\n",
       "      <th>revol_util</th>\n",
       "      <td>               0.612</td>\n",
       "      <td>               0.688</td>\n",
       "    </tr>\n",
       "    <tr>\n",
       "      <th>int_rate</th>\n",
       "      <td>              0.1099</td>\n",
       "      <td>              0.1353</td>\n",
       "    </tr>\n",
       "    <tr>\n",
       "      <th>sub_grade</th>\n",
       "      <td>                   6</td>\n",
       "      <td>                   9</td>\n",
       "    </tr>\n",
       "  </tbody>\n",
       "</table>\n",
       "</div>"
      ],
      "text/plain": [
       "                                                  2                    3\n",
       "id                                         10149342             10139658\n",
       "member_id                                  12000897             11991209\n",
       "loan_amnt                                     27050                12000\n",
       "funded_amnt                                   27050                12000\n",
       "funded_amnt_inv                               27050                12000\n",
       "installment                                  885.46                407.4\n",
       "emp_length                                10+ years            10+ years\n",
       "home_ownership                                  OWN                 RENT\n",
       "annual_inc                                    55000                40000\n",
       "verification_status                        Verified      Source Verified\n",
       "issue_d                         2013-12-01 00:00:00  2013-12-01 00:00:00\n",
       "purpose                          debt_consolidation   debt_consolidation\n",
       "zip_code                                      481xx                871xx\n",
       "addr_state                                       MI                   NM\n",
       "dti                                           22.87                16.94\n",
       "delinq_2yrs                                       0                    0\n",
       "earliest_cr_line                                326                  182\n",
       "inq_last_6mths                                    0                    0\n",
       "mths_since_last_delinq                            0                   53\n",
       "mths_since_last_record                            0                   33\n",
       "open_acc                                         14                    7\n",
       "pub_rec                                           0                    2\n",
       "revol_bal                                     36638                 5572\n",
       "total_acc                                        27                   32\n",
       "initial_list_status                               w                    w\n",
       "total_pymnt                                31752.53             13359.78\n",
       "collections_12_mths_ex_med                        0                    0\n",
       "mths_since_last_major_derog                       0                   53\n",
       "application_type                         INDIVIDUAL           INDIVIDUAL\n",
       "acc_now_delinq                                    0                    0\n",
       "tot_coll_amt                                      0                15386\n",
       "tot_cur_bal                                  114834                13605\n",
       "total_rev_hi_lim                              59900                 8100\n",
       "acc_open_past_24mths                              3                    4\n",
       "avg_cur_bal                                    9570                 2268\n",
       "bc_open_to_buy                                16473                 1428\n",
       "bc_util                                        53.9                 79.6\n",
       "chargeoff_within_12_mths                          0                    0\n",
       "delinq_amnt                                       0                    0\n",
       "mo_sin_old_il_acct                              117                  124\n",
       "mo_sin_old_rev_tl_op                            326                  182\n",
       "mo_sin_rcnt_rev_tl_op                            16                    1\n",
       "mo_sin_rcnt_tl                                    6                    1\n",
       "mort_acc                                          4                    0\n",
       "mths_since_recent_bc                             16                   11\n",
       "mths_since_recent_bc_dlq                          0                   53\n",
       "mths_since_recent_inq                             8                   17\n",
       "mths_since_recent_revol_delinq                    0                   53\n",
       "num_accts_ever_120_pd                             0                    6\n",
       "num_actv_bc_tl                                    2                    2\n",
       "num_actv_rev_tl                                   4                    2\n",
       "num_bc_sats                                       4                    3\n",
       "num_bc_tl                                         8                   14\n",
       "num_il_tl                                         8                    8\n",
       "num_op_rev_tl                                    10                    6\n",
       "num_rev_accts                                    15                   24\n",
       "num_rev_tl_bal_gt_0                               4                    2\n",
       "num_sats                                         14                    7\n",
       "num_tl_120dpd_2m                                  0                    0\n",
       "num_tl_30dpd                                      0                    0\n",
       "num_tl_90g_dpd_24m                                0                    0\n",
       "num_tl_op_past_12m                                1                    2\n",
       "pct_tl_nvr_dlq                                  100                 81.2\n",
       "percent_bc_gt_75                                 25                 33.3\n",
       "pub_rec_bankruptcies                              0                    0\n",
       "tax_liens                                         0                    0\n",
       "tot_hi_cred_lim                              138554                18130\n",
       "total_bal_ex_mort                             70186                13605\n",
       "total_bc_limit                                35700                 7000\n",
       "total_il_high_credit_limit                    33054                10030\n",
       "defaulted                                         0                    0\n",
       "default_cost                                      0                    0\n",
       "revol_util                                    0.612                0.688\n",
       "int_rate                                     0.1099               0.1353\n",
       "sub_grade                                         6                    9"
      ]
     },
     "execution_count": 25,
     "metadata": {},
     "output_type": "execute_result"
    }
   ],
   "source": [
    "print 'For a couple of loans, display all of the columns we have remaining, in case there are others that can be dropped.'\n",
    "# temp check to take a look at what columns remain, any more we can get rid of?\n",
    "pd.set_option('display.max_rows', len(df))  \n",
    "x_df.head(2).transpose()"
   ]
  },
  {
   "cell_type": "code",
   "execution_count": 26,
   "metadata": {},
   "outputs": [],
   "source": [
    "pd.reset_option('display.max_rows')\n"
   ]
  },
  {
   "cell_type": "code",
   "execution_count": 27,
   "metadata": {},
   "outputs": [
    {
     "name": "stdout",
     "output_type": "stream",
     "text": [
      "A final check of what categorical variables we have left and how unique values are in each.\n",
      "\n",
      "emp_length                      unique: 12\n",
      "home_ownership                  unique: 3\n",
      "verification_status             unique: 3\n",
      "purpose                         unique: 13\n",
      "zip_code                        unique: 832\n",
      "addr_state                      unique: 49\n",
      "initial_list_status             unique: 2\n",
      "application_type                unique: 1\n"
     ]
    }
   ],
   "source": [
    "print 'A final check of what categorical variables we have left and how unique values are in each.'\n",
    "print \n",
    "# remaining categorical \n",
    "columnsToEncode = list(x_df.select_dtypes(include=['category','object']))\n",
    "for col in columnsToEncode:\n",
    "    print '{:<30}  unique: {}'.format(col, x_df[col].nunique())"
   ]
  },
  {
   "cell_type": "markdown",
   "metadata": {},
   "source": [
    "#### Interstitial note regarding zip_code column\n",
    "The remaining variable with the largest number of categories is zip_code, which is actually only the three letter prefix of zip code from which loan originated, e.g. 021xx. We initially eliminated it during calculations in part because having it in there slowed things down considerably, during one hot encoding again when we were doing repeated iterations of the various models. So after most of the models have been created and initial impressions formed, went back and tested one of the better performing models (weighted logistic regression), under two circumstances:\n",
    "\n",
    "With zip_code included:\n",
    "> Estimate who will default and dont lend to them  \n",
    "Money available to lend:                               335,854,450.00  \n",
    "    Revenue from loans:                                332,974,472.48  \n",
    "    Not lent to anyone:                                48,600,150.00  \n",
    "(Partial) revenue from loans that wound up defaulting: -380,371.27  \n",
    "Net Gain:                                             $45,339,801.21  \n",
    "  \n",
    "> Weighted Logistic Regression  \n",
    "Accuracy on overall test set: 0.967412982126  \n",
    "Accuracy on No Default (Fully Paid) in test set: 0.974243148156  \n",
    "Accuracy on Defaulted in test set: 0.923141891892  \n",
    "\n",
    "And again with zip_code removed, via a code cell at this point in the workflow:\n",
    "\n",
    ">Estimate who will default and dont lend to them  \n",
    "Money available to lend:                               335,890,200.00  \n",
    "    Revenue from loans:                                332,736,321.76  \n",
    "    Not lent to anyone:                                48,881,750.00  \n",
    "(Partial) revenue from loans that wound up defaulting: -358,894.04  \n",
    "Net Gain:                                             $45,368,977.72  \n",
    "  \n",
    "> Weighted Logistic Regression  \n",
    "Accuracy on overall test set: 0.965682031985  \n",
    "Accuracy on No Default (Fully Paid) in test set: 0.972445215882  \n",
    "Accuracy on Defaulted in test set: 0.921529745042  \n",
    "\n",
    "The results indicate removal of zip_code was unlikely to have shifted our models much, though of course with more time we could have performed similar comparisons on all of the models."
   ]
  },
  {
   "cell_type": "code",
   "execution_count": 28,
   "metadata": {},
   "outputs": [
    {
     "name": "stdout",
     "output_type": "stream",
     "text": [
      "And so zip_code is now dropped from data.\n"
     ]
    }
   ],
   "source": [
    "print 'And so zip_code is now dropped from data.'\n",
    "# from a computational point of view, will probably need to drop below in order to be able to \n",
    "# run models in reasonable time\n",
    "x_df = x_df.drop('zip_code', axis=1)"
   ]
  },
  {
   "cell_type": "markdown",
   "metadata": {},
   "source": [
    "-----"
   ]
  },
  {
   "cell_type": "markdown",
   "metadata": {},
   "source": [
    "### At this point about 90k records (2013 3-year loans) and about 75 columns\n",
    " "
   ]
  },
  {
   "cell_type": "code",
   "execution_count": 29,
   "metadata": {},
   "outputs": [
    {
     "name": "stdout",
     "output_type": "stream",
     "text": [
      "Simple display of the deafult rate for our dataset of 2013 3-year loans:\n"
     ]
    },
    {
     "data": {
      "image/png": "[encoded data removed]",
      "text/plain": [
       "<matplotlib.figure.Figure at 0x195e4c88>"
      ]
     },
     "metadata": {},
     "output_type": "display_data"
    }
   ],
   "source": [
    "print 'Simple display of the deafult rate for our dataset of 2013 3-year loans:'\n",
    "defaulted_counts = df['defaulted'].value_counts()\n",
    "\n",
    "fig = plt.figure(figsize=(4, 4))\n",
    "ax1 = fig.add_subplot(111)\n",
    "ax1.pie([defaulted_counts.iloc[0], defaulted_counts.iloc[1]], \n",
    "        labels=['Fully Paid', 'Defaulted'], \n",
    "        colors=['#33ff3a','#ff3347'],\n",
    "        autopct='%1.1f%%',\n",
    "        shadow=True, startangle=90)\n",
    "\n",
    "plt.show()\n"
   ]
  },
  {
   "cell_type": "code",
   "execution_count": 30,
   "metadata": {
    "collapsed": true
   },
   "outputs": [],
   "source": [
    "# Function to encode that categorical predictors\n",
    "def one_hot(data):\n",
    "    columnsToEncode = list(data.select_dtypes(include=['category','object']))\n",
    "\n",
    "    oneHot = pd.get_dummies(data[columnsToEncode])\n",
    "\n",
    "    # Drop categorical predictors\n",
    "    data = data.drop(columnsToEncode, axis=1)\n",
    "    data = data.join(oneHot)\n",
    "    x = data\n",
    "    \n",
    "    return x"
   ]
  },
  {
   "cell_type": "code",
   "execution_count": 31,
   "metadata": {},
   "outputs": [
    {
     "name": "stdout",
     "output_type": "stream",
     "text": [
      "Done with one hot encoding\n",
      "Num of Predictors:  150\n"
     ]
    }
   ],
   "source": [
    "# %%time\n",
    "# Run one hot replacement on categorical predictors\n",
    "x = one_hot(x_df)\n",
    "\n",
    "print 'Done with one hot encoding'\n",
    "print \"Num of Predictors:  \" + str(x.shape[1])"
   ]
  },
  {
   "cell_type": "code",
   "execution_count": 32,
   "metadata": {
    "scrolled": true
   },
   "outputs": [
    {
     "name": "stdout",
     "output_type": "stream",
     "text": [
      "split into train/test sets 70/30, sanity check the train/test row counts\n",
      "x_train: 62,007 x_test: 26,575\n",
      "y_train: 62,007 y_test: 26,575\n"
     ]
    }
   ],
   "source": [
    "y = x_df['defaulted'].values\n",
    "\n",
    "test_ratio = 0.30\n",
    "x_train, x_test, y_train, y_test = sk_split(x, y, test_size=test_ratio)\n",
    "\n",
    "np.random.seed(109)\n",
    "print 'split into train/test sets {:.0f}/{:.0f}, sanity check the train/test row counts'.format(\n",
    "    (1-test_ratio)*100, test_ratio*100)\n",
    "print 'x_train: {:,} x_test: {:,}'.format(x_train.shape[0], x_test.shape[0])\n",
    "print 'y_train: {:,} y_test: {:,}'.format(y_train.size, y_test.size)\n"
   ]
  },
  {
   "cell_type": "code",
   "execution_count": 33,
   "metadata": {
    "scrolled": true
   },
   "outputs": [],
   "source": [
    "# Store the values used for cost analysis\n",
    "x_train_loan_values = x_train[['loan_amnt', 'total_pymnt', 'default_cost']]\n",
    "x_test_loan_values = x_test[['loan_amnt', 'total_pymnt', 'default_cost']]\n",
    "\n",
    "# Drop columns that are most likely populated after the loan is issued.\n",
    "cols_to_drop = ['issue_d', 'installment', 'default_cost', 'defaulted'               ]\n",
    "\n",
    "x_train_trimmed = x_train.drop(cols_to_drop, axis=1)\n",
    "x_test_trimmed = x_test.drop(cols_to_drop, axis=1)"
   ]
  },
  {
   "cell_type": "code",
   "execution_count": 34,
   "metadata": {},
   "outputs": [
    {
     "name": "stdout",
     "output_type": "stream",
     "text": [
      "Only 13% of our records winded up in default, meaning this is a rather unbalanced dataset. Lets make a backup\n",
      " dataset that is more evenly weighted between the two default states, by undersampling the rows that are marked\n",
      " as Fully Paid.\n",
      "\n",
      "> orig dataset, portion defaulted: 13.41%\n",
      "> balanced dataset, portion defaulted: 43.31%\n",
      "> train observation count has gone down from 62,007 to 19,205\n"
     ]
    }
   ],
   "source": [
    "print 'Only 13% of our records winded up in default, meaning this is a rather unbalanced dataset. Let''s make a backup'\n",
    "print ' dataset that is more evenly weighted between the two default states, by undersampling the rows that are marked'\n",
    "print ' as Fully Paid.'\n",
    "\n",
    "# create more balanced datasets, right now only ~13.5% of the rows have defaulted = True\n",
    "# split train into their component pieces\n",
    "y_paid = y_train[y_train==0]\n",
    "y_defaulted = y_train[y_train==1]\n",
    "x_paid = x_train_trimmed[y_train==0]\n",
    "x_defaulted = x_train_trimmed[y_train==1]\n",
    "\n",
    "# random numbers from 0 to 4, length of y_paid\n",
    "rnd = np.random.choice(5, len(y_paid))\n",
    "# only keep 20% of the orig fully paid rows\n",
    "y_paid = y_paid[rnd==0]\n",
    "x_paid = x_paid[rnd==0]\n",
    "# confirm the we only have ~20% of orig fully paid row count\n",
    "# print len(x_train_trimmed[y_train==0]), len(x_paid), len(x_paid)*1.0/len(x_train_trimmed[y_train==0])\n",
    "print\n",
    "\n",
    "# take the down-to-20% and add in all the orig defaulted = True rows\n",
    "y_train_balanced = np.concatenate([y_paid, y_defaulted])\n",
    "x_train_balanced = np.concatenate([x_paid, x_defaulted])\n",
    "print '> orig dataset, portion defaulted: {:.2f}%'.format(np.mean(y_train) * 100)\n",
    "print '> balanced dataset, portion defaulted: {:.2f}%'.format(np.mean(y_train_balanced) * 100)\n",
    "print '> train observation count has gone down from {:,} to {:,}'.format(len(y_train), len(y_train_balanced))\n"
   ]
  },
  {
   "cell_type": "code",
   "execution_count": 35,
   "metadata": {},
   "outputs": [
    {
     "name": "stdout",
     "output_type": "stream",
     "text": [
      "Comparison of our full train dataset vs. the balanced version\n"
     ]
    },
    {
     "data": {
      "image/png": "[encoded data removed]",
      "text/plain": [
       "<matplotlib.figure.Figure at 0x141fb048>"
      ]
     },
     "metadata": {},
     "output_type": "display_data"
    }
   ],
   "source": [
    "# print [len(y_train[y_train==0]), len(y_train[y_train==1])]\n",
    "# print [len(y_train_balanced[y_train_balanced==0]), len(y_train_balanced[y_train_balanced==1])]\n",
    "print 'Comparison of our full train dataset vs. the balanced version'\n",
    "\n",
    "fig = plt.figure(figsize=(12, 6))\n",
    "ax1 = fig.add_subplot(121)\n",
    "ax1.set_title('original train dataset, \\n{:,} observations'.format(len(y_train)))\n",
    "ax1.pie([len(y_train[y_train==0]), len(y_train[y_train==1])], \n",
    "        labels=['Fully Paid', 'Defaulted'], \n",
    "        colors=['#33ff3a','#ff3347'],\n",
    "        autopct='%1.1f%%',\n",
    "        shadow=True, startangle=90)\n",
    "\n",
    "ax2 = fig.add_subplot(122)\n",
    "ax2.set_title('balanced train dataset, \\n{:,} observations'.format(len(y_train_balanced)))\n",
    "ax2.pie([len(y_train_balanced[y_train_balanced==0]), len(y_train_balanced[y_train_balanced==1])], \n",
    "        labels=['Fully Paid', 'Defaulted'], \n",
    "        colors=['#33ff3a','#ff3347'],\n",
    "        autopct='%1.1f%%',\n",
    "        radius=0.555,\n",
    "        shadow=True, startangle=90)\n",
    "\n",
    "plt.show()\n",
    "\n",
    "\n"
   ]
  },
  {
   "cell_type": "markdown",
   "metadata": {},
   "source": [
    "----"
   ]
  },
  {
   "cell_type": "markdown",
   "metadata": {
    "collapsed": true
   },
   "source": [
    "## Following section was prepared for previous milestone\n",
    "#### Needed to come up with some way of measuring the \"cost\" of default, where almost all loan recipients could be expected to pay back at least part of the loan.\n",
    "\n",
    "*loan_amnt*  \n",
    "    - The listed amount of the loan applied for by the borrower. If at some point in time, the credit department reduces the loan amount, then it will be reflected in this value.\n",
    "\n",
    "*total_pymnt*  \n",
    "    - Payments received to date for total amount funded  \n",
    "    total_pymnt = total_rec_prncp+total_rec_int+total_rec_late_fee+recoveries  \n",
    "\n",
    "*collection_recovery_fee*  \n",
    "    - post charge off collection fee  \n",
    "    - definition: Covers costs incurred to collect tax and fee liabilities that are unpaid for more than 90 days.  \n",
    "     last column in total_pymnt=recoveries, so that must be amnt collection agency brought in, should be subtracted \n",
    "\n",
    "\n",
    "#### so the \"cost\" of a defaulted loan = loan_amnt - total_pymnt - collection_recovery_fee"
   ]
  },
  {
   "cell_type": "code",
   "execution_count": 36,
   "metadata": {},
   "outputs": [
    {
     "name": "stdout",
     "output_type": "stream",
     "text": [
      "Best-ish case, where we know who amongst the screened applicants will default and we dont loan to them:\n",
      "\n",
      "money available to lend: 336,303,525.00\n",
      "revenue from loans, no defaults: 342,134,025.20  not lent (would have defaulted): 43,126,475.00\n",
      "(partial) revenue from loans that wound up defaulting: 0.00\n",
      "net gain: $48,956,975.20\n"
     ]
    }
   ],
   "source": [
    "# best-ish case\n",
    "# in this scenario, we know who is going to default, and don't lend them anything\n",
    "# for simplest \"best case\" we'll assume that money simply sits there without being lent out to some 'other' applicants\n",
    "# (or otherwise earn any kind of interest etc.)\n",
    "\n",
    "money_to_loan = np.sum(x_test_loan_values['loan_amnt'])\n",
    "revenue = np.sum(x_test_loan_values[y_test==0]['total_pymnt'] )\n",
    "# paid_loans_profit = np.sum(x_test[y_test==0]['total_pymnt'] - x_test[y_test==0]['loan_amnt'])\n",
    "not_lent = np.sum(x_test_loan_values[y_test==1]['loan_amnt'])\n",
    "default_revenue = 0\n",
    "max_net_gain = revenue + not_lent + default_revenue - money_to_loan\n",
    "\n",
    "print 'Best-ish case, where we know who amongst the screened applicants will default and we don''t loan to them:'\n",
    "print\n",
    "print 'money available to lend: {:,.2f}'.format(money_to_loan)\n",
    "print 'revenue from loans, no defaults: {:,.2f}  not lent (would have defaulted): {:,.2f}'.format(revenue, not_lent)\n",
    "print '(partial) revenue from loans that wound up defaulting: {:,.2f}'.format(default_revenue)\n",
    "print 'net gain: ${:,.2f}'.format(max_net_gain)\n"
   ]
  },
  {
   "cell_type": "code",
   "execution_count": 37,
   "metadata": {},
   "outputs": [
    {
     "name": "stdout",
     "output_type": "stream",
     "text": [
      "max net gain: $48,956,975.20\n"
     ]
    },
    {
     "data": {
      "image/png": "[encoded data removed]",
      "text/plain": [
       "<matplotlib.figure.Figure at 0xd6074e0>"
      ]
     },
     "metadata": {},
     "output_type": "display_data"
    }
   ],
   "source": [
    "\n",
    "print 'max net gain: ${:,.2f}'.format(max_net_gain)\n",
    "fig = plt.figure(figsize=(5, 5))\n",
    "\n",
    "ax1 = fig.add_subplot(111)\n",
    "ax1.pie([max_net_gain], \n",
    "        labels=['net gain: ${:,.0f}'.format(max_net_gain)], \n",
    "        colors=['green'],\n",
    "        autopct='%1.1f%%', shadow=True, startangle=90)\n",
    "\n",
    "plt.show()"
   ]
  },
  {
   "cell_type": "code",
   "execution_count": 38,
   "metadata": {},
   "outputs": [
    {
     "name": "stdout",
     "output_type": "stream",
     "text": [
      "What actually did happen, Lending Club issued a loan to everyone who passed their application screening\n",
      "\n",
      "money available to lend: 336,303,525.00\n",
      "revenue from loans: 342,134,025.20  not lent to anyone: 0.00\n",
      "(partial) revenue from loans that wound up defaulting: 15,787,668.43\n",
      "net gain: $21,618,168.63\n"
     ]
    }
   ],
   "source": [
    "# cost = row['loan_amnt'] - row['total_pymnt'] - row['collection_recovery_fee']\n",
    "\n",
    "# this is what actually happened..., lent to everyone who passed the loan application process\n",
    "money_to_loan = np.sum(x_test_loan_values['loan_amnt'])\n",
    "revenue = np.sum(x_test_loan_values[y_test==0]['total_pymnt'])\n",
    "not_lent = 0\n",
    "default_revenue = np.sum(x_test_loan_values['default_cost']) # my default_cost = 0 for all non-defaulters\n",
    "net_gain = revenue + not_lent + default_revenue - money_to_loan\n",
    "\n",
    "print 'What actually did happen, Lending Club issued a loan to everyone who passed their application screening'\n",
    "print\n",
    "print 'money available to lend: {:,.2f}'.format(money_to_loan)\n",
    "print 'revenue from loans: {:,.2f}  not lent to anyone: {:,.2f}'.format(revenue, not_lent)\n",
    "print '(partial) revenue from loans that wound up defaulting: {:,.2f}'.format(default_revenue)\n",
    "print 'net gain: ${:,.2f}'.format(net_gain)\n"
   ]
  },
  {
   "cell_type": "code",
   "execution_count": 39,
   "metadata": {},
   "outputs": [
    {
     "name": "stdout",
     "output_type": "stream",
     "text": [
      "actual net gain: $21,618,168.63\n"
     ]
    },
    {
     "data": {
      "image/png": "[encoded data removed]",
      "text/plain": [
       "<matplotlib.figure.Figure at 0x1f2e6c88>"
      ]
     },
     "metadata": {},
     "output_type": "display_data"
    }
   ],
   "source": [
    "print 'actual net gain: ${:,.2f}'.format(net_gain)\n",
    "fig = plt.figure(figsize=(5, 5))\n",
    "\n",
    "ax1 = fig.add_subplot(111)\n",
    "ax1.pie([max_net_gain, net_gain], \n",
    "        labels=['max net gain: ${:,.0f}'.format(max_net_gain),'actual net gain: ${:,.0f}'.format(net_gain)], \n",
    "        colors=['green', 'cyan'],\n",
    "        autopct='%1.1f%%', shadow=True, startangle=90)\n",
    "\n",
    "plt.show()"
   ]
  },
  {
   "cell_type": "code",
   "execution_count": 40,
   "metadata": {},
   "outputs": [
    {
     "name": "stdout",
     "output_type": "stream",
     "text": [
      "Number of Defaults:  11898.0\n",
      "Number of Loans:     88582.0\n",
      "Percent of Default:  13.4316226773\n"
     ]
    }
   ],
   "source": [
    "# figure out the default rate based off of entire dataset\n",
    "defaults = float(df['defaulted'].sum())\n",
    "tot_loans = float(df.shape[0])\n",
    "print \"Number of Defaults:  \"  + str(defaults)\n",
    "print \"Number of Loans:     \"  + str(tot_loans)\n",
    "print \"Percent of Default:  \"  + str(defaults / tot_loans * 100)\n"
   ]
  },
  {
   "cell_type": "code",
   "execution_count": 41,
   "metadata": {},
   "outputs": [
    {
     "name": "stdout",
     "output_type": "stream",
     "text": [
      "Set observations to randomly default at same rate as the full dataset.\n",
      "\n",
      "Equivalent default rate via random generation: 13.69%\n",
      "Estimated Defaults:  3,639 out of 26,575\n",
      "Number of loans to issue, to those we believe wontnt default: 22,936\n"
     ]
    }
   ],
   "source": [
    "# OCG, setting a random seed\n",
    "np.random.seed(109)\n",
    "\n",
    "# using test set, randomly genrate a default rate of ~ 13.5%\n",
    "defaults = float(y_test.sum())\n",
    "tot_loans = float(y_test.shape[0])\n",
    "\n",
    "# Get random answers\n",
    "randoms = np.zeros(int(tot_loans))\n",
    "pct_def = defaults / tot_loans\n",
    "i = 0\n",
    "for r in randoms:\n",
    "    rr = randoms[i]\n",
    "    rand = np.random.random_sample()\n",
    "    if rand < pct_def:\n",
    "        randoms[i] = 1\n",
    "        i = i+1\n",
    "\n",
    "print 'Set observations to randomly default at same rate as the full dataset.'\n",
    "print\n",
    "print 'Equivalent default rate via random generation: {:.2f}%'.format(np.mean(randoms) * 100)\n",
    "print \"Estimated Defaults:  {:,.0f} out of {:,.0f}\".format(randoms.sum(), randoms.shape[0])\n",
    "print 'Number of loans to issue, to those we believe wont''nt default: {:,.0f}'.format(randoms.shape[0] - randoms.sum())"
   ]
  },
  {
   "cell_type": "code",
   "execution_count": 42,
   "metadata": {
    "scrolled": true
   },
   "outputs": [
    {
     "name": "stdout",
     "output_type": "stream",
     "text": [
      "Randomly estimate who will default and do not lend to them\n",
      "Money available to lend:                               336,303,525.00\n",
      "    Revenue from loans:                                295,825,257.52\n",
      "    Not lent to anyone:                                46,007,100.00\n",
      "(Partial) revenue from loans that wound up defaulting: 13,522,661.89\n",
      "Net Gain:                                             $19,051,494.41\n"
     ]
    }
   ],
   "source": [
    "# ok, now we have a list of 3,657 the random model has said will default\n",
    "\n",
    "money_to_loan = np.sum(x_test_loan_values['loan_amnt'])\n",
    "# they would not have defaulted (y_test=0) and we did lend to them (randoms=0, random model predicted they would not default)\n",
    "revenue = np.sum(x_test_loan_values[(y_test==0) & (randoms==0)]['total_pymnt'])\n",
    "# don't lend anything to those 3,657 people we believe are going to default\n",
    "not_lent = np.sum(x_test_loan_values[randoms==1]['loan_amnt'])\n",
    "# we'll be wrong on some of those 22,918 loans and they will default\n",
    "# my default_cost = 0 for all non-defaulters, so simply sum that field for everyone we did lend to\n",
    "default_revenue = np.sum(x_test_loan_values[randoms==0]['default_cost']) \n",
    "net_gain = revenue + not_lent + default_revenue - money_to_loan\n",
    "\n",
    "print 'Randomly estimate who will default and do not lend to them'\n",
    "print 'Money available to lend:                               {:,.2f}'.format(money_to_loan)\n",
    "print '    Revenue from loans:                                {:,.2f}'.format(revenue)\n",
    "print '    Not lent to anyone:                                {:,.2f}'.format(not_lent)\n",
    "print '(Partial) revenue from loans that wound up defaulting: {:,.2f}'.format(default_revenue)\n",
    "\n",
    "print 'Net Gain:                                             ${:,.2f}'.format(net_gain)"
   ]
  },
  {
   "cell_type": "code",
   "execution_count": 43,
   "metadata": {},
   "outputs": [
    {
     "name": "stdout",
     "output_type": "stream",
     "text": [
      "random baseline net gain: $19,051,494.41\n"
     ]
    },
    {
     "data": {
      "image/png": "[encoded data removed]",
      "text/plain": [
       "<matplotlib.figure.Figure at 0x11d74898>"
      ]
     },
     "metadata": {},
     "output_type": "display_data"
    }
   ],
   "source": [
    "print 'random baseline net gain: ${:,.2f}'.format(net_gain)\n",
    "fig = plt.figure(figsize=(5, 5))\n",
    "\n",
    "ax1 = fig.add_subplot(111)\n",
    "ax1.pie([max_net_gain, net_gain], \n",
    "        labels=['max net gain: ${:,.0f}'.format(max_net_gain),'random baseline net gain: ${:,.0f}'.format(net_gain)], \n",
    "        colors=['green', 'cyan'],\n",
    "        autopct='%1.1f%%', shadow=True, startangle=90)\n",
    "\n",
    "plt.show()"
   ]
  },
  {
   "cell_type": "code",
   "execution_count": 44,
   "metadata": {
    "collapsed": true
   },
   "outputs": [],
   "source": [
    "# function to measure profit\n",
    "def profit_calc(x_vals, y_vals, preds):\n",
    "    money_to_loan = np.sum(x_vals['loan_amnt'])\n",
    "\n",
    "    # they would not have defaulted (y_test=0) and we \n",
    "    # did lend to them (preds=0, model predicted \n",
    "    # they would not default)\n",
    "    revenue = np.sum(x_vals[(y_vals==0) & (preds==0)]['total_pymnt'])\n",
    "    \n",
    "    # don't lend anything to those people we believe are going to default\n",
    "    not_lent = np.sum(x_vals[preds==1]['loan_amnt'])\n",
    "    \n",
    "    # we'll be wrong on some of those 22,918 loans and they will default\n",
    "    # my default_cost = 0 for all non-defaulters, so simply sum that \n",
    "    # field for everyone we did lend to\n",
    "    default_revenue = np.sum(x_vals[preds==0]['default_cost']) \n",
    "    net_gain = revenue + not_lent + default_revenue - money_to_loan\n",
    "    \n",
    "    return money_to_loan, revenue, not_lent, default_revenue, net_gain"
   ]
  },
  {
   "cell_type": "code",
   "execution_count": 45,
   "metadata": {},
   "outputs": [],
   "source": [
    "# function to print out profit results of a given model's predictions\n",
    "def how_do_we_look(x_vals, y_vals, preds):\n",
    "    money_to_loan, revenue, not_lent, default_revenue, net_gain = profit_calc(x_vals, y_vals, preds)\n",
    "    \n",
    "    print 'Estimate who will default and don''t lend to them'\n",
    "    print 'Money available to lend:                               {:,.2f}'.format(money_to_loan)\n",
    "    print '    Revenue from loans:                                {:,.2f}'.format(revenue)\n",
    "    print '    Not lent to anyone:                                {:,.2f}'.format(not_lent)\n",
    "    print '(Partial) revenue from loans that wound up defaulting: {:,.2f}'.format(default_revenue)\n",
    "    \n",
    "    print 'Net Gain:                                             ${:,.2f}'.format(net_gain)\n"
   ]
  },
  {
   "cell_type": "markdown",
   "metadata": {},
   "source": [
    "----"
   ]
  },
  {
   "cell_type": "markdown",
   "metadata": {},
   "source": [
    "### And now off to the modeling races..."
   ]
  },
  {
   "cell_type": "code",
   "execution_count": 46,
   "metadata": {},
   "outputs": [
    {
     "name": "stdout",
     "output_type": "stream",
     "text": [
      "1\n",
      "3\n",
      "5\n",
      "10\n",
      "20\n",
      "43\n",
      "51\n",
      "58\n",
      "65\n",
      "\n",
      "Wall time: 16min 18s\n"
     ]
    }
   ],
   "source": [
    "%%time\n",
    "#SPD\n",
    "# Random Forest\n",
    "from sklearn.ensemble import RandomForestClassifier\n",
    "\n",
    "feats = []\n",
    "\n",
    "feats.append(1)\n",
    "feats.append(3)\n",
    "feats.append(5)\n",
    "feats.append(10)\n",
    "feats.append(20)\n",
    "feats.append(int(x_train_trimmed.shape[1] * 0.3))\n",
    "feats.append(int(x_train_trimmed.shape[1] * 0.35))\n",
    "feats.append(int(x_train_trimmed.shape[1] * 0.4))\n",
    "feats.append(int(x_train_trimmed.shape[1] * 0.45))\n",
    "\n",
    "scores = []\n",
    "preds = []\n",
    "for f in feats:\n",
    "    print f # progress check\n",
    "    clf = RandomForestClassifier(n_estimators=100,\n",
    "                                 max_features=f,\n",
    "                                 max_depth=None,\n",
    "                                 min_samples_split=2,\n",
    "                                 oob_score=True)\n",
    "    clf = clf.fit(x_train_trimmed, y_train)\n",
    "\n",
    "    forest_pred = clf.predict(x_test_trimmed)\n",
    "        \n",
    "    scores.append(str(np.mean(forest_pred == y_test)))\n",
    "    \n",
    "    preds.append(forest_pred)\n",
    "    \n",
    "print \n"
   ]
  },
  {
   "cell_type": "code",
   "execution_count": 47,
   "metadata": {},
   "outputs": [
    {
     "data": {
      "image/png": "[encoded data removed]",
      "text/plain": [
       "<matplotlib.figure.Figure at 0x1bd86e10>"
      ]
     },
     "metadata": {},
     "output_type": "display_data"
    }
   ],
   "source": [
    "#SPD\n",
    "fig = plt.figure(figsize=[5,5])\n",
    "\n",
    "ax = fig.add_subplot(111)\n",
    "\n",
    "ax.plot(feats, scores, marker=\"o\")\n",
    "\n",
    "ax.set_xlabel(\"Number of Features\")\n",
    "ax.set_ylabel(\"Accuracy\")\n",
    "ax.set_title(\"Random Forest No. of Features Test\")\n",
    "plt.grid()"
   ]
  },
  {
   "cell_type": "markdown",
   "metadata": {},
   "source": [
    "### Random Forest Observations\n"
   ]
  },
  {
   "cell_type": "code",
   "execution_count": 48,
   "metadata": {},
   "outputs": [
    {
     "name": "stdout",
     "output_type": "stream",
     "text": [
      "The accuracy graphs have shown that using 43 features yields the highest scores before it \n",
      "starts to plateau.  If we were to just pick the highest yielding score, we would risk \n",
      "over-fitting the data.\n",
      "\n",
      "Score sklearn RandomForestClassifier:  0.977347130762\n",
      "Estimate who will default and dont lend to them\n",
      "Money available to lend:                               336,303,525.00\n",
      "    Revenue from loans:                                342,057,603.52\n",
      "    Not lent to anyone:                                35,702,600.00\n",
      "(Partial) revenue from loans that wound up defaulting: -78,134.05\n",
      "Net Gain:                                             $41,378,544.48\n",
      "\n"
     ]
    }
   ],
   "source": [
    "#SPD\n",
    "index_of_rf = 5\n",
    "num_of_features = feats[index_of_rf]\n",
    "print \"The accuracy graphs have shown that using \" + str(num_of_features) + \" features yields the highest scores before it \"\n",
    "print \"starts to plateau.  If we were to just pick the highest yielding score, we would risk \"\n",
    "print \"over-fitting the data.\"\n",
    "print\n",
    "print \"Score sklearn RandomForestClassifier:  \" +  str(scores[index_of_rf])\n",
    "how_do_we_look(x_test_loan_values, y_test, preds[index_of_rf])\n",
    "print\n",
    "\n",
    "forest_pred = preds[index_of_rf]"
   ]
  },
  {
   "cell_type": "markdown",
   "metadata": {},
   "source": [
    "#### SVM Note:\n",
    "Generating an SVM model proved too great of a challenge for the limited computing power available to us."
   ]
  },
  {
   "cell_type": "code",
   "execution_count": 49,
   "metadata": {},
   "outputs": [],
   "source": [
    "# SVM - Currently taking too long\n",
    "# model = svm.SVC(C=1, kernel='linear', degree=2)\n",
    "# model.fit(X_train, y_train)\n"
   ]
  },
  {
   "cell_type": "code",
   "execution_count": 50,
   "metadata": {},
   "outputs": [
    {
     "name": "stdout",
     "output_type": "stream",
     "text": [
      "Estimate who will default and dont lend to them\n",
      "Money available to lend:                               336,303,525.00\n",
      "    Revenue from loans:                                342,134,025.20\n",
      "    Not lent to anyone:                                35,840,175.00\n",
      "(Partial) revenue from loans that wound up defaulting: -60,087.08\n",
      "Net Gain:                                             $41,610,588.13\n",
      "\n",
      "Logistic Regression\n",
      "Accuracy on overall test set: 0.969971777987\n",
      "Accuracy on No Default (Fully Paid) in test set: 1.0\n",
      "Accuracy on Defaulted in test set: 0.777157218654\n",
      "Wall time: 21.8 s\n"
     ]
    }
   ],
   "source": [
    "%%time\n",
    "#Create a logistic regression model with linear boundary\n",
    "logreg = linear_model.LogisticRegression()\n",
    "logreg.fit(x_train_trimmed, y_train)\n",
    "log_reg_pred = logreg.predict(x_test_trimmed)\n",
    "\n",
    "how_do_we_look(x_test_loan_values, y_test, log_reg_pred)\n",
    "\n",
    "print\n",
    "print 'Logistic Regression'\n",
    "print 'Accuracy on overall test set:', logreg.score(x_test_trimmed, y_test)\n",
    "print 'Accuracy on No Default (Fully Paid) in test set:', logreg.score(x_test_trimmed[y_test == 0], y_test[y_test == 0])\n",
    "print 'Accuracy on Defaulted in test set:', logreg.score(x_test_trimmed[y_test == 1], y_test[y_test == 1])\n"
   ]
  },
  {
   "cell_type": "code",
   "execution_count": 51,
   "metadata": {},
   "outputs": [
    {
     "name": "stdout",
     "output_type": "stream",
     "text": [
      "Estimate who will default and dont lend to them\n",
      "Money available to lend:                               336,303,525.00\n",
      "    Revenue from loans:                                335,659,139.93\n",
      "    Not lent to anyone:                                46,549,625.00\n",
      "(Partial) revenue from loans that wound up defaulting: -331,866.63\n",
      "Net Gain:                                             $45,573,373.30\n",
      "\n",
      "Logistic Regression, using balanced dataset (undersampling on Fully Paid)\n",
      "Accuracy on overall test set: 0.97429915334\n",
      "Accuracy on No Default (Fully Paid) in test set: 0.983256501696\n",
      "Accuracy on Defaulted in test set: 0.916783021502\n",
      "Wall time: 5.7 s\n"
     ]
    }
   ],
   "source": [
    "%%time\n",
    "# 12/8 ocg new, should be equivalent of below, well not as good, but I think is a good illustration\n",
    "logreg_balanced = linear_model.LogisticRegression()\n",
    "logreg_balanced.fit(x_train_balanced, y_train_balanced)\n",
    "log_reg_pred_balanced = logreg_balanced.predict(x_test_trimmed)\n",
    "\n",
    "how_do_we_look(x_test_loan_values, y_test, log_reg_pred_balanced)\n",
    "\n",
    "print\n",
    "print 'Logistic Regression, using balanced dataset (undersampling on Fully Paid)'\n",
    "print 'Accuracy on overall test set:', logreg_balanced.score(x_test_trimmed, y_test)\n",
    "print 'Accuracy on No Default (Fully Paid) in test set:', logreg_balanced.score(x_test_trimmed[y_test == 0], y_test[y_test == 0])\n",
    "print 'Accuracy on Defaulted in test set:', logreg_balanced.score(x_test_trimmed[y_test == 1], y_test[y_test == 1])\n"
   ]
  },
  {
   "cell_type": "code",
   "execution_count": 52,
   "metadata": {},
   "outputs": [
    {
     "name": "stdout",
     "output_type": "stream",
     "text": [
      "Estimate who will default and dont lend to them\n",
      "Money available to lend:                               336,303,525.00\n",
      "    Revenue from loans:                                333,697,365.49\n",
      "    Not lent to anyone:                                48,724,575.00\n",
      "(Partial) revenue from loans that wound up defaulting: -322,584.22\n",
      "Net Gain:                                             $45,795,831.26\n",
      "Weighted Logistic Regression: L2 regularization, liblinear solver\n",
      "Accuracy on overall test set: 0.969369708373\n",
      "Accuracy on No Default (Fully Paid) in test set: 0.975819779073\n",
      "Accuracy on Defaulted in test set: 0.92795308573\n",
      "\n",
      "Compared to the basic logistic regression model, overall accuracy in both \"weighted\" and\n",
      " balanced variants went down a bit, as did No Default accuracy, but Defaulted accuracy\n",
      " increased quite a bit\n"
     ]
    }
   ],
   "source": [
    "# with default, regularization=L2, solver=liblinear\n",
    "logreg_weighted = linear_model.LogisticRegression(class_weight='balanced')\n",
    "logreg_weighted.fit(x_train_trimmed, y_train)\n",
    "logreg_weighted_pred = logreg_weighted.predict(x_test_trimmed)\n",
    "\n",
    "how_do_we_look(x_test_loan_values, y_test, logreg_weighted_pred)\n",
    "\n",
    "print 'Weighted Logistic Regression: L2 regularization, liblinear solver'\n",
    "print 'Accuracy on overall test set:', logreg_weighted.score(x_test_trimmed, y_test)\n",
    "print 'Accuracy on No Default (Fully Paid) in test set:', logreg_weighted.score(x_test_trimmed[y_test == 0], y_test[y_test == 0])\n",
    "print 'Accuracy on Defaulted in test set:', logreg_weighted.score(x_test_trimmed[y_test == 1], y_test[y_test == 1])\n",
    "print \n",
    "print 'Compared to the basic logistic regression model, overall accuracy in both \"weighted\" and'\n",
    "print ' balanced variants went down a bit, as did No Default accuracy, but Defaulted accuracy'\n",
    "print ' increased quite a bit'"
   ]
  },
  {
   "cell_type": "markdown",
   "metadata": {},
   "source": [
    "**Note:** Random Forest and Weighted LogisticRegression were looking best for us, so it made sense to try a few variations off of that base to see if changing some parameters (solver & regularization/penalty type) would help. Different C values will be used at a later step."
   ]
  },
  {
   "cell_type": "code",
   "execution_count": 53,
   "metadata": {},
   "outputs": [
    {
     "name": "stdout",
     "output_type": "stream",
     "text": [
      "Estimate who will default and dont lend to them\n",
      "Money available to lend:                               336,303,525.00\n",
      "    Revenue from loans:                                333,007,462.21\n",
      "    Not lent to anyone:                                49,655,575.00\n",
      "(Partial) revenue from loans that wound up defaulting: -281,655.97\n",
      "Net Gain:                                             $46,077,856.24\n",
      "Weighted Logistic Regression: L1 regularization, liblinear solver\n",
      "Accuracy on overall test set: 0.96549388523\n",
      "Accuracy on No Default (Fully Paid) in test set: 0.969470296599\n",
      "Accuracy on Defaulted in test set: 0.939960904775\n"
     ]
    }
   ],
   "source": [
    "# l1 regularization, default solver (liblinear)\n",
    "logreg_weighted = linear_model.LogisticRegression(\n",
    "    class_weight='balanced',\n",
    "    penalty='l1')\n",
    "logreg_weighted.fit(x_train_trimmed, y_train)\n",
    "logreg_weighted_pred1 = logreg_weighted.predict(x_test_trimmed)\n",
    "\n",
    "how_do_we_look(x_test_loan_values, y_test, logreg_weighted_pred1)\n",
    "\n",
    "print 'Weighted Logistic Regression: L1 regularization, liblinear solver'\n",
    "print 'Accuracy on overall test set:', logreg_weighted.score(x_test_trimmed, y_test)\n",
    "print 'Accuracy on No Default (Fully Paid) in test set:', logreg_weighted.score(x_test_trimmed[y_test == 0], y_test[y_test == 0])\n",
    "print 'Accuracy on Defaulted in test set:', logreg_weighted.score(x_test_trimmed[y_test == 1], y_test[y_test == 1])"
   ]
  },
  {
   "cell_type": "code",
   "execution_count": 54,
   "metadata": {},
   "outputs": [
    {
     "name": "stdout",
     "output_type": "stream",
     "text": [
      "Estimate who will default and dont lend to them\n",
      "Money available to lend:                               336,303,525.00\n",
      "    Revenue from loans:                                325,345,331.16\n",
      "    Not lent to anyone:                                51,450,700.00\n",
      "(Partial) revenue from loans that wound up defaulting: -66,720.11\n",
      "Net Gain:                                             $40,425,786.05\n",
      "Weighted Logistic Regression: L2 regularization, lbfgs solver\n",
      "Accuracy on overall test set: 0.898626528692\n",
      "Accuracy on No Default (Fully Paid) in test set: 0.905714534226\n",
      "Accuracy on Defaulted in test set: 0.853113655404\n"
     ]
    }
   ],
   "source": [
    "# l2 regularization, solver = lbfgs\n",
    "logreg_weighted = linear_model.LogisticRegression(\n",
    "    class_weight='balanced',\n",
    "    penalty='l2',\n",
    "    solver='lbfgs')\n",
    "logreg_weighted.fit(x_train_trimmed, y_train)\n",
    "logreg_weighted_pred2 = logreg_weighted.predict(x_test_trimmed)\n",
    "\n",
    "how_do_we_look(x_test_loan_values, y_test, logreg_weighted_pred2)\n",
    "\n",
    "print 'Weighted Logistic Regression: L2 regularization, lbfgs solver'\n",
    "print 'Accuracy on overall test set:', logreg_weighted.score(x_test_trimmed, y_test)\n",
    "print 'Accuracy on No Default (Fully Paid) in test set:', logreg_weighted.score(x_test_trimmed[y_test == 0], y_test[y_test == 0])\n",
    "print 'Accuracy on Defaulted in test set:', logreg_weighted.score(x_test_trimmed[y_test == 1], y_test[y_test == 1])"
   ]
  },
  {
   "cell_type": "code",
   "execution_count": 55,
   "metadata": {},
   "outputs": [
    {
     "name": "stdout",
     "output_type": "stream",
     "text": [
      "Estimate who will default and dont lend to them\n",
      "Money available to lend:                               336,303,525.00\n",
      "    Revenue from loans:                                333,747,355.49\n",
      "    Not lent to anyone:                                43,245,625.00\n",
      "(Partial) revenue from loans that wound up defaulting: 31,932.96\n",
      "Net Gain:                                             $40,721,388.45\n",
      "Weighted Logistic Regression: L2 regularization, sag solver\n",
      "Accuracy on overall test set: 0.919247412982\n",
      "Accuracy on No Default (Fully Paid) in test set: 0.931068974515\n",
      "Accuracy on Defaulted in test set: 0.843339849204\n"
     ]
    },
    {
     "name": "stderr",
     "output_type": "stream",
     "text": [
      "C:\\Anaconda\\lib\\site-packages\\sklearn\\linear_model\\sag.py:267: ConvergenceWarning: The max_iter was reached which means the coef_ did not converge\n",
      "  \"the coef_ did not converge\", ConvergenceWarning)\n"
     ]
    }
   ],
   "source": [
    "# l2 regularization, solver = 'sag' instead of default liblinear\n",
    "# print, warning \n",
    "logreg_weighted = linear_model.LogisticRegression(\n",
    "    class_weight='balanced',\n",
    "    penalty='l2',\n",
    "    max_iter=300,   #at default 100, warning re \"the coef_ did not converge\" and poor accuracy, 300 worked in at least one test\n",
    "    solver='sag')\n",
    "logreg_weighted.fit(x_train_trimmed, y_train)\n",
    "logreg_weighted_pred3 = logreg_weighted.predict(x_test_trimmed)\n",
    "\n",
    "how_do_we_look(x_test_loan_values, y_test, logreg_weighted_pred3)\n",
    "\n",
    "print 'Weighted Logistic Regression: L2 regularization, sag solver'\n",
    "print 'Accuracy on overall test set:', logreg_weighted.score(x_test_trimmed, y_test)\n",
    "print 'Accuracy on No Default (Fully Paid) in test set:', logreg_weighted.score(x_test_trimmed[y_test == 0], y_test[y_test == 0])\n",
    "print 'Accuracy on Defaulted in test set:', logreg_weighted.score(x_test_trimmed[y_test == 1], y_test[y_test == 1])\n"
   ]
  },
  {
   "cell_type": "markdown",
   "metadata": {},
   "source": [
    "The best models would appear to both use the default liblinear solver, with L1/lasso & L2/ridge both showing similar outputs."
   ]
  },
  {
   "cell_type": "markdown",
   "metadata": {},
   "source": [
    "#### Logistic Regression CV Note: \n",
    "It would have been nice to run the LogisticRegressionCV on the full train dataset and using class_weight='balanced', but this was another case where the compuation was taking too long. So a couple of cells below is the LogisticRegressionCV run on the smaller balanced dataset we had created earlier, without passing in any class_weight parameter."
   ]
  },
  {
   "cell_type": "code",
   "execution_count": 56,
   "metadata": {},
   "outputs": [],
   "source": [
    "# the version that should be run but class_weight='balanced' is taking an inordinate amount of time to complete\n",
    "\n",
    "# %%time\n",
    "#\n",
    "#from sklearn.linear_model import LogisticRegressionCV as LogRegCV\n",
    "#\n",
    "##Generate array of regularization parameters\n",
    "#regularization = 10.**np.arange(-3, 4)\n",
    "#\n",
    "##Fit logistic model with cross validation to select the optimal regularization parameter\n",
    "#logreg_cv = LogRegCV(cv=5, \n",
    "#                    penalty='l1', \n",
    "#                    Cs=regularization, \n",
    "#                    solver='liblinear', \n",
    "#                    class_weight='balanced', #'balanced' here is taking wayyyy too long\n",
    "#                    n_jobs=-1)\n",
    "#logreg_cv.fit(x_train_trimmed, y_train)\n",
    "##logreg_cv.fit(x_train_balanced, y_train)   # balanced data set\n",
    "#logreg_cv_pred = logreg_cv.predict(x_test_trimmed)\n",
    "#\n",
    "#how_do_we_look(x_test_loan_values, y_test, logreg_cv_pred)\n",
    "#\n",
    "#\n",
    "#print 'Accuracy on overall test set:', logreg_cv.score(x_test_trimmed, y_test)\n",
    "#print 'Accuracy on No Default (Fully Paid) in test set:', logreg_cv.score(x_test_trimmed[y_test == 0], y_test[y_test == 0])\n",
    "#print 'Accuracy on Defaulted in test set:', logreg_cv.score(x_test_trimmed[y_test == 1], y_test[y_test == 1])\n",
    "#"
   ]
  },
  {
   "cell_type": "code",
   "execution_count": 57,
   "metadata": {},
   "outputs": [
    {
     "name": "stdout",
     "output_type": "stream",
     "text": [
      "Estimate who will default and dont lend to them\n",
      "Money available to lend:                               336,303,525.00\n",
      "    Revenue from loans:                                335,281,457.04\n",
      "    Not lent to anyone:                                47,342,850.00\n",
      "(Partial) revenue from loans that wound up defaulting: -296,148.57\n",
      "Net Gain:                                             $46,024,633.47\n",
      "Accuracy on overall test set: 0.972681091251\n",
      "Accuracy on No Default (Fully Paid) in test set: 0.978516134644\n",
      "Accuracy on Defaulted in test set: 0.935213627478\n",
      "Wall time: 2min 46s\n"
     ]
    }
   ],
   "source": [
    "%%time\n",
    "\n",
    "# the version using the balanced data set\n",
    "\n",
    "from sklearn.linear_model import LogisticRegressionCV as LogRegCV\n",
    "\n",
    "#Generate array of regularization parameters\n",
    "regularization = 10.**np.arange(-3, 4)\n",
    "\n",
    "#Fit logistic model with cross validation to select the optimal regularization parameter\n",
    "logreg_cv = LogRegCV(cv=5, \n",
    "                    penalty='l1', \n",
    "                    Cs=regularization, \n",
    "                    solver='liblinear', \n",
    "                    n_jobs=-1)\n",
    "# x_train_balanced here:\n",
    "logreg_cv.fit(x_train_balanced, y_train_balanced)\n",
    "logreg_cv_pred = logreg_cv.predict(x_test_trimmed)\n",
    "\n",
    "how_do_we_look(x_test_loan_values, y_test, logreg_cv_pred)\n",
    "\n",
    "\n",
    "print 'Accuracy on overall test set:', logreg_cv.score(x_test_trimmed, y_test)\n",
    "print 'Accuracy on No Default (Fully Paid) in test set:', logreg_cv.score(x_test_trimmed[y_test == 0], y_test[y_test == 0])\n",
    "print 'Accuracy on Defaulted in test set:', logreg_cv.score(x_test_trimmed[y_test == 1], y_test[y_test == 1])\n"
   ]
  },
  {
   "cell_type": "code",
   "execution_count": 58,
   "metadata": {},
   "outputs": [
    {
     "name": "stdout",
     "output_type": "stream",
     "text": [
      "A real quick set of LDA & QDA models, though we didnt wind up exploring too much.\n",
      "LDA Score, orig dataset:  0.94780809031"
     ]
    },
    {
     "name": "stderr",
     "output_type": "stream",
     "text": [
      "C:\\Anaconda\\lib\\site-packages\\sklearn\\discriminant_analysis.py:387: UserWarning: Variables are collinear.\n",
      "  warnings.warn(\"Variables are collinear.\")\n",
      "C:\\Anaconda\\lib\\site-packages\\sklearn\\discriminant_analysis.py:688: UserWarning: Variables are collinear\n",
      "  warnings.warn(\"Variables are collinear\")\n"
     ]
    },
    {
     "name": "stdout",
     "output_type": "stream",
     "text": [
      "\n",
      "QDA Score, orig dataset:  0.855653809972\n"
     ]
    }
   ],
   "source": [
    "print 'A real quick set of LDA & QDA models, though we didn''t wind up exploring too much.'\n",
    "#LDA\n",
    "\n",
    "lda = LDA()\n",
    "lda.fit(x_train_trimmed, y_train)\n",
    "\n",
    "print 'LDA Score, orig dataset:  ' + str(lda.score(x_test_trimmed, y_test))\n",
    "\n",
    "#QDA\n",
    "qda = QDA()\n",
    "qda.fit(x_train_trimmed, y_train)\n",
    "\n",
    "print 'QDA Score, orig dataset:  ' + str(qda.score(x_test_trimmed, y_test))"
   ]
  },
  {
   "cell_type": "code",
   "execution_count": 59,
   "metadata": {},
   "outputs": [
    {
     "name": "stdout",
     "output_type": "stream",
     "text": [
      "LDA Score, balanced dataset:  0.960150517404\n",
      "QDA Score, balanced dataset:  0.861298212606\n"
     ]
    }
   ],
   "source": [
    "#same as above but train on the balanced datasets\n",
    "\n",
    "#LDA\n",
    "lda = LDA()\n",
    "lda.fit(x_train_balanced, y_train_balanced)\n",
    "\n",
    "print 'LDA Score, balanced dataset:  ' + str(lda.score(x_test_trimmed, y_test))\n",
    "\n",
    "#QDA\n",
    "qda = QDA()\n",
    "qda.fit(x_train_balanced, y_train_balanced)\n",
    "\n",
    "print 'QDA Score, balanced dataset:  ' + str(qda.score(x_test_trimmed, y_test))"
   ]
  },
  {
   "cell_type": "code",
   "execution_count": 60,
   "metadata": {
    "collapsed": true
   },
   "outputs": [],
   "source": [
    "# Function to plot the confusion matrix\n",
    "def plot_confusion_matrix(confusion, ax,title='Confusion matrix',cmap=plt.cm.gray_r):\n",
    "    \n",
    "    tot = float(confusion[0,0] + confusion[0,1] + confusion[1,0] + confusion[1,1])\n",
    " \n",
    "    conf = np.empty([2,2])\n",
    "     \n",
    "    conf[0,0] = float(confusion[0,0]) / tot\n",
    "    conf[0,1] = float(confusion[0,1]) / tot\n",
    "    conf[1,0] = float(confusion[1,0]) / tot\n",
    "    conf[1,1] = float(confusion[1,1]) / tot\n",
    "\n",
    "    cax = ax.matshow(conf, cmap=cmap) # imshow\n",
    "    ax.set_title(title)\n",
    "    fig.colorbar(cax)\n",
    "    tick_marks = np.arange(len(conf[0]))\n",
    "    plt.xticks(tick_marks)\n",
    "    plt.yticks(tick_marks )\n",
    "    \n",
    "    ax.set_ylabel('Actual')\n",
    "    ax.set_xlabel('Predicted')\n",
    "\n",
    "    return ax\n",
    "    "
   ]
  },
  {
   "cell_type": "code",
   "execution_count": 61,
   "metadata": {},
   "outputs": [
    {
     "data": {
      "image/png": "[encoded data removed]",
      "text/plain": [
       "<matplotlib.figure.Figure at 0x154ba198>"
      ]
     },
     "metadata": {},
     "output_type": "display_data"
    }
   ],
   "source": [
    "# Create the confusion matrix \n",
    "from sklearn.metrics import confusion_matrix\n",
    "\n",
    "fig = plt.figure(figsize=[15,8])\n",
    "ax = fig.add_subplot(231)\n",
    "log_reg_conf = confusion_matrix(y_test, log_reg_pred)\n",
    "plot_confusion_matrix(log_reg_conf, ax, \"Log Reg Confusion\")\n",
    "\n",
    "\n",
    "ax2 = fig.add_subplot(232)\n",
    "logreg_cv_pred = logreg_cv.predict(x_test_trimmed)\n",
    "logreg_cv_conf = confusion_matrix(y_test, logreg_cv_pred)\n",
    "plot_confusion_matrix(logreg_cv_conf, ax2, \"Log Reg CV Confusion\")\n",
    "\n",
    "ax3 = fig.add_subplot(233)\n",
    "forest_conf = confusion_matrix(y_test, forest_pred)\n",
    "plot_confusion_matrix(forest_conf, ax3, \"Random Forest Confusion\")\n",
    "\n",
    "ax4 = fig.add_subplot(234)\n",
    "lda_pred = lda.predict(x_test_trimmed)\n",
    "lda_conf = confusion_matrix(y_test, lda_pred)\n",
    "plot_confusion_matrix(lda_conf, ax4, \"LDA Confusion\")\n",
    "\n",
    "ax5 = fig.add_subplot(235)\n",
    "qda_pred = qda.predict(x_test_trimmed)\n",
    "qda_conf = confusion_matrix(y_test, qda_pred)\n",
    "plot_confusion_matrix(qda_conf, ax5, \"QDA Confusion\")\n",
    "\n",
    "\n",
    "plt.tight_layout()\n",
    "plt.show()\n",
    "\n",
    "#print log_reg_conf\n",
    "#print logreg_cv_conf\n",
    "#print forest_conf"
   ]
  },
  {
   "cell_type": "code",
   "execution_count": 62,
   "metadata": {
    "collapsed": true
   },
   "outputs": [],
   "source": [
    "def plot_roc(fpr, tpr, title, roc_auc, ax):\n",
    "    ax.set_title(title)\n",
    "    ax.plot(false_positive_rate, true_positive_rate, 'b',\n",
    "    label='AUC = %0.2f'% roc_auc)\n",
    "    ax.legend(loc='lower right')\n",
    "    ax.plot([0,1],[0,1],'r--')\n",
    "    ax.set_xlim([-0.1,1.2])\n",
    "    ax.set_ylim([-0.1,1.2])\n",
    "    ax.set_ylabel('True Positive Rate')\n",
    "    ax.set_xlabel('False Positive Rate')\n",
    "    \n",
    "    return ax"
   ]
  },
  {
   "cell_type": "code",
   "execution_count": 63,
   "metadata": {},
   "outputs": [
    {
     "data": {
      "image/png": "[encoded data removed]",
      "text/plain": [
       "<matplotlib.figure.Figure at 0x1898c400>"
      ]
     },
     "metadata": {},
     "output_type": "display_data"
    }
   ],
   "source": [
    "from sklearn.metrics import roc_curve, auc\n",
    "\n",
    "fig = plt.figure(figsize=[15,10])\n",
    "\n",
    "# ROC for Log Reg\n",
    "false_positive_rate, true_positive_rate, thresholds = roc_curve(y_test, log_reg_pred)\n",
    "roc_auc = auc(false_positive_rate, true_positive_rate)\n",
    "\n",
    "ax = fig.add_subplot(231)\n",
    "plot_roc(false_positive_rate, true_positive_rate, \"ROC:  Log Reg\", roc_auc, ax)\n",
    "\n",
    "# ROC for Log Reg w/CV\n",
    "false_positive_rate, true_positive_rate, thresholds = roc_curve(y_test, logreg_cv_pred)\n",
    "roc_auc = auc(false_positive_rate, true_positive_rate)\n",
    "\n",
    "ax2 = fig.add_subplot(232)\n",
    "plot_roc(false_positive_rate, true_positive_rate, \"ROC:  Log Reg w/CV\", roc_auc, ax2)\n",
    "\n",
    "# ROC for Random Forest\n",
    "false_positive_rate, true_positive_rate, thresholds = roc_curve(y_test, forest_pred)\n",
    "roc_auc = auc(false_positive_rate, true_positive_rate)\n",
    "\n",
    "ax3 = fig.add_subplot(233)\n",
    "plot_roc(false_positive_rate, true_positive_rate, \"ROC:  Random Forest\", roc_auc, ax3)\n",
    "\n",
    "# ROC for LDA\n",
    "false_positive_rate, true_positive_rate, thresholds = roc_curve(y_test, lda_pred)\n",
    "roc_auc = auc(false_positive_rate, true_positive_rate)\n",
    "\n",
    "ax4 = fig.add_subplot(234)\n",
    "plot_roc(false_positive_rate, true_positive_rate, \"ROC:  LDA\", roc_auc, ax4)\n",
    "\n",
    "# ROC for QDA\n",
    "false_positive_rate, true_positive_rate, thresholds = roc_curve(y_test, qda_pred)\n",
    "roc_auc = auc(false_positive_rate, true_positive_rate)\n",
    "\n",
    "ax5 = fig.add_subplot(235)\n",
    "plot_roc(false_positive_rate, true_positive_rate, \"ROC:  QDA\", roc_auc, ax5)\n",
    "plt.show()"
   ]
  },
  {
   "cell_type": "code",
   "execution_count": null,
   "metadata": {
    "collapsed": true
   },
   "outputs": [],
   "source": []
  }
 ],
 "metadata": {
  "anaconda-cloud": {},
  "kernelspec": {
   "display_name": "Python (e88 conda)",
   "language": "python",
   "name": "conda_v35_e88_misc"
  },
  "language_info": {
   "codemirror_mode": {
    "name": "ipython",
    "version": 3
   },
   "file_extension": ".py",
   "mimetype": "text/x-python",
   "name": "python",
   "nbconvert_exporter": "python",
   "pygments_lexer": "ipython3",
   "version": "3.5.4"
  }
 },
 "nbformat": 4,
 "nbformat_minor": 1
}
