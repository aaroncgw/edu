{
 "cells": [
  {
   "cell_type": "markdown",
   "metadata": {},
   "source": [
    "# CS 109A/AC 209A/STAT 121A Data Science: Homework 4\n",
    "**Harvard University**<br>\n",
    "**Fall 2016**<br>\n",
    "**Instructors: W. Pan, P. Protopapas, K. Rader**<br>\n",
    "**Due Date: ** Wednesday, October 5th, 2016 at 11:59pm"
   ]
  },
  {
   "cell_type": "markdown",
   "metadata": {},
   "source": [
    "Download the `IPython` notebook as well as the data file from Vocareum and complete locally.\n",
    "\n",
    "To submit your assignment, in Vocareum, upload (using the 'Upload' button on your Jupyter Dashboard) your solution to Vocareum as a single notebook with following file name format:\n",
    "\n",
    "`last_first_CourseNumber_HW4.ipynb`\n",
    "\n",
    "where `CourseNumber` is the course in which you're enrolled (CS 109a, Stats 121a, AC 209a). Submit your assignment in Vocareum using the 'Submit' button.\n",
    "\n",
    "**Avoid editing your file in Vocareum after uploading. If you need to make a change in a solution. Delete your old solution file from Vocareum and upload a new solution. Click submit only ONCE after verifying that you have uploaded the correct file. The assignment will CLOSE after you click the submit button.**\n",
    "\n",
    "Problems on homework assignments are equally weighted. The Challenge Question is required for AC 209A students and optional for all others. Student who complete the Challenge Problem as optional extra credit will receive +0.5% towards your final grade for each correct solution. "
   ]
  },
  {
   "cell_type": "markdown",
   "metadata": {},
   "source": [
    "Import libraries"
   ]
  },
  {
   "cell_type": "code",
   "execution_count": 1,
   "metadata": {},
   "outputs": [],
   "source": [
    "import numpy as np\n",
    "import pandas as pd\n",
    "from sklearn.linear_model import LinearRegression as Lin_Reg\n",
    "from sklearn.linear_model import Ridge as Ridge_Reg\n",
    "from sklearn.linear_model import Lasso as Lasso_Reg\n",
    "from statsmodels.regression.linear_model import OLS\n",
    "import sklearn.preprocessing as Preprocessing\n",
    "import itertools as it\n",
    "import matplotlib\n",
    "import matplotlib.pyplot as plt\n",
    "import matplotlib.cm as cmx\n",
    "import matplotlib.colors as colors\n",
    "import scipy as sp\n",
    "from itertools import combinations\n",
    "%matplotlib inline"
   ]
  },
  {
   "cell_type": "code",
   "execution_count": 2,
   "metadata": {
    "collapsed": true
   },
   "outputs": [],
   "source": [
    "# my additional libraries\n",
    "import collections\n",
    "\n",
    "from sklearn.cross_validation import train_test_split as sk_split\n",
    "from sklearn.preprocessing import scale\n",
    "from statsmodels.regression.linear_model import add_constant\n"
   ]
  },
  {
   "cell_type": "markdown",
   "metadata": {},
   "source": [
    "## Problem 0: Basic Information\n",
    "\n",
    "Fill in your basic information. \n",
    "\n",
    "### Part (a): Your name"
   ]
  },
  {
   "cell_type": "markdown",
   "metadata": {},
   "source": [
    "Galvin, Owen"
   ]
  },
  {
   "cell_type": "markdown",
   "metadata": {},
   "source": [
    "### Part (b): Course Number"
   ]
  },
  {
   "cell_type": "markdown",
   "metadata": {},
   "source": [
    "CS 109a Extension"
   ]
  },
  {
   "cell_type": "markdown",
   "metadata": {},
   "source": [
    "### Part (c): Who did you work with?"
   ]
  },
  {
   "cell_type": "markdown",
   "metadata": {},
   "source": [
    "None"
   ]
  },
  {
   "cell_type": "markdown",
   "metadata": {},
   "source": [
    "**All data sets can be found in the ``datasets`` folder and are in comma separated value (CSV) format**"
   ]
  },
  {
   "cell_type": "markdown",
   "metadata": {},
   "source": [
    "## Problem 1: Variable selection and regularization\n",
    "\n",
    "The data set for this problem is provided in ``dataset_1.txt`` and contains 10 predictors and a response variable.\n",
    "\n",
    "### Part (a): Analyze correlation among predictors\n",
    "- By visually inspecting the data set, do find that some of the predictors are correlated amongst themselves?\n",
    "\n",
    "\n",
    "- Compute the cofficient of correlation between each pair of predictors, and visualize the matrix of correlation coefficients using a heat map. Do the predictors fall naturally into groups based on the correlation values?\n",
    "\n",
    "\n",
    "- If you were asked to select a minimal subset of predictors based on the correlation information in order to build a good regression model, how many predictors will you pick, and which ones will you choose? "
   ]
  },
  {
   "cell_type": "markdown",
   "metadata": {},
   "source": [
    "### <font color='darkgreen'>Solution, Part(a):</font>"
   ]
  },
  {
   "cell_type": "code",
   "execution_count": 3,
   "metadata": {},
   "outputs": [],
   "source": [
    "#lab 4 notebook\n",
    "\n",
    "# read in data, assign all rows/all columns except last to data_x & all rows/last-column-only to data_y\n",
    "data = np.loadtxt('datasets/dataset_1.txt', delimiter=',', skiprows=1)\n",
    "data_x = data[:, :-1]\n",
    "data_y = data[:, -1]"
   ]
  },
  {
   "cell_type": "code",
   "execution_count": 4,
   "metadata": {},
   "outputs": [
    {
     "data": {
      "text/html": [
       "<div style=\"max-height:1000px;max-width:1500px;overflow:auto;\">\n",
       "<table border=\"1\" class=\"dataframe\">\n",
       "  <thead>\n",
       "    <tr style=\"text-align: right;\">\n",
       "      <th></th>\n",
       "      <th>x1</th>\n",
       "      <th>x2</th>\n",
       "      <th>x3</th>\n",
       "      <th>x4</th>\n",
       "      <th>x5</th>\n",
       "      <th>x6</th>\n",
       "      <th>x7</th>\n",
       "      <th>x8</th>\n",
       "      <th>x9</th>\n",
       "      <th>x10</th>\n",
       "      <th>y</th>\n",
       "    </tr>\n",
       "  </thead>\n",
       "  <tbody>\n",
       "    <tr>\n",
       "      <th>0</th>\n",
       "      <td> 0.96</td>\n",
       "      <td> 0.96</td>\n",
       "      <td> 0.96</td>\n",
       "      <td> 0.34</td>\n",
       "      <td> 0.52</td>\n",
       "      <td> 0.54</td>\n",
       "      <td> 0.44</td>\n",
       "      <td> 0.83</td>\n",
       "      <td> 0.15</td>\n",
       "      <td> 0.01</td>\n",
       "      <td> 0.29</td>\n",
       "    </tr>\n",
       "    <tr>\n",
       "      <th>1</th>\n",
       "      <td> 0.62</td>\n",
       "      <td> 0.62</td>\n",
       "      <td> 0.62</td>\n",
       "      <td> 0.29</td>\n",
       "      <td> 0.51</td>\n",
       "      <td> 0.50</td>\n",
       "      <td> 0.45</td>\n",
       "      <td> 0.91</td>\n",
       "      <td> 0.37</td>\n",
       "      <td> 0.44</td>\n",
       "      <td>-0.28</td>\n",
       "    </tr>\n",
       "    <tr>\n",
       "      <th>2</th>\n",
       "      <td> 1.00</td>\n",
       "      <td> 1.00</td>\n",
       "      <td> 1.00</td>\n",
       "      <td> 0.11</td>\n",
       "      <td> 0.10</td>\n",
       "      <td> 0.15</td>\n",
       "      <td> 0.14</td>\n",
       "      <td> 0.64</td>\n",
       "      <td> 0.54</td>\n",
       "      <td> 0.90</td>\n",
       "      <td>-0.51</td>\n",
       "    </tr>\n",
       "    <tr>\n",
       "      <th>3</th>\n",
       "      <td> 0.82</td>\n",
       "      <td> 0.82</td>\n",
       "      <td> 0.82</td>\n",
       "      <td> 0.20</td>\n",
       "      <td> 0.33</td>\n",
       "      <td> 0.36</td>\n",
       "      <td> 0.28</td>\n",
       "      <td> 0.11</td>\n",
       "      <td> 0.48</td>\n",
       "      <td> 0.26</td>\n",
       "      <td>-0.18</td>\n",
       "    </tr>\n",
       "    <tr>\n",
       "      <th>4</th>\n",
       "      <td> 0.30</td>\n",
       "      <td> 0.30</td>\n",
       "      <td> 0.30</td>\n",
       "      <td> 0.18</td>\n",
       "      <td> 0.27</td>\n",
       "      <td> 0.29</td>\n",
       "      <td> 0.26</td>\n",
       "      <td> 0.38</td>\n",
       "      <td> 0.74</td>\n",
       "      <td> 0.47</td>\n",
       "      <td>-0.63</td>\n",
       "    </tr>\n",
       "    <tr>\n",
       "      <th>5</th>\n",
       "      <td> 0.04</td>\n",
       "      <td> 0.04</td>\n",
       "      <td> 0.04</td>\n",
       "      <td> 0.34</td>\n",
       "      <td> 0.62</td>\n",
       "      <td> 0.57</td>\n",
       "      <td> 0.59</td>\n",
       "      <td> 0.65</td>\n",
       "      <td> 0.06</td>\n",
       "      <td> 0.56</td>\n",
       "      <td>-0.03</td>\n",
       "    </tr>\n",
       "    <tr>\n",
       "      <th>6</th>\n",
       "      <td> 0.55</td>\n",
       "      <td> 0.55</td>\n",
       "      <td> 0.55</td>\n",
       "      <td> 0.12</td>\n",
       "      <td> 0.11</td>\n",
       "      <td> 0.09</td>\n",
       "      <td> 0.11</td>\n",
       "      <td> 0.93</td>\n",
       "      <td> 0.12</td>\n",
       "      <td> 0.22</td>\n",
       "      <td> 0.30</td>\n",
       "    </tr>\n",
       "    <tr>\n",
       "      <th>7</th>\n",
       "      <td> 0.89</td>\n",
       "      <td> 0.89</td>\n",
       "      <td> 0.89</td>\n",
       "      <td> 0.28</td>\n",
       "      <td> 0.42</td>\n",
       "      <td> 0.35</td>\n",
       "      <td> 0.35</td>\n",
       "      <td> 0.59</td>\n",
       "      <td> 0.71</td>\n",
       "      <td> 0.89</td>\n",
       "      <td>-0.37</td>\n",
       "    </tr>\n",
       "    <tr>\n",
       "      <th>8</th>\n",
       "      <td> 0.74</td>\n",
       "      <td> 0.74</td>\n",
       "      <td> 0.74</td>\n",
       "      <td> 0.35</td>\n",
       "      <td> 0.50</td>\n",
       "      <td> 0.46</td>\n",
       "      <td> 0.47</td>\n",
       "      <td> 0.15</td>\n",
       "      <td> 0.75</td>\n",
       "      <td> 0.62</td>\n",
       "      <td>-0.58</td>\n",
       "    </tr>\n",
       "    <tr>\n",
       "      <th>9</th>\n",
       "      <td> 0.02</td>\n",
       "      <td> 0.02</td>\n",
       "      <td> 0.02</td>\n",
       "      <td> 0.09</td>\n",
       "      <td> 0.09</td>\n",
       "      <td> 0.08</td>\n",
       "      <td> 0.09</td>\n",
       "      <td> 0.30</td>\n",
       "      <td> 0.71</td>\n",
       "      <td> 0.87</td>\n",
       "      <td>-0.42</td>\n",
       "    </tr>\n",
       "  </tbody>\n",
       "</table>\n",
       "</div>"
      ],
      "text/plain": [
       "     x1    x2    x3    x4    x5    x6    x7    x8    x9   x10     y\n",
       "0  0.96  0.96  0.96  0.34  0.52  0.54  0.44  0.83  0.15  0.01  0.29\n",
       "1  0.62  0.62  0.62  0.29  0.51  0.50  0.45  0.91  0.37  0.44 -0.28\n",
       "2  1.00  1.00  1.00  0.11  0.10  0.15  0.14  0.64  0.54  0.90 -0.51\n",
       "3  0.82  0.82  0.82  0.20  0.33  0.36  0.28  0.11  0.48  0.26 -0.18\n",
       "4  0.30  0.30  0.30  0.18  0.27  0.29  0.26  0.38  0.74  0.47 -0.63\n",
       "5  0.04  0.04  0.04  0.34  0.62  0.57  0.59  0.65  0.06  0.56 -0.03\n",
       "6  0.55  0.55  0.55  0.12  0.11  0.09  0.11  0.93  0.12  0.22  0.30\n",
       "7  0.89  0.89  0.89  0.28  0.42  0.35  0.35  0.59  0.71  0.89 -0.37\n",
       "8  0.74  0.74  0.74  0.35  0.50  0.46  0.47  0.15  0.75  0.62 -0.58\n",
       "9  0.02  0.02  0.02  0.09  0.09  0.08  0.09  0.30  0.71  0.87 -0.42"
      ]
     },
     "execution_count": 4,
     "metadata": {},
     "output_type": "execute_result"
    }
   ],
   "source": [
    "#above hard to decipher visually and even as a dataframe it can be less than ideal\n",
    "# But rounding down the dataframe will help, in terms of reviewing by eye.\n",
    "# Since it is only 100 records, easy enough to re-load from scratch as a dataframe and just ignore the y column\n",
    "# Have the option to only load in 10 rows to begin with, but again .txt is small (& the df will be used later)\n",
    "data_df = pd.read_csv('datasets/dataset_1.txt', delimiter=',')\n",
    "data_df.apply(lambda v: np.round(v, 2)).head(10)\n"
   ]
  },
  {
   "cell_type": "markdown",
   "metadata": {},
   "source": [
    "#### By visually inspecting the data set, do find that some of the predictors are correlated amongst themselves?\n",
    "Among those sets that appear to be correlated:\n",
    "- positively & strongly: \n",
    "x1, x2, x3\n",
    "- positively, somewhat less strong:\n",
    "x5, x7\n",
    "- positively, less strong still, all four amongst themselves\n",
    "x4, x5, x6, x7 \n",
    "\n",
    "In theory could iterate through the data in pairwise fashion and display 5 or so records from each member of a pair, but given the next part below, this seems like overkill. And of course I'm only looking at the first 10 or so records, looking at more might cause everything to blur together though."
   ]
  },
  {
   "cell_type": "code",
   "execution_count": 5,
   "metadata": {
    "scrolled": true
   },
   "outputs": [
    {
     "name": "stdout",
     "output_type": "stream",
     "text": [
      "shape: (10L, 10L)\n"
     ]
    },
    {
     "data": {
      "text/html": [
       "<div style=\"max-height:1000px;max-width:1500px;overflow:auto;\">\n",
       "<table border=\"1\" class=\"dataframe\">\n",
       "  <thead>\n",
       "    <tr style=\"text-align: right;\">\n",
       "      <th></th>\n",
       "      <th>0</th>\n",
       "      <th>1</th>\n",
       "      <th>2</th>\n",
       "      <th>3</th>\n",
       "      <th>4</th>\n",
       "      <th>5</th>\n",
       "      <th>6</th>\n",
       "      <th>7</th>\n",
       "      <th>8</th>\n",
       "      <th>9</th>\n",
       "    </tr>\n",
       "  </thead>\n",
       "  <tbody>\n",
       "    <tr>\n",
       "      <th>0</th>\n",
       "      <td> 1.00</td>\n",
       "      <td> 1.00</td>\n",
       "      <td> 1.00</td>\n",
       "      <td>-0.19</td>\n",
       "      <td>-0.23</td>\n",
       "      <td>-0.22</td>\n",
       "      <td>-0.23</td>\n",
       "      <td>-0.05</td>\n",
       "      <td>-0.06</td>\n",
       "      <td> 0.05</td>\n",
       "    </tr>\n",
       "    <tr>\n",
       "      <th>1</th>\n",
       "      <td> 1.00</td>\n",
       "      <td> 1.00</td>\n",
       "      <td> 1.00</td>\n",
       "      <td>-0.19</td>\n",
       "      <td>-0.23</td>\n",
       "      <td>-0.22</td>\n",
       "      <td>-0.23</td>\n",
       "      <td>-0.05</td>\n",
       "      <td>-0.06</td>\n",
       "      <td> 0.05</td>\n",
       "    </tr>\n",
       "    <tr>\n",
       "      <th>2</th>\n",
       "      <td> 1.00</td>\n",
       "      <td> 1.00</td>\n",
       "      <td> 1.00</td>\n",
       "      <td>-0.19</td>\n",
       "      <td>-0.23</td>\n",
       "      <td>-0.22</td>\n",
       "      <td>-0.23</td>\n",
       "      <td>-0.05</td>\n",
       "      <td>-0.06</td>\n",
       "      <td> 0.05</td>\n",
       "    </tr>\n",
       "    <tr>\n",
       "      <th>3</th>\n",
       "      <td>-0.19</td>\n",
       "      <td>-0.19</td>\n",
       "      <td>-0.19</td>\n",
       "      <td> 1.00</td>\n",
       "      <td> 0.97</td>\n",
       "      <td> 0.96</td>\n",
       "      <td> 0.97</td>\n",
       "      <td> 0.06</td>\n",
       "      <td> 0.11</td>\n",
       "      <td>-0.01</td>\n",
       "    </tr>\n",
       "    <tr>\n",
       "      <th>4</th>\n",
       "      <td>-0.23</td>\n",
       "      <td>-0.23</td>\n",
       "      <td>-0.23</td>\n",
       "      <td> 0.97</td>\n",
       "      <td> 1.00</td>\n",
       "      <td> 0.98</td>\n",
       "      <td> 0.98</td>\n",
       "      <td> 0.08</td>\n",
       "      <td> 0.13</td>\n",
       "      <td>-0.01</td>\n",
       "    </tr>\n",
       "    <tr>\n",
       "      <th>5</th>\n",
       "      <td>-0.22</td>\n",
       "      <td>-0.22</td>\n",
       "      <td>-0.22</td>\n",
       "      <td> 0.96</td>\n",
       "      <td> 0.98</td>\n",
       "      <td> 1.00</td>\n",
       "      <td> 0.98</td>\n",
       "      <td> 0.08</td>\n",
       "      <td> 0.12</td>\n",
       "      <td>-0.02</td>\n",
       "    </tr>\n",
       "    <tr>\n",
       "      <th>6</th>\n",
       "      <td>-0.23</td>\n",
       "      <td>-0.23</td>\n",
       "      <td>-0.23</td>\n",
       "      <td> 0.97</td>\n",
       "      <td> 0.98</td>\n",
       "      <td> 0.98</td>\n",
       "      <td> 1.00</td>\n",
       "      <td> 0.07</td>\n",
       "      <td> 0.11</td>\n",
       "      <td>-0.02</td>\n",
       "    </tr>\n",
       "    <tr>\n",
       "      <th>7</th>\n",
       "      <td>-0.05</td>\n",
       "      <td>-0.05</td>\n",
       "      <td>-0.05</td>\n",
       "      <td> 0.06</td>\n",
       "      <td> 0.08</td>\n",
       "      <td> 0.08</td>\n",
       "      <td> 0.07</td>\n",
       "      <td> 1.00</td>\n",
       "      <td>-0.13</td>\n",
       "      <td> 0.05</td>\n",
       "    </tr>\n",
       "    <tr>\n",
       "      <th>8</th>\n",
       "      <td>-0.06</td>\n",
       "      <td>-0.06</td>\n",
       "      <td>-0.06</td>\n",
       "      <td> 0.11</td>\n",
       "      <td> 0.13</td>\n",
       "      <td> 0.12</td>\n",
       "      <td> 0.11</td>\n",
       "      <td>-0.13</td>\n",
       "      <td> 1.00</td>\n",
       "      <td> 0.01</td>\n",
       "    </tr>\n",
       "    <tr>\n",
       "      <th>9</th>\n",
       "      <td> 0.05</td>\n",
       "      <td> 0.05</td>\n",
       "      <td> 0.05</td>\n",
       "      <td>-0.01</td>\n",
       "      <td>-0.01</td>\n",
       "      <td>-0.02</td>\n",
       "      <td>-0.02</td>\n",
       "      <td> 0.05</td>\n",
       "      <td> 0.01</td>\n",
       "      <td> 1.00</td>\n",
       "    </tr>\n",
       "  </tbody>\n",
       "</table>\n",
       "</div>"
      ],
      "text/plain": [
       "      0     1     2     3     4     5     6     7     8     9\n",
       "0  1.00  1.00  1.00 -0.19 -0.23 -0.22 -0.23 -0.05 -0.06  0.05\n",
       "1  1.00  1.00  1.00 -0.19 -0.23 -0.22 -0.23 -0.05 -0.06  0.05\n",
       "2  1.00  1.00  1.00 -0.19 -0.23 -0.22 -0.23 -0.05 -0.06  0.05\n",
       "3 -0.19 -0.19 -0.19  1.00  0.97  0.96  0.97  0.06  0.11 -0.01\n",
       "4 -0.23 -0.23 -0.23  0.97  1.00  0.98  0.98  0.08  0.13 -0.01\n",
       "5 -0.22 -0.22 -0.22  0.96  0.98  1.00  0.98  0.08  0.12 -0.02\n",
       "6 -0.23 -0.23 -0.23  0.97  0.98  0.98  1.00  0.07  0.11 -0.02\n",
       "7 -0.05 -0.05 -0.05  0.06  0.08  0.08  0.07  1.00 -0.13  0.05\n",
       "8 -0.06 -0.06 -0.06  0.11  0.13  0.12  0.11 -0.13  1.00  0.01\n",
       "9  0.05  0.05  0.05 -0.01 -0.01 -0.02 -0.02  0.05  0.01  1.00"
      ]
     },
     "execution_count": 5,
     "metadata": {},
     "output_type": "execute_result"
    }
   ],
   "source": [
    "# Compute the cofficient of correlation between each pair of predictors, \n",
    "\n",
    "# np doc: Each row of x represents a variable, and each column a single observation of all those variables.\n",
    "corr = np.corrcoef(data_x.T)\n",
    "# confirm 10 x 10 as expected\n",
    "print 'shape:', corr.shape\n",
    "# for display, round for the same reason as with orig dataframe, makes it much easier to read\n",
    "pd.DataFrame(corr).apply(lambda v: np.round(v, 2))\n"
   ]
  },
  {
   "cell_type": "code",
   "execution_count": 6,
   "metadata": {},
   "outputs": [
    {
     "data": {
      "image/png": "[encoded data removed]",
      "text/plain": [
       "<matplotlib.figure.Figure at 0x1728e3c8>"
      ]
     },
     "metadata": {},
     "output_type": "display_data"
    }
   ],
   "source": [
    "# and visualize the matrix of correlation coefficients using a heat map. \n",
    "\n",
    "# my recollection is that in lab video prof said red was for strong correlation \n",
    "#  and blue for not correlated. But from what I can tell it should have been that blue was for \n",
    "#  negative correlation, and with default implementation the heatmap from the lab the red-blue\n",
    "#  color range was applied to the range of source data. The result was that the most negatively\n",
    "#  correlated values wound up as dark blue, even though that was only around -0.023 and not near -1.0.\n",
    "# So I attempted to reset the color range to be from -1 (blue, very negative correlation) to \n",
    "#  1 (red, very high positive correlation), with no correlation appearing as a foam-green. \n",
    "# Maybe I'm wrong but I'm sticking with it.\n",
    "# Of course the new color map has no effect on the 5 groupings and the essence of the exercise.\n",
    "\n",
    "fig, ax = plt.subplots(figsize=(10, 8))\n",
    "\n",
    "ax.set_yticks(np.arange(data.shape[0]), minor=False)\n",
    "ax.set_xticks(np.arange(data.shape[1]), minor=False)\n",
    "# set the range on the color map from -1 to 1\n",
    "pcm = ax.pcolor(corr, vmin=-1.,vmax=1.)\n",
    "ax.set_title('Heat Map of dataset_1.txt correlation matrix')\n",
    "\n",
    "cbar = fig.colorbar(pcm)\n",
    "cbar.set_label('correlation', rotation=270)\n",
    "\n",
    "plt.show()"
   ]
  },
  {
   "cell_type": "markdown",
   "metadata": {},
   "source": [
    "#### Do the predictors fall naturally into groups based on the correlation values?\n",
    "\n",
    "Yes, two groups (larger red squares, one in lower left & one in middle) that share high correlation, and then three standalone 'groups' with one predictor each (x8, x9, x10), that don't appear to be correlated with any other value."
   ]
  },
  {
   "cell_type": "markdown",
   "metadata": {},
   "source": [
    "#### If you were asked to select a minimal subset of predictors based on the correlation information in order to build a good regression model, how many predictors will you pick, and which ones will you choose?\n",
    "I would select 5 predictors, one from each group defined in the above heatmap visualization. For the non-correlated values that fall into their own groups, it would seem evident each of those (x8, x9, x10) would be included in this predictor set. For the remaining two values, I don't think that can be determined without running the numbers as it were, so I would only say that one of x1/x2/x3 and one of x4/x5/x6/x7 will be included."
   ]
  },
  {
   "cell_type": "markdown",
   "metadata": {},
   "source": [
    "------"
   ]
  },
  {
   "cell_type": "markdown",
   "metadata": {},
   "source": [
    "### Part (b): Selecting minimal subset of predictors\n",
    "\n",
    "- Apply the variable selection methods discussed in class to choose a minimal subset of predictors that yield high prediction accuracy:\n",
    "    \n",
    "    - Exhaustive search\n",
    "    \n",
    "    - Step-wise forward selection **or** Step-wise backward selection  \n",
    "\n",
    "&emsp;&nbsp;&nbsp; In each method, use the Bayesian Information Criterion (BIC) to choose the subset size.\n",
    "\n",
    "- Do the chosen subsets match the ones you picked using the correlation matrix you had visualized in Part (a)?\n",
    "\n",
    "**Note**: You may use the `statsmodels`'s `OLS` module to fit a linear regression model and evaluate BIC. You may **not** use library functions that implement variable selection."
   ]
  },
  {
   "cell_type": "markdown",
   "metadata": {},
   "source": [
    "### <font color='darkgreen'>Solution, Part(b):</font>"
   ]
  },
  {
   "cell_type": "code",
   "execution_count": 7,
   "metadata": {},
   "outputs": [
    {
     "name": "stdout",
     "output_type": "stream",
     "text": [
      "Best subset by exhaustive search, predictor index:\n",
      "[0, 5, 7, 8, 9]\n",
      "Corresponding predictor labels:\n",
      "x1, x6, x8, x9, x10\n"
     ]
    }
   ],
   "source": [
    "# Apply the variable selection methods to choose a minimal subset of predictors that yield high prediction accuracy\n",
    "# 1) Exhaustive search\n",
    "# use the Bayesian Information Criterion (BIC) to choose the subset size.\n",
    "\n",
    "# Lab 4 solution code, update with my variables, a little optimization here and there\n",
    "\n",
    "min_bic = 1e10 # set some initial large value for min BIC score\n",
    "best_subset = [] # best subset of predictors\n",
    "\n",
    "# Create all possible subsets of the set of 10 predictors\n",
    "predictor_set = set(xrange(10)) # predictor set = {0, 1, 2, 3, 4, 5, 6, 7, 8, 9}\n",
    "\n",
    "# Repeat for every possible size of subset, update size_k to be explicit size value\n",
    "for size_k in xrange(1, 11): \n",
    "    # Create all possible subsets of size 'size', \n",
    "    # using the 'combination' function from the 'itertools' library\n",
    "    subsets_of_size_k = it.combinations(predictor_set, size_k) \n",
    "    \n",
    "    max_r_squared = -1e10 # set some initial small value for max R^2 score\n",
    "    best_k_subset = [] # best subset of predictors of size k\n",
    "    \n",
    "    # Iterate over all subsets of our predictor set\n",
    "    for predictor_subset in subsets_of_size_k:    \n",
    "        # Use only a subset of predictors in the training data\n",
    "        x_subset = data_x[:, predictor_subset]\n",
    "\n",
    "        # Fit and evaluate R^2 -- not doing anything with model beyond R2, so chain for clarity\n",
    "        r_squared = OLS(data_y, x_subset).fit().rsquared\n",
    "        \n",
    "        # Update max R^2 and best predictor subset of size k\n",
    "        # If current predictor subset has a higher R^2 score than that of the best subset \n",
    "        # we've found so far, remember the current predictor subset as the best!\n",
    "        if(r_squared > max_r_squared): \n",
    "            max_r_squared = r_squared\n",
    "            best_k_subset = predictor_subset[:]\n",
    "                \n",
    "    # Use only the best subset of size k for the predictors\n",
    "    # all rows but only the columns/predictors that are 'best'\n",
    "    x_subset = data_x[:, best_k_subset]\n",
    "        \n",
    "    # Fit and evaluate BIC of the best subset of size k, chain again\n",
    "    bic = OLS(data_y, x_subset).fit().bic\n",
    "\n",
    "    # Update minimum BIC and best predictor subset\n",
    "    # If current predictor has a lower BIC score than that of the best subset \n",
    "    # we've found so far, remember the current predictor as the best!\n",
    "    if (bic < min_bic): \n",
    "        min_bic = bic\n",
    "        best_subset = best_k_subset[:]\n",
    "    \n",
    "print('Best subset by exhaustive search, predictor index:')\n",
    "print sorted(best_subset)\n",
    "print('Corresponding predictor labels:')\n",
    "print ', '.join(data_df.columns[list(sorted(best_subset))])"
   ]
  },
  {
   "cell_type": "code",
   "execution_count": 8,
   "metadata": {},
   "outputs": [
    {
     "name": "stdout",
     "output_type": "stream",
     "text": [
      "Step-wise forward subset selection, by index:\n",
      "[0, 5, 7, 8, 9]\n",
      "Corresponding predictor labels:\n",
      "x1, x6, x8, x9, x10\n"
     ]
    }
   ],
   "source": [
    "# Apply the variable selection methods to choose a minimal subset of predictors that yield high prediction accuracy\n",
    "# Step-wise forward selection or Step-wise backward selection\n",
    "# use the Bayesian Information Criterion (BIC) to choose the subset size.\n",
    "\n",
    "# going with step-wise forward selection\n",
    "# - at each step of increasing size, only include those subsets that include the predictors of the previous best-subset\n",
    "\n",
    "# Lab 4 solution notebook code below\n",
    "\n",
    "### Step-wise Forward Selection\n",
    "d = data_x.shape[1] # total no. of predictors\n",
    "\n",
    "# Keep track of current set of chosen predictors, and the remaining set of predictors\n",
    "current_predictors = [] \n",
    "remaining_predictors = range(d)\n",
    "\n",
    "# Set some initial large value for min BIC score for all possible subsets\n",
    "global_min_bic = 1e10 \n",
    "\n",
    "# Keep track of the best subset of predictors\n",
    "best_subset = [] \n",
    "# best_subset = collections.deque()\n",
    "\n",
    "# Iterate over all possible subset sizes, 0 predictors to d predictors\n",
    "for size in range(d): \n",
    "    max_r_squared = -1e10 # set some initial small value for max R^2\n",
    "    best_predictor = -1 # set some throwaway initial number for the best predictor to add\n",
    "    bic_with_best_predictor = 1e10 # set some initial large value for BIC score   \n",
    "        \n",
    "    # Iterate over all remaining predictors to find best predictor to add\n",
    "    for i in remaining_predictors:\n",
    "        # Make copy of current set of predictors\n",
    "        temp = current_predictors[:]\n",
    "        # Add predictor 'i'\n",
    "        temp.append(i)\n",
    "                                    \n",
    "        # Use only a subset of predictors in the training data\n",
    "        x_subset = data_x[:, temp]\n",
    "        \n",
    "        # Fit and evaluate R^2, some chaining, need results object below\n",
    "        results = OLS(data_y, x_subset).fit()\n",
    "        r_squared = results.rsquared\n",
    "\n",
    "        # Check if we get a higher R^2 value than than current max R^2, if so, update\n",
    "        if(r_squared > max_r_squared):\n",
    "            max_r_squared = r_squared\n",
    "            best_predictor = i\n",
    "            bic_with_best_predictor = results.bic\n",
    "    \n",
    "    # Remove best predictor from remaining list, and add best predictor to current list\n",
    "    remaining_predictors.remove(best_predictor)\n",
    "    current_predictors.append(best_predictor)\n",
    "    \n",
    "    # Check if BIC for with the predictor we just added is lower than \n",
    "    # the global minimum across all subset of predictors\n",
    "    if(bic_with_best_predictor < global_min_bic):\n",
    "        best_subset = current_predictors[:]\n",
    "        global_min_bic = bic_with_best_predictor\n",
    "    \n",
    "print 'Step-wise forward subset selection, by index:'\n",
    "print sorted(best_subset) \n",
    "print('Corresponding predictor labels:')\n",
    "print ', '.join(data_df.columns[list(sorted(best_subset))])"
   ]
  },
  {
   "cell_type": "markdown",
   "metadata": {},
   "source": [
    "#### Do the chosen subsets match the ones you picked using the correlation matrix you had visualized in Part (a)?  \n",
    "They do match, insofar as the initial visualization showed a breakdown into 5 general groupings of predictors, where the first two groups had multiple members that were highly correlated, and the predictors selected by both Exhaustive and Stepwise methods included a single member of each of those groups:\n",
    "- x1,x2,x3 correlation group => x1 selected  \n",
    "- x4,x5,x6,x7 correlation group => x6 selected  \n",
    "- remaining x8, x9, x10 predictors did not appear to be correlated with any other individual predictors and each was included in the best-predictor set\n"
   ]
  },
  {
   "cell_type": "markdown",
   "metadata": {},
   "source": [
    "### Part (c): Apply Lasso and Ridge regression\n",
    "\n",
    "- Apply Lasso regression with regularization parameter $\\lambda = 0.01$ and fit a regression model.\n",
    "\n",
    "    - Identify the predictors that are assigned non-zero coefficients. Do these correspond to  the correlation matrix in Part (a)?\n",
    "\n",
    "\n",
    "- Apply Ridge regression with regularization parameter $\\lambda = 0.01$ and fit a regression model.\n",
    "\n",
    "    - Is there a difference between the model parameters you obtain different and those obtained from Lasso regression? If so, explain why.\n",
    "\n",
    "    - Identify the predictors that are assigned non-zero coefficients. Do these correspond to  the correlation matrix in Part (a)?\n",
    "\n",
    "\n",
    "- Is there anything peculiar that you observe about the coefficients Ridge regression assigns to the first three predictors? Do you observe the same with Lasso regression? Give an explanation for your observation.\n",
    "\n",
    "**Note**: You may use the `statsmodels` or `sklearn` to perform Lasso and Ridge regression."
   ]
  },
  {
   "cell_type": "markdown",
   "metadata": {},
   "source": [
    "### <font color='darkgreen'>Solution, Part(c):</font>"
   ]
  },
  {
   "cell_type": "code",
   "execution_count": 9,
   "metadata": {},
   "outputs": [
    {
     "name": "stdout",
     "output_type": "stream",
     "text": [
      "data lengths x_train: 70, x_test: 30\n"
     ]
    }
   ],
   "source": [
    "# split data into train = 70% and test = 30%, set a seed via numpy, which seems to do the trick\n",
    "np.random.seed(109)\n",
    "x_train, x_test, y_train, y_test = sk_split(data_x, data_y, test_size=0.30)\n",
    "print 'data lengths x_train: {}, x_test: {}'.format(len(x_train), len(x_test))\n",
    "\n",
    "# Scale the data (Lecture 7 snippet)\n",
    "x_train = x_train / x_train.std(axis=0)\n",
    "x_test = x_test / x_test.std(axis=0)"
   ]
  },
  {
   "cell_type": "code",
   "execution_count": 10,
   "metadata": {},
   "outputs": [],
   "source": [
    "# helper function to display predictors and related coefficients in more visually interpretable manner\n",
    "# Input: \n",
    "#      columns -> n x 1d array column labels\n",
    "#      pred_idx -> array of index values to associate with column labels\n",
    "#      coeffs -> n x 1d array of coefficient values\n",
    "# Return: \n",
    "#      ridge_df -> dataframe of predictors, coefficients, & rounded coefficients to display\n",
    "\n",
    "def display_coeff_pretty(columns, pred_idx, coeffs):\n",
    "\n",
    "    # prep data for display in dataframe\n",
    "    coeff_as_row = coeffs.reshape(1, coeffs.shape[0])\n",
    "    # round to 6 places for display of 'true' values\n",
    "    coeff_as_row_rounded_6 = np.round(coeff_as_row, 6).astype(str)\n",
    "    # round to 1 place to more effectively display which predictors will have little effect\n",
    "    coeff_as_row_rounded_more = np.round(coeff_as_row, 2).astype(str)\n",
    "    # concat the rows horizontally\n",
    "    rows = np.concatenate((coeff_as_row_rounded_6, coeff_as_row_rounded_more))\n",
    "    ridge_df = pd.DataFrame(rows, columns=columns, index=['coeffs','rounded'])\n",
    "\n",
    "    return ridge_df\n"
   ]
  },
  {
   "cell_type": "code",
   "execution_count": 11,
   "metadata": {},
   "outputs": [
    {
     "name": "stderr",
     "output_type": "stream",
     "text": [
      "C:\\Anaconda\\lib\\site-packages\\sklearn\\linear_model\\base.py:400: FutureWarning: elementwise comparison failed; returning scalar instead, but in the future will perform elementwise comparison\n",
      "  if precompute == 'auto':\n"
     ]
    }
   ],
   "source": [
    "# Apply Lasso regression with regularization parameter alpha=0.01 and fit a regression model.\n",
    "reg_lasso = Lasso_Reg(alpha = 0.01)\n",
    "reg_lasso.fit(x_train, y_train)\n",
    "coeff_lasso = reg_lasso.coef_"
   ]
  },
  {
   "cell_type": "code",
   "execution_count": 12,
   "metadata": {},
   "outputs": [
    {
     "name": "stdout",
     "output_type": "stream",
     "text": [
      "Lasso:\n",
      "Coefficients (all): [  1.72161146e-02   1.58603289e-18   9.67480064e-17  -0.00000000e+00\n",
      "  -3.47642184e-02  -0.00000000e+00  -0.00000000e+00   5.05753664e-02\n",
      "  -1.42203987e-01  -9.58932148e-02]\n",
      "Selected predictors: [  1.72161146e-02   1.58603289e-18   9.67480064e-17  -3.47642184e-02\n",
      "   5.05753664e-02  -1.42203987e-01  -9.58932148e-02]\n",
      "Lasso Regression: R^2 score on training set 0.645759271171\n",
      "Lasso Regression: R^2 score on test set 0.533404814981\n",
      "\n",
      "coefficients display shows that though x2 & x3 were included, their coefficients are very small\n"
     ]
    },
    {
     "data": {
      "text/html": [
       "<div style=\"max-height:1000px;max-width:1500px;overflow:auto;\">\n",
       "<table border=\"1\" class=\"dataframe\">\n",
       "  <thead>\n",
       "    <tr style=\"text-align: right;\">\n",
       "      <th></th>\n",
       "      <th>x1</th>\n",
       "      <th>x2</th>\n",
       "      <th>x3</th>\n",
       "      <th>x5</th>\n",
       "      <th>x8</th>\n",
       "      <th>x9</th>\n",
       "      <th>x10</th>\n",
       "    </tr>\n",
       "  </thead>\n",
       "  <tbody>\n",
       "    <tr>\n",
       "      <th>coeffs</th>\n",
       "      <td> 0.017216</td>\n",
       "      <td> 0.0</td>\n",
       "      <td> 0.0</td>\n",
       "      <td> -0.034764</td>\n",
       "      <td> 0.050575</td>\n",
       "      <td> -0.142204</td>\n",
       "      <td> -0.095893</td>\n",
       "    </tr>\n",
       "    <tr>\n",
       "      <th>rounded</th>\n",
       "      <td>     0.02</td>\n",
       "      <td> 0.0</td>\n",
       "      <td> 0.0</td>\n",
       "      <td>     -0.03</td>\n",
       "      <td>     0.05</td>\n",
       "      <td>     -0.14</td>\n",
       "      <td>      -0.1</td>\n",
       "    </tr>\n",
       "  </tbody>\n",
       "</table>\n",
       "</div>"
      ],
      "text/plain": [
       "               x1   x2   x3         x5        x8         x9        x10\n",
       "coeffs   0.017216  0.0  0.0  -0.034764  0.050575  -0.142204  -0.095893\n",
       "rounded      0.02  0.0  0.0      -0.03      0.05      -0.14       -0.1"
      ]
     },
     "execution_count": 12,
     "metadata": {},
     "output_type": "execute_result"
    }
   ],
   "source": [
    "# Lasso regression:\n",
    "# Identify the predictors that are assigned non-zero coefficients. \n",
    "\n",
    "# Lec07 code snippet base\n",
    "\n",
    "# eliminate any predictors that are effectively zero\n",
    "non_zero = [[i, value] for i, value in enumerate(coeff_lasso) if abs(value) > 0]\n",
    "# put the indices of the predictors into one array and the related coeff values into another\n",
    "pred_idx_lasso, coeff_lasso_non_zero = [np.array(t) for t in zip(*non_zero)]\n",
    "\n",
    "print 'Lasso:'\n",
    "print 'Coefficients (all):', coeff_lasso\n",
    "print  'Selected predictors:', coeff_lasso_non_zero  \n",
    "print 'Lasso Regression: R^2 score on training set', reg_lasso.score(x_train,y_train)\n",
    "print 'Lasso Regression: R^2 score on test set', reg_lasso.score(x_test,y_test)\n",
    "\n",
    "print \n",
    "print 'coefficients display shows that though x2 & x3 were included, their coefficients are very small'\n",
    "predictor_columns_lasso = data_df.columns.values[pred_idx_lasso]\n",
    "display_coeff_pretty(predictor_columns_lasso, pred_idx_lasso, coeff_lasso_non_zero)\n"
   ]
  },
  {
   "cell_type": "markdown",
   "metadata": {},
   "source": [
    "#### Do these correspond to the correlation matrix in Part (a)?\n",
    "\n",
    "Correlation matrix revealed that one predictor within each of five groupings of predictors should be returned (and then both Exhaustive and Forward Stepwise specified a predictor subset = x1, x6, x8, x9, x10). The main difference of correlation matrix vs. the Lasso results are that latter (above) returned two predictors within the first correlated subset of  x1/x2/x3, instead of only only x1. But as noted, the x2 & x3 coefficients are close to zero.  \n",
    "In fact, below snippet shows what happens if numpy's isclose() function is used instead of an absolute check vs. zero. With isclose() we wind up with only one member from each of those original heatmap groupings."
   ]
  },
  {
   "cell_type": "code",
   "execution_count": 13,
   "metadata": {},
   "outputs": [
    {
     "name": "stdout",
     "output_type": "stream",
     "text": [
      "using numpys isclose(value, 0)\n"
     ]
    },
    {
     "data": {
      "text/html": [
       "<div style=\"max-height:1000px;max-width:1500px;overflow:auto;\">\n",
       "<table border=\"1\" class=\"dataframe\">\n",
       "  <thead>\n",
       "    <tr style=\"text-align: right;\">\n",
       "      <th></th>\n",
       "      <th>x1</th>\n",
       "      <th>x5</th>\n",
       "      <th>x8</th>\n",
       "      <th>x9</th>\n",
       "      <th>x10</th>\n",
       "    </tr>\n",
       "  </thead>\n",
       "  <tbody>\n",
       "    <tr>\n",
       "      <th>coeffs</th>\n",
       "      <td> 0.017216</td>\n",
       "      <td> -0.034764</td>\n",
       "      <td> 0.050575</td>\n",
       "      <td> -0.142204</td>\n",
       "      <td> -0.095893</td>\n",
       "    </tr>\n",
       "    <tr>\n",
       "      <th>rounded</th>\n",
       "      <td>     0.02</td>\n",
       "      <td>     -0.03</td>\n",
       "      <td>     0.05</td>\n",
       "      <td>     -0.14</td>\n",
       "      <td>      -0.1</td>\n",
       "    </tr>\n",
       "  </tbody>\n",
       "</table>\n",
       "</div>"
      ],
      "text/plain": [
       "               x1         x5        x8         x9        x10\n",
       "coeffs   0.017216  -0.034764  0.050575  -0.142204  -0.095893\n",
       "rounded      0.02      -0.03      0.05      -0.14       -0.1"
      ]
     },
     "execution_count": 13,
     "metadata": {},
     "output_type": "execute_result"
    }
   ],
   "source": [
    "\n",
    "non_close_zero = [[i, value] for i, value in enumerate(coeff_lasso) if not np.isclose(value, 0)]\n",
    "pred_idx_lasso, coeff_lasso_non_zero = [np.array(t) for t in zip(*non_close_zero)]\n",
    "\n",
    "print 'using numpy''s isclose(value, 0)'\n",
    "predictor_columns_lasso = data_df.columns.values[pred_idx_lasso]\n",
    "display_coeff_pretty(predictor_columns_lasso, pred_idx_lasso, coeff_lasso_non_zero)\n"
   ]
  },
  {
   "cell_type": "markdown",
   "metadata": {},
   "source": [
    "-----"
   ]
  },
  {
   "cell_type": "code",
   "execution_count": 14,
   "metadata": {},
   "outputs": [],
   "source": [
    "# Apply Ridge regression with regularization parameter alpha=0.01 and fit a regression model.\n",
    "\n",
    "# Ridge regression: Fit and evaluate, \n",
    "reg_ridge = Ridge_Reg(alpha = 0.01)\n",
    "reg_ridge.fit(x_train, y_train)\n",
    "coeff_ridge = reg_ridge.coef_\n"
   ]
  },
  {
   "cell_type": "code",
   "execution_count": 15,
   "metadata": {},
   "outputs": [
    {
     "name": "stdout",
     "output_type": "stream",
     "text": [
      "Ridge:\n",
      "Coefficients: [ 0.00926105  0.00926105  0.00926105  0.06364109 -0.1259781  -0.08673647\n",
      "  0.10253154  0.06953109 -0.14283312 -0.10862005]\n",
      "Selected predictors by index: [0 4 7 8 9]\n",
      "Ridge(alpha=0.01, copy_X=True, fit_intercept=True, max_iter=None,\n",
      "   normalize=False, solver='auto', tol=0.001)\n",
      "Ridge Regression: R^2 score on training set 0.662856894424\n",
      "Ridge Regression: R^2 score on test set 0.523700757647\n",
      "\n",
      "Ridge regression - coefficients are shrunk toward zero but wont be eliminated entirely\n"
     ]
    },
    {
     "data": {
      "text/html": [
       "<div style=\"max-height:1000px;max-width:1500px;overflow:auto;\">\n",
       "<table border=\"1\" class=\"dataframe\">\n",
       "  <thead>\n",
       "    <tr style=\"text-align: right;\">\n",
       "      <th></th>\n",
       "      <th>x1</th>\n",
       "      <th>x2</th>\n",
       "      <th>x3</th>\n",
       "      <th>x4</th>\n",
       "      <th>x5</th>\n",
       "      <th>x6</th>\n",
       "      <th>x7</th>\n",
       "      <th>x8</th>\n",
       "      <th>x9</th>\n",
       "      <th>x10</th>\n",
       "    </tr>\n",
       "  </thead>\n",
       "  <tbody>\n",
       "    <tr>\n",
       "      <th>coeffs</th>\n",
       "      <td> 0.009261</td>\n",
       "      <td> 0.009261</td>\n",
       "      <td> 0.009261</td>\n",
       "      <td> 0.063641</td>\n",
       "      <td> -0.125978</td>\n",
       "      <td> -0.086736</td>\n",
       "      <td> 0.102532</td>\n",
       "      <td> 0.069531</td>\n",
       "      <td> -0.142833</td>\n",
       "      <td> -0.10862</td>\n",
       "    </tr>\n",
       "    <tr>\n",
       "      <th>rounded</th>\n",
       "      <td>     0.01</td>\n",
       "      <td>     0.01</td>\n",
       "      <td>     0.01</td>\n",
       "      <td>     0.06</td>\n",
       "      <td>     -0.13</td>\n",
       "      <td>     -0.09</td>\n",
       "      <td>      0.1</td>\n",
       "      <td>     0.07</td>\n",
       "      <td>     -0.14</td>\n",
       "      <td>    -0.11</td>\n",
       "    </tr>\n",
       "  </tbody>\n",
       "</table>\n",
       "</div>"
      ],
      "text/plain": [
       "               x1        x2        x3        x4         x5         x6  \\\n",
       "coeffs   0.009261  0.009261  0.009261  0.063641  -0.125978  -0.086736   \n",
       "rounded      0.01      0.01      0.01      0.06      -0.13      -0.09   \n",
       "\n",
       "               x7        x8         x9       x10  \n",
       "coeffs   0.102532  0.069531  -0.142833  -0.10862  \n",
       "rounded       0.1      0.07      -0.14     -0.11  "
      ]
     },
     "execution_count": 15,
     "metadata": {},
     "output_type": "execute_result"
    }
   ],
   "source": [
    "# Identify the predictors that are assigned non-zero coefficients.\n",
    "\n",
    "# Lec07 code snippet base\n",
    "\n",
    "# Ridge regression, so below shouldn't actually have any effect, predictors are shrunk toward zero but don't disappear\n",
    "pred_idx_ridge = [i for i, item in enumerate(coeff_ridge) if abs(item) > 0]\n",
    "# note that no predictors drop out w/np.isclose()\n",
    "# pred_idx_ridge = [i for i, item in enumerate(coeff_ridge) if not np.isclose(item, 0)]\n",
    "\n",
    "print 'Ridge:'\n",
    "print 'Coefficients:', coeff_ridge\n",
    "print 'Selected predictors by index:', pred_idx_lasso  \n",
    "print reg_ridge\n",
    "print 'Ridge Regression: R^2 score on training set', reg_ridge.score(x_train,y_train)\n",
    "print 'Ridge Regression: R^2 score on test set', reg_ridge.score(x_test,y_test)\n",
    "\n",
    "print \n",
    "print 'Ridge regression - coefficients are shrunk toward zero but won''t be eliminated entirely'\n",
    "predictor_columns_ridge = data_df.columns.values[pred_idx_ridge]\n",
    "display_coeff_pretty(predictor_columns_ridge, pred_idx_ridge, coeff_ridge)\n"
   ]
  },
  {
   "cell_type": "markdown",
   "metadata": {},
   "source": [
    "#### Ridge regression:\n",
    "- Is there a difference between the model parameters you obtain different and those obtained from Lasso regression? \n",
    "- If so, explain why.\n",
    "\n",
    "The variables themselves are different, because in Lasso some coefficient values were shrunk all the way to zero, resulting in some variables no longer appearing in the coefficients. So Ridge shrinks the coefficient values down, but not to zero, and all 10 predictors remain in the model. Lasso only had x1, x5, x8, x9, x10 once the np.isclose() filter was applied. Even beyond that, the coefficient values that do remain in Lasso are a bit larger than the coefficients for the same predictors in Ridge set, as the shrinkage was more extreme.\n"
   ]
  },
  {
   "cell_type": "markdown",
   "metadata": {},
   "source": [
    "#### Ridge regression:\n",
    "- Identify the predictors that are assigned non-zero coefficients. Do these correspond to the correlation matrix in Part (a)?\n",
    "\n",
    "Ridge regression does not result in variable selection, so all of the predictors remain, with non-zero coefficient values. It can't really be said whether or not they correspond to the correlation matrix. It is of course suspicious that x1/x2/x3 all share the same coefficients but looking only at the results it would be hard to draw any conclusions purely vis a vis the correlation matrix.\n"
   ]
  },
  {
   "cell_type": "markdown",
   "metadata": {},
   "source": [
    "#### Is there anything peculiar that you observe about the coefficients Ridge regression assigns to the first three predictors? Do you observe the same with Lasso regression? Give an explanation for your observation.\n",
    "\n",
    "Ridge assigns the same coefficient, 0.009261, to the first three predictors, which per the snippet in cell below, have the exact same value for all rows. Lasso though, in either of my coefficient interpretations (remove non-zero values & remove near-zero values), essentially winds up with only x1 as a final predictor, x2 & x3 are removed as their coefficients are assigned a zero value. \n",
    "Since the three predictors are all the same, and Ridge is constrained from removing any of them, it makes sense that they would all be weigthed the same. In Lasso, highly correlated predictors will be pared such that only one member remains in the model.\n"
   ]
  },
  {
   "cell_type": "code",
   "execution_count": 16,
   "metadata": {},
   "outputs": [
    {
     "name": "stdout",
     "output_type": "stream",
     "text": [
      "100\n",
      "100\n",
      "True\n"
     ]
    }
   ],
   "source": [
    "# confirm values in first three predictors are the same througout\n",
    "all_data = np.concatenate((x_train, x_test), axis=0)\n",
    "# all rows = 100 rows\n",
    "print all_data[:,0].shape[0]\n",
    "# all rows where col 0 == col 1 and col 1 == 2 = 100, i.e. columns 0/1/2 have all the same values\n",
    "print all_data[(all_data[:,0]==all_data[:,1]) & (all_data[:,1]==all_data[:,2])].shape[0]\n",
    "# same effect but in one line\n",
    "print np.all(all_data[(all_data[:,0]==all_data[:,1]) & (all_data[:,1]==all_data[:,2])])\n",
    "\n"
   ]
  },
  {
   "cell_type": "markdown",
   "metadata": {},
   "source": [
    "## Problem 2: Cross-validation and Bootstrapping\n",
    "In this problem, you will work with an expanded version of the automobile pricing data set you analyzed in Homework 3. The data set is contained ``dataset_2.txt``, with 26 attribues (i.e. predictors) for each automobile and corresponding prices. \n",
    "\n",
    "### Part(a): Encode categorical attributes and fill missing values\n",
    "Identify the categorical attributes in the data. Replace their values with the one-hot binary encoding. You may do this using the `get_dummies()` function in `pandas`. If you do this task correctly, you should get a total of 69 predictors after the encoding.\n"
   ]
  },
  {
   "cell_type": "markdown",
   "metadata": {},
   "source": [
    "### <font color='darkgreen'>Solution, Part(a):</font>"
   ]
  },
  {
   "cell_type": "code",
   "execution_count": 17,
   "metadata": {},
   "outputs": [
    {
     "data": {
      "text/html": [
       "<div style=\"max-height:1000px;max-width:1500px;overflow:auto;\">\n",
       "<table border=\"1\" class=\"dataframe\">\n",
       "  <thead>\n",
       "    <tr style=\"text-align: right;\">\n",
       "      <th></th>\n",
       "      <th>horsepower</th>\n",
       "      <th>highway-mpg</th>\n",
       "      <th>symboling</th>\n",
       "      <th>normalized-losses</th>\n",
       "      <th>make</th>\n",
       "      <th>fuel-type</th>\n",
       "      <th>aspiration</th>\n",
       "      <th>num-of-doors</th>\n",
       "      <th>body-style</th>\n",
       "      <th>drive-wheels</th>\n",
       "      <th>...</th>\n",
       "      <th>engine-type</th>\n",
       "      <th>num-of-cylinders</th>\n",
       "      <th>engine-size</th>\n",
       "      <th>fuel-system</th>\n",
       "      <th>bore</th>\n",
       "      <th>stroke</th>\n",
       "      <th>compression-ratio</th>\n",
       "      <th>peak-rpm</th>\n",
       "      <th>city-mpg</th>\n",
       "      <th>price</th>\n",
       "    </tr>\n",
       "  </thead>\n",
       "  <tbody>\n",
       "    <tr>\n",
       "      <th>0</th>\n",
       "      <td>  95</td>\n",
       "      <td> 24</td>\n",
       "      <td> 0</td>\n",
       "      <td> 120.232558</td>\n",
       "      <td>        peugot</td>\n",
       "      <td> gas</td>\n",
       "      <td>   std</td>\n",
       "      <td> four</td>\n",
       "      <td>   wagon</td>\n",
       "      <td> rwd</td>\n",
       "      <td>...</td>\n",
       "      <td>    l</td>\n",
       "      <td>  four</td>\n",
       "      <td> 120</td>\n",
       "      <td> mpfi</td>\n",
       "      <td> 3.46</td>\n",
       "      <td> 2.19</td>\n",
       "      <td> 8.4</td>\n",
       "      <td> 5000</td>\n",
       "      <td> 19</td>\n",
       "      <td> 16695</td>\n",
       "    </tr>\n",
       "    <tr>\n",
       "      <th>1</th>\n",
       "      <td> 116</td>\n",
       "      <td> 30</td>\n",
       "      <td> 2</td>\n",
       "      <td> 134.000000</td>\n",
       "      <td>        toyota</td>\n",
       "      <td> gas</td>\n",
       "      <td>   std</td>\n",
       "      <td>  two</td>\n",
       "      <td> hardtop</td>\n",
       "      <td> rwd</td>\n",
       "      <td>...</td>\n",
       "      <td>  ohc</td>\n",
       "      <td>  four</td>\n",
       "      <td> 146</td>\n",
       "      <td> mpfi</td>\n",
       "      <td> 3.62</td>\n",
       "      <td> 3.50</td>\n",
       "      <td> 9.3</td>\n",
       "      <td> 4800</td>\n",
       "      <td> 24</td>\n",
       "      <td> 11199</td>\n",
       "    </tr>\n",
       "    <tr>\n",
       "      <th>2</th>\n",
       "      <td> 121</td>\n",
       "      <td> 28</td>\n",
       "      <td> 0</td>\n",
       "      <td> 188.000000</td>\n",
       "      <td>           bmw</td>\n",
       "      <td> gas</td>\n",
       "      <td>   std</td>\n",
       "      <td>  two</td>\n",
       "      <td>   sedan</td>\n",
       "      <td> rwd</td>\n",
       "      <td>...</td>\n",
       "      <td>  ohc</td>\n",
       "      <td>   six</td>\n",
       "      <td> 164</td>\n",
       "      <td> mpfi</td>\n",
       "      <td> 3.31</td>\n",
       "      <td> 3.19</td>\n",
       "      <td> 9.0</td>\n",
       "      <td> 4250</td>\n",
       "      <td> 21</td>\n",
       "      <td> 20970</td>\n",
       "    </tr>\n",
       "    <tr>\n",
       "      <th>3</th>\n",
       "      <td> 184</td>\n",
       "      <td> 16</td>\n",
       "      <td> 0</td>\n",
       "      <td> 120.232558</td>\n",
       "      <td> mercedes-benz</td>\n",
       "      <td> gas</td>\n",
       "      <td>   std</td>\n",
       "      <td> four</td>\n",
       "      <td>   sedan</td>\n",
       "      <td> rwd</td>\n",
       "      <td>...</td>\n",
       "      <td> ohcv</td>\n",
       "      <td> eight</td>\n",
       "      <td> 308</td>\n",
       "      <td> mpfi</td>\n",
       "      <td> 3.80</td>\n",
       "      <td> 3.35</td>\n",
       "      <td> 8.0</td>\n",
       "      <td> 4500</td>\n",
       "      <td> 14</td>\n",
       "      <td> 40960</td>\n",
       "    </tr>\n",
       "    <tr>\n",
       "      <th>4</th>\n",
       "      <td> 111</td>\n",
       "      <td> 29</td>\n",
       "      <td> 0</td>\n",
       "      <td> 102.000000</td>\n",
       "      <td>        subaru</td>\n",
       "      <td> gas</td>\n",
       "      <td> turbo</td>\n",
       "      <td> four</td>\n",
       "      <td>   sedan</td>\n",
       "      <td> 4wd</td>\n",
       "      <td>...</td>\n",
       "      <td> ohcf</td>\n",
       "      <td>  four</td>\n",
       "      <td> 108</td>\n",
       "      <td> mpfi</td>\n",
       "      <td> 3.62</td>\n",
       "      <td> 2.64</td>\n",
       "      <td> 7.7</td>\n",
       "      <td> 4800</td>\n",
       "      <td> 24</td>\n",
       "      <td> 11259</td>\n",
       "    </tr>\n",
       "  </tbody>\n",
       "</table>\n",
       "<p>5 rows × 26 columns</p>\n",
       "</div>"
      ],
      "text/plain": [
       "   horsepower  highway-mpg  symboling  normalized-losses           make  \\\n",
       "0          95           24          0         120.232558         peugot   \n",
       "1         116           30          2         134.000000         toyota   \n",
       "2         121           28          0         188.000000            bmw   \n",
       "3         184           16          0         120.232558  mercedes-benz   \n",
       "4         111           29          0         102.000000         subaru   \n",
       "\n",
       "  fuel-type aspiration num-of-doors body-style drive-wheels  ...    \\\n",
       "0       gas        std         four      wagon          rwd  ...     \n",
       "1       gas        std          two    hardtop          rwd  ...     \n",
       "2       gas        std          two      sedan          rwd  ...     \n",
       "3       gas        std         four      sedan          rwd  ...     \n",
       "4       gas      turbo         four      sedan          4wd  ...     \n",
       "\n",
       "  engine-type  num-of-cylinders  engine-size  fuel-system  bore  stroke  \\\n",
       "0           l              four          120         mpfi  3.46    2.19   \n",
       "1         ohc              four          146         mpfi  3.62    3.50   \n",
       "2         ohc               six          164         mpfi  3.31    3.19   \n",
       "3        ohcv             eight          308         mpfi  3.80    3.35   \n",
       "4        ohcf              four          108         mpfi  3.62    2.64   \n",
       "\n",
       "  compression-ratio peak-rpm  city-mpg  price  \n",
       "0               8.4     5000        19  16695  \n",
       "1               9.3     4800        24  11199  \n",
       "2               9.0     4250        21  20970  \n",
       "3               8.0     4500        14  40960  \n",
       "4               7.7     4800        24  11259  \n",
       "\n",
       "[5 rows x 26 columns]"
      ]
     },
     "execution_count": 17,
     "metadata": {},
     "output_type": "execute_result"
    }
   ],
   "source": [
    "# read and take a look at the data\n",
    "data = pd.read_csv('datasets/dataset_2.txt')\n",
    "data.head()"
   ]
  },
  {
   "cell_type": "code",
   "execution_count": 18,
   "metadata": {},
   "outputs": [],
   "source": [
    "# Identify the categorical attributes in the data.\n",
    "data_x = pd.DataFrame()\n",
    "\n",
    "# as in Lec 07 code, but get all columns except for last\n",
    "# Separate predictors and response, response, i.e. price, is in the last column\n",
    "x_df_orig = data.iloc[:,:-1]\n",
    "y_df = data.iloc[:,-1]\n",
    "\n",
    "d = np.shape(x_df_orig)[1] # no. of attributes\n"
   ]
  },
  {
   "cell_type": "code",
   "execution_count": 19,
   "metadata": {},
   "outputs": [
    {
     "data": {
      "text/html": [
       "<div style=\"max-height:1000px;max-width:1500px;overflow:auto;\">\n",
       "<table border=\"1\" class=\"dataframe\">\n",
       "  <thead>\n",
       "    <tr style=\"text-align: right;\">\n",
       "      <th></th>\n",
       "      <th>horsepower</th>\n",
       "      <th>highway-mpg</th>\n",
       "      <th>-2.0</th>\n",
       "      <th>0.0</th>\n",
       "      <th>1.0</th>\n",
       "      <th>1.09604519774</th>\n",
       "      <th>2.0</th>\n",
       "      <th>3.0</th>\n",
       "      <th>normalized-losses</th>\n",
       "      <th>audi</th>\n",
       "      <th>...</th>\n",
       "      <th>1bbl</th>\n",
       "      <th>2bbl</th>\n",
       "      <th>idi</th>\n",
       "      <th>mpfi</th>\n",
       "      <th>spdi</th>\n",
       "      <th>bore</th>\n",
       "      <th>stroke</th>\n",
       "      <th>compression-ratio</th>\n",
       "      <th>peak-rpm</th>\n",
       "      <th>city-mpg</th>\n",
       "    </tr>\n",
       "  </thead>\n",
       "  <tbody>\n",
       "    <tr>\n",
       "      <th>0</th>\n",
       "      <td>  95</td>\n",
       "      <td> 24</td>\n",
       "      <td> 0</td>\n",
       "      <td> 1</td>\n",
       "      <td> 0</td>\n",
       "      <td> 0</td>\n",
       "      <td> 0</td>\n",
       "      <td> 0</td>\n",
       "      <td> 120.232558</td>\n",
       "      <td> 0</td>\n",
       "      <td>...</td>\n",
       "      <td> 0</td>\n",
       "      <td> 0</td>\n",
       "      <td> 0</td>\n",
       "      <td> 1</td>\n",
       "      <td> 0</td>\n",
       "      <td> 3.46</td>\n",
       "      <td> 2.19</td>\n",
       "      <td> 8.4</td>\n",
       "      <td> 5000</td>\n",
       "      <td> 19</td>\n",
       "    </tr>\n",
       "    <tr>\n",
       "      <th>1</th>\n",
       "      <td> 116</td>\n",
       "      <td> 30</td>\n",
       "      <td> 0</td>\n",
       "      <td> 0</td>\n",
       "      <td> 0</td>\n",
       "      <td> 0</td>\n",
       "      <td> 1</td>\n",
       "      <td> 0</td>\n",
       "      <td> 134.000000</td>\n",
       "      <td> 0</td>\n",
       "      <td>...</td>\n",
       "      <td> 0</td>\n",
       "      <td> 0</td>\n",
       "      <td> 0</td>\n",
       "      <td> 1</td>\n",
       "      <td> 0</td>\n",
       "      <td> 3.62</td>\n",
       "      <td> 3.50</td>\n",
       "      <td> 9.3</td>\n",
       "      <td> 4800</td>\n",
       "      <td> 24</td>\n",
       "    </tr>\n",
       "    <tr>\n",
       "      <th>2</th>\n",
       "      <td> 121</td>\n",
       "      <td> 28</td>\n",
       "      <td> 0</td>\n",
       "      <td> 1</td>\n",
       "      <td> 0</td>\n",
       "      <td> 0</td>\n",
       "      <td> 0</td>\n",
       "      <td> 0</td>\n",
       "      <td> 188.000000</td>\n",
       "      <td> 0</td>\n",
       "      <td>...</td>\n",
       "      <td> 0</td>\n",
       "      <td> 0</td>\n",
       "      <td> 0</td>\n",
       "      <td> 1</td>\n",
       "      <td> 0</td>\n",
       "      <td> 3.31</td>\n",
       "      <td> 3.19</td>\n",
       "      <td> 9.0</td>\n",
       "      <td> 4250</td>\n",
       "      <td> 21</td>\n",
       "    </tr>\n",
       "    <tr>\n",
       "      <th>3</th>\n",
       "      <td> 184</td>\n",
       "      <td> 16</td>\n",
       "      <td> 0</td>\n",
       "      <td> 1</td>\n",
       "      <td> 0</td>\n",
       "      <td> 0</td>\n",
       "      <td> 0</td>\n",
       "      <td> 0</td>\n",
       "      <td> 120.232558</td>\n",
       "      <td> 0</td>\n",
       "      <td>...</td>\n",
       "      <td> 0</td>\n",
       "      <td> 0</td>\n",
       "      <td> 0</td>\n",
       "      <td> 1</td>\n",
       "      <td> 0</td>\n",
       "      <td> 3.80</td>\n",
       "      <td> 3.35</td>\n",
       "      <td> 8.0</td>\n",
       "      <td> 4500</td>\n",
       "      <td> 14</td>\n",
       "    </tr>\n",
       "    <tr>\n",
       "      <th>4</th>\n",
       "      <td> 111</td>\n",
       "      <td> 29</td>\n",
       "      <td> 0</td>\n",
       "      <td> 1</td>\n",
       "      <td> 0</td>\n",
       "      <td> 0</td>\n",
       "      <td> 0</td>\n",
       "      <td> 0</td>\n",
       "      <td> 102.000000</td>\n",
       "      <td> 0</td>\n",
       "      <td>...</td>\n",
       "      <td> 0</td>\n",
       "      <td> 0</td>\n",
       "      <td> 0</td>\n",
       "      <td> 1</td>\n",
       "      <td> 0</td>\n",
       "      <td> 3.62</td>\n",
       "      <td> 2.64</td>\n",
       "      <td> 7.7</td>\n",
       "      <td> 4800</td>\n",
       "      <td> 24</td>\n",
       "    </tr>\n",
       "  </tbody>\n",
       "</table>\n",
       "<p>5 rows × 69 columns</p>\n",
       "</div>"
      ],
      "text/plain": [
       "   horsepower  highway-mpg  -2.0  0.0  1.0  1.09604519774  2.0  3.0  \\\n",
       "0          95           24     0    1    0              0    0    0   \n",
       "1         116           30     0    0    0              0    1    0   \n",
       "2         121           28     0    1    0              0    0    0   \n",
       "3         184           16     0    1    0              0    0    0   \n",
       "4         111           29     0    1    0              0    0    0   \n",
       "\n",
       "   normalized-losses  audi    ...     1bbl  2bbl  idi  mpfi  spdi  bore  \\\n",
       "0         120.232558     0    ...        0     0    0     1     0  3.46   \n",
       "1         134.000000     0    ...        0     0    0     1     0  3.62   \n",
       "2         188.000000     0    ...        0     0    0     1     0  3.31   \n",
       "3         120.232558     0    ...        0     0    0     1     0  3.80   \n",
       "4         102.000000     0    ...        0     0    0     1     0  3.62   \n",
       "\n",
       "   stroke  compression-ratio  peak-rpm  city-mpg  \n",
       "0    2.19                8.4      5000        19  \n",
       "1    3.50                9.3      4800        24  \n",
       "2    3.19                9.0      4250        21  \n",
       "3    3.35                8.0      4500        14  \n",
       "4    2.64                7.7      4800        24  \n",
       "\n",
       "[5 rows x 69 columns]"
      ]
     },
     "execution_count": 19,
     "metadata": {},
     "output_type": "execute_result"
    }
   ],
   "source": [
    "# Replace their values with the one-hot binary encoding. You may do this using the get_dummies() function in pandas\n",
    "\n",
    "# Lec07 one-hot code, updated to look at # of unique values if numerical, then decide to treat as numerical vs. categorical\n",
    "x_df = pd.DataFrame()\n",
    "\n",
    "for column in x_df_orig.columns:\n",
    "\n",
    "    #  need to decide if a given predictor should be treated as categorical vs. numerical\n",
    "    treat_as_number = False\n",
    "    if(x_df_orig[column].dtype != np.dtype('object')):\n",
    "        # only if more than 6 unique values will the numerical value be treated as number (vs. categorical)\n",
    "        if (x_df_orig[column].nunique() > 6):\n",
    "            treat_as_number = True\n",
    "            treat_as_number = True\n",
    "            \n",
    "    if treat_as_number:\n",
    "        # if a regular numerical value, append column vertically\n",
    "        x_df = pd.concat([x_df, x_df_orig[column]], axis=1)\n",
    "    else:\n",
    "        encoding = pd.get_dummies(x_df_orig[column])  # Convert categorical variable into dummy/indicator variables\n",
    "        # append expanded attribute to data frame\n",
    "        x_df = pd.concat([x_df, encoding], axis=1)\n",
    "        \n",
    "x_df.head()"
   ]
  },
  {
   "cell_type": "code",
   "execution_count": 20,
   "metadata": {},
   "outputs": [
    {
     "name": "stdout",
     "output_type": "stream",
     "text": [
      "expected number of predictors 69, actual number: 69\n"
     ]
    }
   ],
   "source": [
    "# If you do this task correctly, you should get a total of 69 predictors after the encoding.\n",
    "print 'expected number of predictors 69, actual number: {}'.format(x_df.shape[1])\n"
   ]
  },
  {
   "cell_type": "markdown",
   "metadata": {},
   "source": [
    "### Part (b): Apply regular linear regression\n",
    "- Split the data set into train and test sets, with the first 25% of the data for training and the remaining for testing.  \n",
    "\n",
    "\n",
    "- Use regular linear regression to fit a model to the training set and evaluate the R^2 score of the fitted model on both the training and test sets. What do you observe about these values?\n",
    "\n",
    "\n",
    "- You had seen in class that the R^2 value of a least-squares fit to a data set would lie between 0 and 1. Is this true for the test R^2 values reported above? If not, give a reason for why this is the case.\n",
    "\n",
    "\n",
    "- Is there a need for regularization while fitting a linear model to this data set?\n",
    "\n",
    "**Note**: You may use the `statsmodels` or `sklearn` to fit a linear regression model and evaluate the fits."
   ]
  },
  {
   "cell_type": "markdown",
   "metadata": {},
   "source": [
    "### <font color='darkgreen'>Solution, Part(b):</font>"
   ]
  },
  {
   "cell_type": "code",
   "execution_count": 21,
   "metadata": {},
   "outputs": [
    {
     "name": "stdout",
     "output_type": "stream",
     "text": [
      "51 154\n"
     ]
    }
   ],
   "source": [
    "#Split the data set into train and test sets, with the first 25% of the data for training and the remaining for testing.\n",
    "\n",
    "# Lec 07 snippet for the split\n",
    "\n",
    "# Convert data frame to array\n",
    "x = x_df.values\n",
    "y = y_df.values\n",
    "\n",
    "# ii. SPLIT TRAIN AND TEST SETS\n",
    "# No. of training points\n",
    "n = x.shape[0]\n",
    "n_train = int(np.round(n*0.25))\n",
    "\n",
    "# First 25% train, remaining test\n",
    "x_train_orig = x[0:n_train,:]\n",
    "y_train = y[0:n_train]\n",
    "x_test_orig = x[n_train:,:]\n",
    "y_test = y[n_train:]\n",
    "\n",
    "print len(y_train), len(y_test)\n"
   ]
  },
  {
   "cell_type": "code",
   "execution_count": 22,
   "metadata": {},
   "outputs": [
    {
     "name": "stdout",
     "output_type": "stream",
     "text": [
      "Standard linear regression, train R^2: 1.0\n",
      "Standard linear regression, test R^2: -11.3050160524\n"
     ]
    }
   ],
   "source": [
    "#Use regular linear regression to fit a model to the training set and evaluate the R^2 score of the fitted model \n",
    "#  on both the training and test sets. \n",
    "\n",
    "# Scale the data, using sklearn scale() with_mean = False so that values are like those from formula in lecture\n",
    "# (*using .scale() in the first place to avoid divide-by-zero calc leading to Nan values)\n",
    "x_train = scale(x_train_orig, with_mean=False)\n",
    "x_test = scale(x_test_orig, with_mean=False)\n",
    "\n",
    "reg_std = Lin_Reg()\n",
    "reg_std.fit(x_train, y_train)\n",
    "\n",
    "train_r_squared_std = reg_std.score(x_train, y_train)\n",
    "test_r_squared_std = reg_std.score(x_test, y_test)\n",
    "\n",
    "print 'Standard linear regression, train R^2: {}'.format(train_r_squared_std)\n",
    "print 'Standard linear regression, test R^2: {}'.format(test_r_squared_std)\n"
   ]
  },
  {
   "cell_type": "markdown",
   "metadata": {},
   "source": [
    "#### What do you observe about these values?\n",
    "My train R<super>2</super> is 1.0, indicating a perfect fit (and that the model has very likely overfitted on the training set, making it a poor predictor on subsequent datasets).  \n",
    "The test R<super>2</super> is actually negative, indicating a very poor fit, unsurprising given the train score.\n"
   ]
  },
  {
   "cell_type": "markdown",
   "metadata": {},
   "source": [
    "#### You had seen in class that the R^2 value of a least-squares fit to a data set would lie between 0 and 1. Is this true for the test R^2 values reported above? If not, give a reason for why this is the case.\n",
    "\n",
    "No, the value I obtained was actually negative, outside of that specified that [0,1] range. \n",
    "\n",
    "We split 25% for training, instead of a more standard scenario where training set is 2 to 4 times as large as test. That split resulted in a dataset where p > n, i.e. ~51 observations in train, which is actually less than the number of predictors (69). When this happens there is no longer a unique OLS estimate and variance is very high (effectivley infinite per the textbook) and OLS should not be used at all.\n"
   ]
  },
  {
   "cell_type": "markdown",
   "metadata": {},
   "source": [
    "#### Is there a need for regularization while fitting a linear model to this data set? \n",
    "\n",
    "If the \"data set\" is to be considered this particular training data set then Yes. Regularization approaches such as Ridge & Lasso regression will result in minimizing certain coefficients (and in the case of Lasso removing entirely), which will restrict overfitting and thereby reduce variance.  \n",
    "If \"data set\" refers to all 205 observations, then there is a strong possibility that a split like 75% for training will allow the use of an OLS model and regularization will not be \"needed\". Even then though, regularization will likely be beneficial, both in terms of accuracty and interpretability (69 predictors will still be a lot considering only ~200 observations).\n"
   ]
  },
  {
   "cell_type": "markdown",
   "metadata": {},
   "source": [
    "### Part (c): Apply Ridge regression\n",
    "\n",
    "- Apply Ridge regression on the training set for different values of the regularization parameter $\\lambda$ in the range $\\{10^{-7}, 10^{-6}, \\ldots, 10^7\\}$. Evaluate the R^2 score for the models you obtain on both the train and test sets. Plot both values as a function of $\\lambda$. \n",
    "\n",
    "\n",
    "- Explain the relationship between the regularization parameter and the training and test R^2 scores.\n",
    "\n",
    "\n",
    "- How does the best test R^2 value obtained using Ridge regression compare with that of plain linear regression? Explain.\n",
    "\n",
    "**Note**: You may use the `statsmodels` or `sklearn` to fit a ridge regression model and evaluate the fits."
   ]
  },
  {
   "cell_type": "markdown",
   "metadata": {},
   "source": [
    "### <font color='darkgreen'>Solution, Part(c):</font>"
   ]
  },
  {
   "cell_type": "code",
   "execution_count": 23,
   "metadata": {},
   "outputs": [],
   "source": [
    "# Apply Ridge regression on the training set for different values of the regularization parameter lambda in range...\n",
    "\n",
    "# Lec07, mod for ridge-only\n",
    "# Run for different values of lambda \n",
    "def MyRidgeReg( x_train, x_test, lambda_min=-7, lambda_max=7, num_lambdas=1000):\n",
    "   \n",
    "    num_predictors = x_train.shape[1]\n",
    "    # chop up the range into num_lambdas values, high num_lambdas will significantly smooth the curves\n",
    "    #  and of course more exact possible lambda values\n",
    "    lambdas= np.linspace(lambda_min, lambda_max, num_lambdas)\n",
    "\n",
    "    train_r_squared = np.zeros(num_lambdas)\n",
    "    test_r_squared = np.zeros(num_lambdas)\n",
    "\n",
    "    coeff_a =np.zeros((num_lambdas, num_predictors))    \n",
    "    \n",
    "    for ind, i in enumerate(lambdas):    \n",
    "        # Fit ridge regression on train set\n",
    "        reg = Ridge_Reg(alpha = 10**i)\n",
    "        reg.fit(x_train, y_train)\n",
    "\n",
    "        coeff_a[ind,:] = reg.coef_\n",
    "        # Evaluate train & test performance\n",
    "        train_r_squared[ind] = reg.score(x_train, y_train)\n",
    "        test_r_squared[ind] = reg.score(x_test, y_test)\n",
    "    \n",
    "    return train_r_squared, test_r_squared, coeff_a, lambdas\n"
   ]
  },
  {
   "cell_type": "code",
   "execution_count": 24,
   "metadata": {},
   "outputs": [],
   "source": [
    "# mostly Lec07 code\n",
    "\n",
    "# remove test_r_squared_plain arg & references within function\n",
    "def PlotR2( lambdas, train_r_squared, test_r_squared):\n",
    "    # Plot train an test R-squared as a function parameter value\n",
    "    fig, ax = plt.subplots(1, 1, figsize=(12, 9))\n",
    "\n",
    "    ax.semilogx(10.0**lambdas, (train_r_squared), c='b', label='Ridge: Train')\n",
    "    ax.semilogx(10.0**lambdas, (test_r_squared), c='r', label='Ridge: Test')\n",
    "    ax.set_xlabel('Regularization parameter $\\lambda$')\n",
    "    ax.set_ylabel(r'$R^2$ score')\n",
    "\n",
    "    ax.legend(loc = 'best')\n",
    "\n",
    "    print 'Regression: max R^2 score on training set', np.max(train_r_squared)\n",
    "    print '  Achieved with lambda value: 10**{}'.format(lambdas[np.argmax(train_r_squared)])\n",
    "    print 'Regression: max R^2 score on test set', np.max(test_r_squared)\n",
    "    print '  Achieved with lambda value: 10**{}'.format(lambdas[np.argmax(test_r_squared)])\n",
    "    \n",
    "    reg = Lasso_Reg(alpha =lambdas[np.argmax(test_r_squared)])\n",
    "    reg.fit(x_train, y_train)\n",
    "    #coefficients = reg.coef_\n",
    "    #print coefficients\n",
    "    #print  'Selected predictors by index:', [i+1 for i, item in enumerate(coefficients) if abs(item) > 0]\n",
    "    plt.show()\n",
    "    "
   ]
  },
  {
   "cell_type": "code",
   "execution_count": 25,
   "metadata": {},
   "outputs": [
    {
     "name": "stdout",
     "output_type": "stream",
     "text": [
      "lambda Train R2   Test R2\n",
      "-7.00  1.0000   -14.9175\n",
      "-5.60  1.0000   -13.9719\n",
      "-4.20  1.0000    -3.7214\n",
      "-2.80  0.9998     0.3833\n",
      "-1.39  0.9994     0.8411\n",
      " 0.01  0.9965     0.8954\n",
      " 1.41  0.9804     0.8892\n",
      " 2.81  0.6271     0.5378\n",
      " 4.21  0.0557     0.0259\n",
      " 5.61  0.0023    -0.0205\n"
     ]
    }
   ],
   "source": [
    "# Evaluate the R^2 score for the models you obtain on both the train and test sets. \n",
    "\n",
    "train_r_squared, test_r_squared, coeff_a, lambdas = MyRidgeReg(x_train, x_test, num_lambdas=1000)\n",
    "\n",
    "print 'lambda Train R2   Test R2'\n",
    "for i in xrange(0,1000,100):\n",
    "    print '{0:>5.2f} {1:>7.4f} {2:>10.4f}'.format(lambdas[i], train_r_squared[i], test_r_squared[i])\n",
    "    "
   ]
  },
  {
   "cell_type": "code",
   "execution_count": 26,
   "metadata": {},
   "outputs": [
    {
     "name": "stdout",
     "output_type": "stream",
     "text": [
      "Regression: max R^2 score on training set 0.999999999666\n",
      "  Achieved with lambda value: 10**-7.0\n",
      "Regression: max R^2 score on test set 0.912388097506\n",
      "  Achieved with lambda value: 10**-0.67967967968\n"
     ]
    },
    {
     "data": {
      "image/png": "[encoded data removed]",
      "text/plain": [
       "<matplotlib.figure.Figure at 0x1722a438>"
      ]
     },
     "metadata": {},
     "output_type": "display_data"
    }
   ],
   "source": [
    "# Plot both values as a function of lambda\n",
    "PlotR2(lambdas, train_r_squared, test_r_squared)\n"
   ]
  },
  {
   "cell_type": "markdown",
   "metadata": {},
   "source": [
    "#### Explain the relationship between the regularization parameter and the training and test R^2 scores.\n",
    "For the training set, lambda parameters approaching zero have little effect, it is only as value increases past 10<sup>3</sup> that the R<sup>2</sup> starts to fall.  \n",
    "With the test set, R<sup>2</sup> is extremely poor at very small levels of lambda, where the model approaches that of an OLS and overfitting is very much happening. This is followed by a very rapid increase in the range from 10<sup>-6</sup> through 10<sup>-3</sup>. After that it still increases until it reaches it's maximum value around 10<sup>-0.68</sup>, levels off for a while in periods of increasing lambda, before dipping at around 10<sup>3</sup>.  \n",
    "The dip in both R<sup>2</sup> at 10<sup>2</sup> may be due to the influence of one or more predictors being greatly reduced - their coefficient set very close to zero as lambda increases.\n"
   ]
  },
  {
   "cell_type": "markdown",
   "metadata": {},
   "source": [
    "#### How does the best test R^2 value obtained using Ridge regression compare with that of plain linear regression? Explain.\n",
    "Using same train/test data, best R<sup>2</sup> under Ridge regression was about 0.9123880 while that of plain linear regression was ... rather lower at a highly negative -11.3050. It is notable that this R<sup>2</sup> value is what Ridge regression model outputs with a very low lambda of around 0.00001. Linear regression weights all of the coefficients at 100% while Ridge regression is able to greatly reduce the contribution that certain predictors make to the model - not dropping them but potentially reducing their effect by a large amount. Without the shrinkage Ridge regression introduces the model produced by OLS on this data set will always overfit due to number of predictors > number of observations, leading to practically infinite variance."
   ]
  },
  {
   "cell_type": "markdown",
   "metadata": {},
   "source": [
    "### Part (d): Tune regularization parameter using cross-validation and bootstrapping\n",
    "-  Evaluate the performance of the Ridge regression for different regularization parameters $\\lambda$ using 5-fold cross validation **or** bootstrapping on the training set. \n",
    "\n",
    "    - Plot the cross-validation (CV) or bootstrapping R^2 score as a function of $\\lambda$. \n",
    "    \n",
    "    - How closely does the CV score or bootstrapping score match the R^2 score on the test set? Does the model with lowest CV score or bootstrapping score correspond to the one with maximum R^2 on the test set?\n",
    "    \n",
    "    - Does the model chosen by CV or bootstrapping perform better than plain linear regression?\n",
    "\n",
    "**Note**: You may use the `statsmodels` or `sklearn` to fit a linear regression model and evaluate the fits. You may also use `kFold` from `sklearn.cross_validation`. "
   ]
  },
  {
   "cell_type": "markdown",
   "metadata": {},
   "source": [
    "### <font color='darkgreen'>Solution, Part(d):</font>"
   ]
  },
  {
   "cell_type": "code",
   "execution_count": 27,
   "metadata": {},
   "outputs": [],
   "source": [
    "# Evaluate the performance of the Ridge regression for diff regularization parameters lambda using 5-fold cross validation\n",
    "#   or bootstrapping on the training set.\n",
    "\n",
    "# going with bootstrap, some pieces of below from Lec06\n",
    "\n",
    "def bootstrap_performance(x_train, y_train, lambda_value):\n",
    "    # Size of the data set\n",
    "    n = x_train.shape[0]\n",
    "\n",
    "    # No. of subsamples\n",
    "    num_samples = 100\n",
    "\n",
    "    # Create a n  array to store coefficients for all subsamples\n",
    "    coefs_a = np.zeros((num_samples,  x_train.shape[1]))\n",
    "\n",
    "    # prep object for storing train info, not doing anything with test data\n",
    "    train_r_squared = np.zeros(num_samples)\n",
    "\n",
    "    for i in range(num_samples):\n",
    "\n",
    "        # Generate a random subsample of data points\n",
    "        # This is the bootstrap \n",
    "        perm =np.random.randint(low=0, high=n, size=n) # Generate a list of indices 0 to n and permute it\n",
    "        x_subsample = x_train[perm] \n",
    "        y_subsample = y_train[perm] \n",
    "        \n",
    "        reg = Ridge_Reg(alpha = 10**lambda_value)\n",
    "        reg.fit(x_subsample, y_subsample)\n",
    "        coeff_a[i,:] = reg.coef_\n",
    "\n",
    "        # Evaluate train performance - lab did bootstrap on the entire dataset\n",
    "        #  Here we are using using bootstrap on train, so makes sense to only look at the\n",
    "        #  R^2 on train (which a post on piazza appeared to confirm)\n",
    "        train_r_squared[i] = reg.score(x_train, y_train)\n",
    "        \n",
    "\n",
    "    # don't know which will be a better measure of the R^2s generated by all of the subsamples, store both\n",
    "    train_r_squared_avg = np.mean(train_r_squared)\n",
    "    train_r_squared_mdn = np.median(train_r_squared)\n",
    "\n",
    "    return train_r_squared_avg, train_r_squared_mdn\n",
    "    \n",
    "\n",
    "# train_r_squared_avg, train_r_squared_mdn = bootstrap_performance(x_train, y_train, lambda_value=0.01)\n",
    "# print train_r_squared_avg, train_r_squared_mdn"
   ]
  },
  {
   "cell_type": "code",
   "execution_count": 28,
   "metadata": {},
   "outputs": [],
   "source": [
    "# Function to plot both median and avg R-squared stats as a function of lambda\n",
    "def PlotR2_bootstrap(lambdas, r_squared_avg, r_squared_mdn, use_stats='both'):\n",
    "\n",
    "    fig, ax = plt.subplots(1, 1, figsize=(12, 9))\n",
    "\n",
    "    if use_stats=='both' or use_stats=='average':\n",
    "        ax.semilogx(10**lambdas, (r_squared_avg), c='b', label='Ridge: Subsample Average R2')\n",
    "    if use_stats=='both' or use_stats=='median':\n",
    "        ax.semilogx(10**lambdas, (r_squared_mdn), c='r', label='Ridge: Subsample Median R2')\n",
    "\n",
    "    ax.set_xlabel('Regularization parameter $\\lambda$')\n",
    "    ax.set_ylabel(r'$R^2$ score')\n",
    "\n",
    "    ax.legend(loc = 'best')\n",
    "\n",
    "    plt.show()"
   ]
  },
  {
   "cell_type": "code",
   "execution_count": 29,
   "metadata": {},
   "outputs": [
    {
     "name": "stdout",
     "output_type": "stream",
     "text": [
      "average R2 over subsamples, standard deviation: 0.234809022204\n",
      "median R2 over subsamples, standard deviation: 0.213453494371\n",
      "\n",
      "visualization makes me think median will be a more robust evaulation, less variation\n"
     ]
    },
    {
     "data": {
      "image/png": "[encoded data removed]",
      "text/plain": [
       "<matplotlib.figure.Figure at 0x17a43ef0>"
      ]
     },
     "metadata": {},
     "output_type": "display_data"
    }
   ],
   "source": [
    "# idea here is to compare subsample avg R2 vs. median R2 to determine which will work better for final solution\n",
    "lambda_min=-4\n",
    "lambda_max=4\n",
    "num_lambdas=100\n",
    "\n",
    "# chop up the range into num_lambdas values, high num_lambdas will significantly smooth the curves\n",
    "#  and of course more exact possible lambda values\n",
    "lambdas = np.linspace(lambda_min, lambda_max, num_lambdas)\n",
    "# tuple in format of lambda, avg R2, median R2\n",
    "train_r_squared_by_lambda = np.zeros((num_lambdas, 3))\n",
    "\n",
    "for ind, i in enumerate(lambdas):     \n",
    "    train_r_squared_avg, train_r_squared_mdn = bootstrap_performance(x_train, y_train, lambda_value=i)\n",
    "    train_r_squared_by_lambda[ind] = i, train_r_squared_avg, train_r_squared_mdn\n",
    "\n",
    "# bootstrap_median is more robust\n",
    "avg_std = train_r_squared_by_lambda[:,1].std()\n",
    "avg_mdn = train_r_squared_by_lambda[:,2].std()\n",
    "print 'average R2 over subsamples, standard deviation:', avg_std\n",
    "print 'median R2 over subsamples, standard deviation:', avg_mdn\n",
    "print\n",
    "print 'visualization makes me think median will be a more robust evaulation, less variation'\n",
    "PlotR2_bootstrap(lambdas, train_r_squared_by_lambda[:,1], train_r_squared_by_lambda[:,2] )\n"
   ]
  },
  {
   "cell_type": "code",
   "execution_count": 30,
   "metadata": {},
   "outputs": [
    {
     "name": "stdout",
     "output_type": "stream",
     "text": [
      "max (subsample-median) R^2: 0.899740061488\n"
     ]
    },
    {
     "data": {
      "image/png": "[encoded data removed]",
      "text/plain": [
       "<matplotlib.figure.Figure at 0x1722a668>"
      ]
     },
     "metadata": {},
     "output_type": "display_data"
    }
   ],
   "source": [
    "# Plot the cross-validation (CV) or bootstrapping R^2 score as a function of lambda\n",
    "\n",
    "# cutting the lambda range down a bit, we already saw the plot, so make this one a bit more useful\n",
    "lambda_min=-3\n",
    "lambda_max=3\n",
    "# increase for smoothness, decrease for fewer iterations (performance)\n",
    "num_lambdas=100\n",
    "\n",
    "lambdas = np.linspace(lambda_min, lambda_max, num_lambdas)\n",
    "# tuple in format of lambda, avg R2, median R2  (though we'll be disregarding avg values now)\n",
    "train_r_squared_by_lambda = np.zeros((num_lambdas, 3))\n",
    "\n",
    "for ind, i in enumerate(lambdas):     \n",
    "    _, train_r_squared_mdn = bootstrap_performance(x_train, y_train, lambda_value=i)\n",
    "    train_r_squared_by_lambda[ind] = i, _, train_r_squared_mdn\n",
    "\n",
    "print 'max (subsample-median) R^2: {}'.format(np.max(train_r_squared_by_lambda[:,2]))\n",
    "PlotR2_bootstrap(lambdas, train_r_squared_by_lambda[:,1], train_r_squared_by_lambda[:,2], use_stats='median' )\n"
   ]
  },
  {
   "cell_type": "markdown",
   "metadata": {},
   "source": [
    "#### How closely does the CV score or bootstrapping score match the R^2 score on the test set?\n",
    "\n",
    "The R^2 from from the test set in the earlier Ridge Regression from part c has been re-displayed below, but with more of a focus on the actual area that will matter. In that re-produced test set plot we can see a max R^2 of 0.9123. The max R^2 score above from boostrapping, using subsample median R^2 values is 0.89, not all that different."
   ]
  },
  {
   "cell_type": "code",
   "execution_count": 31,
   "metadata": {},
   "outputs": [
    {
     "name": "stdout",
     "output_type": "stream",
     "text": [
      "Regression: max R^2 score on training set 0.999846532953\n",
      "  Achieved with lambda value: 10**-3.4964964965\n",
      "Regression: max R^2 score on test set 0.912388097506\n",
      "  Achieved with lambda value: 10**-0.67967967968\n"
     ]
    },
    {
     "data": {
      "image/png": "[encoded data removed]",
      "text/plain": [
       "<matplotlib.figure.Figure at 0x1789d2e8>"
      ]
     },
     "metadata": {},
     "output_type": "display_data"
    }
   ],
   "source": [
    "# redo the Ridge regressoin models so as to avoid variable polution\n",
    "train_r_squared, test_r_squared, coeff_a, lambdas = MyRidgeReg(x_train, x_test, num_lambdas=1000)\n",
    "# but with only the middle set of numbers - have already seen that is the general area we are concerned with\n",
    "#  and the original plot was hard to read due to scaling issues with very negative R^2\n",
    "subset_begin = int(train_r_squared.size*.25)\n",
    "subset_end = int(train_r_squared.size*.75)\n",
    "\n",
    "PlotR2(lambdas[subset_begin:subset_end], train_r_squared[subset_begin:subset_end], test_r_squared[subset_begin:subset_end])"
   ]
  },
  {
   "cell_type": "markdown",
   "metadata": {},
   "source": [
    "\n",
    "#### Does the model with lowest CV score or bootstrapping score correspond to the one with maximum R^2 on the test set?  \n",
    "\n",
    "Can't say I really understand this question... ran out of time anyway.\n"
   ]
  },
  {
   "cell_type": "markdown",
   "metadata": {},
   "source": [
    "#### Does the model chosen by CV or bootstrapping perform better than plain linear regression?  \n",
    "\n",
    "With standard linear regression there was a highly negative test R^2 of around -11.3, so certainly the bootstrapping, which used Ridge regression, had superior performance."
   ]
  },
  {
   "cell_type": "markdown",
   "metadata": {},
   "source": [
    "## Problem 3: Ridge regression *via* ordinary least-squares regression\n",
    "\n",
    "We present an approach to implement Ridge regression using oridinary least-squares regression. Given a matrix of responses $\\mathbf{X} \\in \\mathbb{R}^{n\\times p}$ and response vector $\\mathbf{y} \\in \\mathbb{R}^{n}$, one can implement Ridge regression with regularization parameter $\\lambda$ as follows:\n",
    "\n",
    "- Augment the matrix of predictors $\\mathbf{X}$ with $p$ new rows containing the scaled identity matrix $\\sqrt{\\lambda}\\mathbf{I} \\in \\mathbb{R}^{p \\times p}$, i.e.\n",
    "$$\\overline{\\mathbf{X}} \\,=\\, \n",
    "\\begin{bmatrix}\n",
    "X_{11} & \\ldots & X_{1p}\\\\\n",
    "\\vdots & \\ddots & \\vdots\\\\\n",
    "X_{n1} & \\ldots & X_{np}\\\\\n",
    "\\sqrt{\\lambda} & \\ldots & 0\\\\\n",
    "\\vdots & \\ddots & \\vdots\\\\\n",
    "0 & \\ldots & \\sqrt{\\lambda}\n",
    "\\end{bmatrix}\n",
    "\\,\\in\\,\n",
    "\\mathbb{R}^{(n+p)\\times p}\n",
    ".\n",
    "$$\n",
    "\n",
    "\n",
    "- Augment the response vector $\\mathbf{y}$ with a column of $p$ zeros, i.e.\n",
    "$$\n",
    "\\overline{\\mathbf{y}} \\,=\\, \n",
    "\\begin{bmatrix}\n",
    "y_{1}\\\\\n",
    "\\vdots\\\\\n",
    "y_{n}\\\\\n",
    "0\\\\\n",
    "\\vdots\\\\\n",
    "0\n",
    "\\end{bmatrix}\n",
    "\\,\\in\\,\n",
    "\\mathbb{R}^{n+p}.\n",
    "$$\n",
    "\n",
    "\n",
    "- Apply ordinary least-squares regression on the augmented data set $(\\overline{\\mathbf{X}}, \\overline{\\mathbf{y}})$.\n",
    "\n",
    "### Part (a): Show the proposed approach implements Ridge regression\n",
    "Show that the approach proposed above implements Ridge regression with parameter $\\lambda$."
   ]
  },
  {
   "cell_type": "markdown",
   "metadata": {},
   "source": [
    "### <font color='darkgreen'>Solution, Part(a):</font>"
   ]
  },
  {
   "cell_type": "markdown",
   "metadata": {},
   "source": [
    "NOTE: I left this one to the end and ran out of time. That being said, my linear algebra is minimal and it has been decades since a formal math class so a few more hours probably wouldn't haave helped.\n",
    "I can see the p zeros added to vector y will result in an attempt by the model to shrink each coefficient toward zero since those p zeros become what it is trying to estimate...the transpose multiplication ($ X^TX $) will result in each $ \\sqrt{\\lambda}\\ $ being being multipled by itself \n",
    "\n",
    "\n",
    "I'm left with writing this, the definition for least squares regression:\n",
    "\n",
    "$ w = (X^TX)^{-1}  X^TY$\n",
    "\n",
    "becoming the ridge regression solution:\n",
    "\n",
    "$ w = (X^T\\,X + \\lambda I)^{-1} X^T Y $\n",
    "\n",
    "somehow... "
   ]
  },
  {
   "cell_type": "markdown",
   "metadata": {},
   "source": [
    "### Part (b): Debug our implementation of ridge regression\n",
    "You're a grader for CS109A, the following is an implemention of Ridge regression (via the above approach) submitted by a student. The dataset is ``dataset_3.txt``. The regression model is fitted to a training set, and the R^2 scores of the fitted model on the training and test sets are plotted as a function of the regularization parameter. Grade this solution according to the following rubric (each category is equally weighted): \n",
    "\n",
    "- correctness\n",
    "\n",
    "- interpretation (if applicable)\n",
    "\n",
    "- code/algorithm design\n",
    "\n",
    "- presentation\n",
    "\n",
    "In addition to providing an holistic grade (between 0 to 5), provide a corrected version of this code that is submission quality."
   ]
  },
  {
   "cell_type": "markdown",
   "metadata": {},
   "source": [
    "### <font color='darkgreen'>Solution, Part(b):</font>"
   ]
  },
  {
   "cell_type": "markdown",
   "metadata": {},
   "source": [
    "Since the question is only asking for a single holistic grade and not a breakdown within those categories, I'll go with a 1.5 if that is available. Pressed for a whole number, assuming none of the starter code was available in a lab etc., I'll go with a 2. The student seemed to have a grasp of the concepts in terms of augmenting the matrixes etc. but there were many basic errors."
   ]
  },
  {
   "cell_type": "code",
   "execution_count": 32,
   "metadata": {},
   "outputs": [
    {
     "data": {
      "text/plain": [
       "[<matplotlib.lines.Line2D at 0x1a229da0>]"
      ]
     },
     "execution_count": 32,
     "metadata": {},
     "output_type": "execute_result"
    },
    {
     "data": {
      "image/png": "[encoded data removed]",
      "text/plain": [
       "<matplotlib.figure.Figure at 0x17d4dda0>"
      ]
     },
     "metadata": {},
     "output_type": "display_data"
    }
   ],
   "source": [
    "# Annotated original code, I tried to put my comments AFTER the the lines I was referring to\n",
    "\n",
    "# Fit\n",
    "def ridge(x_train, y_train, reg_param):\n",
    "    n=np.shape(x_train)[0]\n",
    "    # ERROR, want the number of predictors (p), not number of rows (n)   \n",
    "    # BAD using n, should use p as variable name\n",
    "    x_train=np.concatenate((x_train,reg_param*np.identity(n)),axis=1)\n",
    "    # ERROR, should be axis = 0, to concatenate I along rows\n",
    "    # ERROR, also, need concat matrix to be I matrix of square root of reg_param\n",
    "    y_train_=np.zeros((n+np.shape(x_train)[1],1))\n",
    "    # ERROR, already have n (# predictors) defined above, and only want to extend by that number\n",
    "    # BAD created a temp array for no reason, better to simply concatenate the np.zero by axis=1\n",
    "    for c in range(n):\n",
    "        y_train_[c]= y_train[c]\n",
    "        # BAD, just overwrote the np.zeros put into y_train, need to preserve those as dependent var\n",
    "    import sklearn\n",
    "    # BAD, place all imports at beginning, unless a very good reason not too, which I've run into a couple of times\n",
    "    #    Also, if this is the only module being used, much better to import only LinearRegression from sklearn\n",
    "    model = sklearn.linear_model.LinearRegression()\n",
    "    model.fit(x_train,y_train.reshape(-1,1))\n",
    "    # not sure about the reshape, don't need in my version but maybe it made sense given other code in this block\n",
    "    return model\n",
    "\n",
    "\n",
    "# ERROR, in the end we are still creating an OLS model and can use the .score() available via sklearn\n",
    "#   An 'new' implementation of score would not use augmentation w/identity matrix etc.\n",
    "def score(m,x_test,y_test, reg_param):\n",
    "    n=np.shape(x_train)[0]\n",
    "    x_test=np.concatenate((x_test,reg_param*np.identity(n)),axis=1)\n",
    "    y_test_=np.zeros((n+np.shape(x_test)[1],1))\n",
    "    for c in range(n):\n",
    "        y_test_[c]= y_test[c]\n",
    "    return m.score(x_test,y_test.reshape(-1,1))\n",
    "\n",
    "# Load\n",
    "data = np.loadtxt('datasets/dataset_3.txt', delimiter=',')\n",
    "n = data.shape[0]\n",
    "n = int(np.round(n*0.5))\n",
    "#BAD: more robust train size better, e.g. 75% train, 25% test\n",
    "x_train = data[0:n,0:100]\n",
    "y_train = data[0:n,100]\n",
    "x_test = data[n:2*n,0:100]\n",
    "y_test = data[n:2*n,100]\n",
    "\n",
    "# Params\n",
    "a=np.zeros(5)\n",
    "#BAD: variable naming is vague (unless 'a' means something in stats etc.)\n",
    "#BAD: 5 is treated as a magic number - use a decent variable instead and use again as appropriate below\n",
    "for i in range(-2,2):\n",
    "    #ERROR: should be range(-2,3), as-is a[4] is left at 0 instead of being 100 as intended\n",
    "    a[i+2]=10**i\n",
    "    \n",
    "    \n",
    "# Iterate\n",
    "rstr =np.zeros(5)\n",
    "rsts =np.zeros(5)\n",
    "# BAD variable names are vague, especially when working repeatedly with train/test better to include\n",
    "#    \"train\" & \"test\" in the variable names\n",
    "for j in range(0,5):    \n",
    "    # MULTIPLE ERROR, below used mix of i & j, standardize to one\n",
    "    m =ridge(x_train,y_train,a[i])\n",
    "    rstr[j]=score(m,x_train,y_train,a[j])\n",
    "    rsts[i]=score(m,x_test,y_test,a[i])\n",
    "\n",
    "# Plot\n",
    "# BAD, x-axis needs to be log values + there are no labels overall\n",
    "plt.plot(a,rstr)\n",
    "plt.plot(a,rsts)"
   ]
  },
  {
   "cell_type": "code",
   "execution_count": 33,
   "metadata": {},
   "outputs": [
    {
     "data": {
      "text/plain": [
       "<matplotlib.legend.Legend at 0x19fe2828>"
      ]
     },
     "execution_count": 33,
     "metadata": {},
     "output_type": "execute_result"
    },
    {
     "data": {
      "image/png": "[encoded data removed]",
      "text/plain": [
       "<matplotlib.figure.Figure at 0x1a2400f0>"
      ]
     },
     "metadata": {},
     "output_type": "display_data"
    }
   ],
   "source": [
    "### MY VERSION ###\n",
    "import sklearn\n",
    "\n",
    "# Fit\n",
    "def ridge(x_train, y_train, reg_param):\n",
    "    n=np.shape(x_train)[1]    \n",
    "    x_train=np.concatenate((x_train, np.sqrt(reg_param)*np.identity(n)),axis=0)\n",
    "    y_train_ = np.zeros(n)\n",
    "    y_train = np.concatenate((y_train, y_train_), axis=0)    \n",
    "    model = sklearn.linear_model.LinearRegression()    \n",
    "    model.fit(x_train,y_train)\n",
    "    \n",
    "    return model\n",
    "\n",
    "# Load\n",
    "data = np.loadtxt('datasets/dataset_3.txt', delimiter=',')\n",
    "n = data.shape[0]\n",
    "n = int(np.round(n*0.75))\n",
    "x_train = data[0:n,0:100]\n",
    "y_train = data[0:n,100]\n",
    "x_test = data[n:2*n,0:100]\n",
    "y_test = data[n:2*n,100]\n",
    "\n",
    "num_models = 5\n",
    "\n",
    "# Params\n",
    "lambdas=np.zeros(num_models)\n",
    "for i in range(-2,3):     \n",
    "    lambdas[i+2]=10**i\n",
    "\n",
    "# Iterate\n",
    "r_score_train = np.zeros(num_models)\n",
    "r_score_test = np.zeros(num_models)\n",
    "for j in range(0,num_models):    \n",
    "    m = ridge(x_train,y_train,lambdas[j])\n",
    "    r_score_train[j] = m.score(x_train, y_train)\n",
    "    r_score_test[j] = m.score(x_test, y_test)\n",
    "    \n",
    "# Plot\n",
    "fig, ax = plt.subplots(1, 1, figsize=(9, 6))\n",
    "ax.semilogx(10.0**lambdas, r_score_train, c='b', label='Train')\n",
    "ax.semilogx(10.0**lambdas, r_score_test, c='r', label='Test')\n",
    "ax.set_xlabel('Regularization parameter $\\lambda$')\n",
    "ax.set_ylabel(r'$R^2$ score')\n",
    "\n",
    "ax.legend(loc = 'best')\n",
    "\n"
   ]
  },
  {
   "cell_type": "code",
   "execution_count": 34,
   "metadata": {},
   "outputs": [
    {
     "data": {
      "text/plain": [
       "<matplotlib.legend.Legend at 0x1999a898>"
      ]
     },
     "execution_count": 34,
     "metadata": {},
     "output_type": "execute_result"
    },
    {
     "data": {
      "image/png": "[encoded data removed]",
      "text/plain": [
       "<matplotlib.figure.Figure at 0x1a2e7908>"
      ]
     },
     "metadata": {},
     "output_type": "display_data"
    }
   ],
   "source": [
    "# lets compare my updated-submission to a native sklearn.linear_model.Ridge solver\n",
    "\n",
    "# visually at least it looks like the same plot... dandy\n",
    "\n",
    "num_models = 5\n",
    "\n",
    "# Params\n",
    "lambdas=np.zeros(num_models)\n",
    "for i in range(-2,3):     \n",
    "    lambdas[i+2]=10**i\n",
    "\n",
    "# I'm setting up separate variables which I will submit to a native sklearn.linear_model.Ridge \n",
    "sklearn_reg_train = np.zeros(num_models)\n",
    "sklearn_reg_test = np.zeros(num_models)\n",
    "\n",
    "# Iterate\n",
    "for j in range(0,num_models):    \n",
    "    \n",
    "    sklearn_reg_ridge = Ridge_Reg(alpha = lambdas[j])\n",
    "    sklearn_reg_ridge.fit(x_train, y_train)\n",
    "    \n",
    "    sklearn_train_r2 = sklearn_reg_ridge.score(x_train, y_train)\n",
    "    sklearn_test_r2 = sklearn_reg_ridge.score(x_test, y_test)\n",
    "    sklearn_reg_train[j] = sklearn_train_r2\n",
    "    sklearn_reg_test[j] = sklearn_test_r2\n",
    "    \n",
    "fig, ax = plt.subplots(1, 1, figsize=(9, 6))\n",
    "ax.semilogx(10.0**lambdas, sklearn_reg_train, c='b', label='sklearn Ridge - Train')\n",
    "ax.semilogx(10.0**lambdas, sklearn_reg_test, c='r', label='sklearn Ridge - Test')\n",
    "ax.set_xlabel('Regularization parameter $\\lambda$')\n",
    "ax.set_ylabel(r'$R^2$ score')\n",
    "\n",
    "ax.legend(loc = 'best')\n"
   ]
  },
  {
   "cell_type": "markdown",
   "metadata": {},
   "source": [
    "## Challenge Problem: Predicting Outcome of a Fund-raising Campaign\n",
    "You are provided a data set containing details of mail sent to 95,412 potential donors for a fund-raising campaign of a not-for-profit organization. This data set also contains the amount donated by each donor. The task is to build a model that can estimate the amount that a donor would donate using his/her attributes. The data is contained in the file `dataset_3.txt`. Each row contains 376 attributes for a donor, followed by the donation amount.\n",
    "\n",
    "### Part (a): Fit regression model\n",
    "Build a suitable model to predict the donation amount. How good is your model? \n",
    "\n",
    "\n",
    "### Part (b): Evaluate the total profit of the fitted model\n",
    "Suppose you are told that the cost of mailing the donor is \\$7. Use your model to maximize profit. Implement, explain and rigorously justify your strategy. How does your strategry compare with blanket mailing everyone.\n",
    "\n",
    "### Part (c): Further Discussion\n",
    "In hindsight, thoroughly discuss the appropriatenes of using a regression model for this dataset (you must at least address the suitability with respect to profit maximization and model assumptions). Rigorously justify your reasoning. "
   ]
  }
 ],
 "metadata": {
  "anaconda-cloud": {},
  "kernelspec": {
   "display_name": "Python 3",
   "language": "python",
   "name": "python3"
  },
  "language_info": {
   "codemirror_mode": {
    "name": "ipython",
    "version": 3
   },
   "file_extension": ".py",
   "mimetype": "text/x-python",
   "name": "python",
   "nbconvert_exporter": "python",
   "pygments_lexer": "ipython3",
   "version": "3.6.1"
  }
 },
 "nbformat": 4,
 "nbformat_minor": 1
}
